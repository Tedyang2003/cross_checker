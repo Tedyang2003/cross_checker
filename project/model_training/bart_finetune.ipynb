{
 "cells": [
  {
   "cell_type": "markdown",
   "id": "02466128",
   "metadata": {},
   "source": [
    "## Fine Tuning of Bart large MNLI"
   ]
  },
  {
   "cell_type": "code",
   "execution_count": 177,
   "id": "82e55a46",
   "metadata": {},
   "outputs": [],
   "source": [
    "import pandas as pd\n",
    "from datasets import Dataset\n",
    "import torch\n",
    "from transformers import BartTokenizer\n"
   ]
  },
  {
   "cell_type": "markdown",
   "id": "8c7771c3",
   "metadata": {},
   "source": [
    "## Train"
   ]
  },
  {
   "cell_type": "code",
   "execution_count": 178,
   "id": "47a55a5e",
   "metadata": {},
   "outputs": [],
   "source": [
    "# Load your DataFrame\n",
    "df = pd.read_csv(\"./datasets/bart_data.csv\")  # or use your in-memory df\n",
    "df = df.drop(columns=[\"Unnamed: 0\"], errors=\"ignore\")  # safe even if not present\n",
    "\n",
    "# Map labels to integers\n",
    "label2id = {\"contradiction\": 0, \"neutral\": 1, \"entailment\": 2}\n",
    "df['label'] = df['label'].map(label2id)\n",
    "\n",
    "# Rename columns for consistency with HuggingFace\n",
    "df = df.rename(columns={\"claim\": \"premise\", \"original_question\": \"hypothesis\"})\n",
    "\n",
    "# Convert to HuggingFace dataset\n",
    "train_dataset = Dataset.from_pandas(df)\n"
   ]
  },
  {
   "cell_type": "code",
   "execution_count": 179,
   "id": "c4b6fa76",
   "metadata": {},
   "outputs": [
    {
     "data": {
      "text/plain": [
       "Dataset({\n",
       "    features: ['hypothesis', 'premise', 'label'],\n",
       "    num_rows: 1787\n",
       "})"
      ]
     },
     "execution_count": 179,
     "metadata": {},
     "output_type": "execute_result"
    }
   ],
   "source": [
    "train_dataset"
   ]
  },
  {
   "cell_type": "markdown",
   "id": "3dff59af",
   "metadata": {},
   "source": [
    "GPU Check"
   ]
  },
  {
   "cell_type": "code",
   "execution_count": 180,
   "id": "3003fb5a",
   "metadata": {},
   "outputs": [
    {
     "data": {
      "text/plain": [
       "True"
      ]
     },
     "execution_count": 180,
     "metadata": {},
     "output_type": "execute_result"
    }
   ],
   "source": [
    "torch.cuda.is_available()"
   ]
  },
  {
   "cell_type": "code",
   "execution_count": 181,
   "id": "02bc970c",
   "metadata": {},
   "outputs": [],
   "source": [
    "# Load your DataFrame\n",
    "val_df = pd.read_csv(\"./datasets/bart_val_data.csv\")  # or use your in-memory df\n",
    "val_df = val_df.drop(columns=[\"Unnamed: 0\"], errors=\"ignore\")  # safe even if not present\n",
    "\n",
    "# Map labels to integers\n",
    "label2id = {\"contradiction\": 0, \"neutral\": 1, \"entailment\": 2}\n",
    "val_df['label'] = val_df['label'].map(label2id)\n",
    "\n",
    "# Rename columns for consistency with HuggingFace\n",
    "val_df = val_df.rename(columns={\"claim\": \"premise\", \"original_question\": \"hypothesis\"})\n",
    "\n",
    "# Convert to HuggingFace dataset\n",
    "val_dataset = Dataset.from_pandas(val_df)"
   ]
  },
  {
   "cell_type": "code",
   "execution_count": 182,
   "id": "8d798329",
   "metadata": {},
   "outputs": [
    {
     "name": "stderr",
     "output_type": "stream",
     "text": [
      "Map: 100%|██████████| 1787/1787 [00:01<00:00, 1430.77 examples/s]\n",
      "Map: 100%|██████████| 375/375 [00:00<00:00, 1082.35 examples/s]\n"
     ]
    }
   ],
   "source": [
    "tokenizer = BartTokenizer.from_pretrained(\"facebook/bart-large-mnli\")\n",
    "\n",
    "def tokenize(example):\n",
    "    return tokenizer(\n",
    "        example[\"premise\"],\n",
    "        example[\"hypothesis\"],\n",
    "        truncation=True,\n",
    "        padding=\"max_length\",\n",
    "        max_length=100\n",
    "    )\n",
    "\n",
    "# Apply tokenizer\n",
    "train_dataset = train_dataset.map(tokenize, batched=True)\n",
    "val_dataset = val_dataset.map(tokenize, batched=True)\n",
    "\n",
    "# Format both datasets for PyTorch\n",
    "train_dataset.set_format(type='torch', columns=['input_ids', 'attention_mask', 'label'])\n",
    "val_dataset.set_format(type='torch', columns=['input_ids', 'attention_mask', 'label'])\n"
   ]
  },
  {
   "cell_type": "markdown",
   "id": "9f39e75a",
   "metadata": {},
   "source": [
    "Text percentile check to save vram space during training by checking sentence length distributions"
   ]
  },
  {
   "cell_type": "code",
   "execution_count": 183,
   "id": "5da64367",
   "metadata": {},
   "outputs": [
    {
     "name": "stdout",
     "output_type": "stream",
     "text": [
      "[39. 42. 45. 47. 51.]\n",
      "[40.   43.   47.   50.   56.52]\n"
     ]
    }
   ],
   "source": [
    "import numpy as np\n",
    "lengths = [len(tokenizer(p, h)['input_ids']) for p, h in zip(df['premise'], df['hypothesis'])]\n",
    "print(np.percentile(lengths, [50, 75, 90, 95, 99]))\n",
    "\n",
    "\n",
    "lengths = [len(tokenizer(p, h)['input_ids']) for p, h in zip(val_df['premise'], val_df['hypothesis'])]\n",
    "print(np.percentile(lengths, [50, 75, 90, 95, 99]))"
   ]
  },
  {
   "cell_type": "code",
   "execution_count": 184,
   "id": "4d146ba2",
   "metadata": {},
   "outputs": [],
   "source": [
    "from transformers import BartForSequenceClassification\n",
    "\n",
    "\n",
    "model = BartForSequenceClassification.from_pretrained(\n",
    "    \"facebook/bart-large-mnli\",\n",
    "    num_labels=3,\n",
    "    label2id={\"contradiction\": 0, \"neutral\": 1, \"entailment\": 2},\n",
    "    id2label={0: \"contradiction\", 1: \"neutral\", 2: \"entailment\"}\n",
    ")\n"
   ]
  },
  {
   "cell_type": "code",
   "execution_count": 185,
   "id": "b93fb608",
   "metadata": {},
   "outputs": [],
   "source": [
    "from sklearn.metrics import accuracy_score, precision_recall_fscore_support\n",
    "import numpy as np\n",
    "\n",
    "def compute_metrics(eval_pred):\n",
    "    logits, labels = eval_pred\n",
    "    if isinstance(logits, tuple):\n",
    "        logits = logits[0]\n",
    "    preds = np.argmax(logits, axis=-1)\n",
    "\n",
    "    # average='macro' gives equal weight to each class\n",
    "    precision, recall, f1, _ = precision_recall_fscore_support(labels, preds, average='macro')\n",
    "    accuracy = accuracy_score(labels, preds)\n",
    "\n",
    "    return {\n",
    "        \"accuracy\": accuracy,\n",
    "        \"precision\": precision,\n",
    "        \"recall\": recall,\n",
    "        \"f1\": f1\n",
    "    }\n"
   ]
  },
  {
   "cell_type": "code",
   "execution_count": 187,
   "id": "6c641f65",
   "metadata": {},
   "outputs": [
    {
     "name": "stderr",
     "output_type": "stream",
     "text": [
      "C:\\Users\\awsy2\\AppData\\Local\\Temp\\ipykernel_35168\\81068456.py:17: FutureWarning: `tokenizer` is deprecated and will be removed in version 5.0.0 for `Trainer.__init__`. Use `processing_class` instead.\n",
      "  trainer = Trainer(\n"
     ]
    }
   ],
   "source": [
    "from transformers import TrainingArguments, Trainer\n",
    "\n",
    "training_args = TrainingArguments(\n",
    "    output_dir=\"./bart-nli-finetuned\",\n",
    "    save_strategy=\"epoch\",\n",
    "    per_device_train_batch_size=3,\n",
    "    num_train_epochs=5,\n",
    "    weight_decay=0.01,\n",
    "    learning_rate=2e-5,  # or even 3e-5\n",
    "    logging_dir=\"./logs\",\n",
    "    logging_steps=10,\n",
    "    report_to=\"none\",\n",
    "    eval_strategy=\"epoch\",\n",
    "    load_best_model_at_end=True\n",
    ")\n",
    "\n",
    "trainer = Trainer(\n",
    "    model=model,\n",
    "    args=training_args,\n",
    "    train_dataset=train_dataset,\n",
    "    eval_dataset=val_dataset,  # optional here\n",
    "    tokenizer=tokenizer,\n",
    "    compute_metrics=compute_metrics\n",
    ")\n"
   ]
  },
  {
   "cell_type": "code",
   "execution_count": 188,
   "id": "bc11040d",
   "metadata": {},
   "outputs": [
    {
     "data": {
      "text/html": [
       "\n",
       "    <div>\n",
       "      \n",
       "      <progress value='2980' max='2980' style='width:300px; height:20px; vertical-align: middle;'></progress>\n",
       "      [2980/2980 16:47, Epoch 5/5]\n",
       "    </div>\n",
       "    <table border=\"1\" class=\"dataframe\">\n",
       "  <thead>\n",
       " <tr style=\"text-align: left;\">\n",
       "      <th>Epoch</th>\n",
       "      <th>Training Loss</th>\n",
       "      <th>Validation Loss</th>\n",
       "      <th>Accuracy</th>\n",
       "      <th>Precision</th>\n",
       "      <th>Recall</th>\n",
       "      <th>F1</th>\n",
       "    </tr>\n",
       "  </thead>\n",
       "  <tbody>\n",
       "    <tr>\n",
       "      <td>1</td>\n",
       "      <td>0.302300</td>\n",
       "      <td>1.023927</td>\n",
       "      <td>0.797333</td>\n",
       "      <td>0.778714</td>\n",
       "      <td>0.787299</td>\n",
       "      <td>0.778495</td>\n",
       "    </tr>\n",
       "    <tr>\n",
       "      <td>2</td>\n",
       "      <td>0.000700</td>\n",
       "      <td>1.332166</td>\n",
       "      <td>0.821333</td>\n",
       "      <td>0.840573</td>\n",
       "      <td>0.760189</td>\n",
       "      <td>0.773998</td>\n",
       "    </tr>\n",
       "    <tr>\n",
       "      <td>3</td>\n",
       "      <td>0.004200</td>\n",
       "      <td>1.161365</td>\n",
       "      <td>0.848000</td>\n",
       "      <td>0.821855</td>\n",
       "      <td>0.812495</td>\n",
       "      <td>0.816129</td>\n",
       "    </tr>\n",
       "    <tr>\n",
       "      <td>4</td>\n",
       "      <td>0.000200</td>\n",
       "      <td>1.145824</td>\n",
       "      <td>0.845333</td>\n",
       "      <td>0.833179</td>\n",
       "      <td>0.806035</td>\n",
       "      <td>0.814454</td>\n",
       "    </tr>\n",
       "    <tr>\n",
       "      <td>5</td>\n",
       "      <td>0.000100</td>\n",
       "      <td>1.137919</td>\n",
       "      <td>0.848000</td>\n",
       "      <td>0.834745</td>\n",
       "      <td>0.801781</td>\n",
       "      <td>0.811362</td>\n",
       "    </tr>\n",
       "  </tbody>\n",
       "</table><p>"
      ],
      "text/plain": [
       "<IPython.core.display.HTML object>"
      ]
     },
     "metadata": {},
     "output_type": "display_data"
    },
    {
     "name": "stderr",
     "output_type": "stream",
     "text": [
      "There were missing keys in the checkpoint model loaded: ['model.encoder.embed_tokens.weight', 'model.decoder.embed_tokens.weight'].\n"
     ]
    },
    {
     "data": {
      "text/plain": [
       "TrainOutput(global_step=2980, training_loss=0.25746208911924934, metrics={'train_runtime': 1008.3091, 'train_samples_per_second': 8.861, 'train_steps_per_second': 2.955, 'total_flos': 1896569134803000.0, 'train_loss': 0.25746208911924934, 'epoch': 5.0})"
      ]
     },
     "execution_count": 188,
     "metadata": {},
     "output_type": "execute_result"
    }
   ],
   "source": [
    "trainer.train()\n"
   ]
  },
  {
   "cell_type": "code",
   "execution_count": 174,
   "id": "c4fb7f14",
   "metadata": {},
   "outputs": [
    {
     "data": {
      "text/html": [],
      "text/plain": [
       "<IPython.core.display.HTML object>"
      ]
     },
     "metadata": {},
     "output_type": "display_data"
    },
    {
     "data": {
      "image/png": "[encoded data removed]",
      "text/plain": [
       "<Figure size 640x480 with 2 Axes>"
      ]
     },
     "metadata": {},
     "output_type": "display_data"
    }
   ],
   "source": [
    "from sklearn.metrics import confusion_matrix, ConfusionMatrixDisplay\n",
    "import matplotlib.pyplot as plt\n",
    "import numpy as np\n",
    "\n",
    "# Extract predictions from trainer\n",
    "preds_output = trainer.predict(val_dataset)\n",
    "\n",
    "# If predictions is a tuple (common), get the first element\n",
    "logits = preds_output.predictions\n",
    "if isinstance(logits, tuple):\n",
    "    logits = logits[0]\n",
    "\n",
    "# Now compute predicted labels\n",
    "preds = np.argmax(logits, axis=-1)\n",
    "labels = preds_output.label_ids\n",
    "\n",
    "# Confusion matrix\n",
    "cm = confusion_matrix(labels, preds)\n",
    "disp = ConfusionMatrixDisplay(confusion_matrix=cm, display_labels=['Contradiction', 'Neutral', 'Entailment'])\n",
    "disp.plot(cmap='Blues')\n",
    "plt.title(\"Confusion Matrix on Validation Set\")\n",
    "plt.show()\n"
   ]
  },
  {
   "cell_type": "code",
   "execution_count": 175,
   "id": "600b0e7f",
   "metadata": {},
   "outputs": [
    {
     "data": {
      "text/html": [
       "\n",
       "    <div>\n",
       "      \n",
       "      <progress value='2' max='47' style='width:300px; height:20px; vertical-align: middle;'></progress>\n",
       "      [ 2/47 00:00 < 00:01, 31.80 it/s]\n",
       "    </div>\n",
       "    "
      ],
      "text/plain": [
       "<IPython.core.display.HTML object>"
      ]
     },
     "metadata": {},
     "output_type": "display_data"
    },
    {
     "data": {
      "text/html": [
       "<div>\n",
       "<style scoped>\n",
       "    .dataframe tbody tr th:only-of-type {\n",
       "        vertical-align: middle;\n",
       "    }\n",
       "\n",
       "    .dataframe tbody tr th {\n",
       "        vertical-align: top;\n",
       "    }\n",
       "\n",
       "    .dataframe thead th {\n",
       "        text-align: right;\n",
       "    }\n",
       "</style>\n",
       "<table border=\"1\" class=\"dataframe\">\n",
       "  <thead>\n",
       "    <tr style=\"text-align: right;\">\n",
       "      <th></th>\n",
       "      <th>premise</th>\n",
       "      <th>hypothesis</th>\n",
       "      <th>true_label</th>\n",
       "      <th>predicted_label</th>\n",
       "    </tr>\n",
       "  </thead>\n",
       "  <tbody>\n",
       "    <tr>\n",
       "      <th>0</th>\n",
       "      <td>A study published in 2024 indicated that the global average life expectancy dropped to 71.8 years.</td>\n",
       "      <td>Was the average global life expectancy 73.4 years in 2024?</td>\n",
       "      <td>contradiction</td>\n",
       "      <td>contradiction</td>\n",
       "    </tr>\n",
       "    <tr>\n",
       "      <th>1</th>\n",
       "      <td>By mid-2024, the international student population in Canada was estimated to be around 910,000.</td>\n",
       "      <td>Did the number of international students in Canada surpass 900,000 in 2024?</td>\n",
       "      <td>entailment</td>\n",
       "      <td>contradiction</td>\n",
       "    </tr>\n",
       "    <tr>\n",
       "      <th>2</th>\n",
       "      <td>By early 2024, over 250 million COVID-19 vaccine doses had been administered across Africa.</td>\n",
       "      <td>Were more than 230 million COVID-19 vaccine doses administered in Africa by 2024?</td>\n",
       "      <td>entailment</td>\n",
       "      <td>contradiction</td>\n",
       "    </tr>\n",
       "    <tr>\n",
       "      <th>3</th>\n",
       "      <td>In 2022, the average hospital stay in the U.S. was 5.1 days, indicating a slight decline.</td>\n",
       "      <td>Was the average hospital stay in the U.S. reduced to 4.8 days in 2023?</td>\n",
       "      <td>neutral</td>\n",
       "      <td>contradiction</td>\n",
       "    </tr>\n",
       "    <tr>\n",
       "      <th>4</th>\n",
       "      <td>Research shows that the increase in average sea level from 1993 to 2023 is around 98 millimeters.</td>\n",
       "      <td>Was the average sea level 98 millimeters higher in 2023 compared to 1993?</td>\n",
       "      <td>entailment</td>\n",
       "      <td>entailment</td>\n",
       "    </tr>\n",
       "  </tbody>\n",
       "</table>\n",
       "</div>"
      ],
      "text/plain": [
       "                                                                                              premise  \\\n",
       "0  A study published in 2024 indicated that the global average life expectancy dropped to 71.8 years.   \n",
       "1     By mid-2024, the international student population in Canada was estimated to be around 910,000.   \n",
       "2         By early 2024, over 250 million COVID-19 vaccine doses had been administered across Africa.   \n",
       "3           In 2022, the average hospital stay in the U.S. was 5.1 days, indicating a slight decline.   \n",
       "4   Research shows that the increase in average sea level from 1993 to 2023 is around 98 millimeters.   \n",
       "\n",
       "                                                                          hypothesis  \\\n",
       "0                         Was the average global life expectancy 73.4 years in 2024?   \n",
       "1        Did the number of international students in Canada surpass 900,000 in 2024?   \n",
       "2  Were more than 230 million COVID-19 vaccine doses administered in Africa by 2024?   \n",
       "3             Was the average hospital stay in the U.S. reduced to 4.8 days in 2023?   \n",
       "4          Was the average sea level 98 millimeters higher in 2023 compared to 1993?   \n",
       "\n",
       "      true_label predicted_label  \n",
       "0  contradiction   contradiction  \n",
       "1     entailment   contradiction  \n",
       "2     entailment   contradiction  \n",
       "3        neutral   contradiction  \n",
       "4     entailment      entailment  "
      ]
     },
     "execution_count": 175,
     "metadata": {},
     "output_type": "execute_result"
    }
   ],
   "source": [
    "# Get predictions\n",
    "preds_output = trainer.predict(val_dataset)\n",
    "logits = preds_output.predictions\n",
    "if isinstance(logits, tuple):\n",
    "    logits = logits[0]\n",
    "preds = np.argmax(logits, axis=-1)\n",
    "labels = preds_output.label_ids\n",
    "\n",
    "# Get the original text fields from val_dataset\n",
    "# Assuming val_dataset was a HuggingFace Dataset and still has the original columns\n",
    "premises = val_dataset['premise']\n",
    "hypotheses = val_dataset['hypothesis']\n",
    "\n",
    "# Convert label IDs to text if needed\n",
    "id2label = {0: \"contradiction\", 1: \"neutral\", 2: \"entailment\"}\n",
    "label_texts = [id2label[i] for i in labels]\n",
    "pred_texts = [id2label[i] for i in preds]\n",
    "\n",
    "# Create DataFrame\n",
    "df_preds = pd.DataFrame({\n",
    "    'premise': premises,\n",
    "    'hypothesis': hypotheses,\n",
    "    'true_label': label_texts,\n",
    "    'predicted_label': pred_texts\n",
    "})\n",
    "\n",
    "# Show it\n",
    "df_preds.head()"
   ]
  },
  {
   "cell_type": "code",
   "execution_count": 176,
   "id": "05164718",
   "metadata": {},
   "outputs": [
    {
     "data": {
      "text/html": [
       "<div>\n",
       "<style scoped>\n",
       "    .dataframe tbody tr th:only-of-type {\n",
       "        vertical-align: middle;\n",
       "    }\n",
       "\n",
       "    .dataframe tbody tr th {\n",
       "        vertical-align: top;\n",
       "    }\n",
       "\n",
       "    .dataframe thead th {\n",
       "        text-align: right;\n",
       "    }\n",
       "</style>\n",
       "<table border=\"1\" class=\"dataframe\">\n",
       "  <thead>\n",
       "    <tr style=\"text-align: right;\">\n",
       "      <th></th>\n",
       "      <th>premise</th>\n",
       "      <th>hypothesis</th>\n",
       "      <th>true_label</th>\n",
       "      <th>predicted_label</th>\n",
       "    </tr>\n",
       "  </thead>\n",
       "  <tbody>\n",
       "    <tr>\n",
       "      <th>1</th>\n",
       "      <td>By mid-2024, the international student population in Canada was estimated to be around 910,000.</td>\n",
       "      <td>Did the number of international students in Canada surpass 900,000 in 2024?</td>\n",
       "      <td>entailment</td>\n",
       "      <td>contradiction</td>\n",
       "    </tr>\n",
       "    <tr>\n",
       "      <th>2</th>\n",
       "      <td>By early 2024, over 250 million COVID-19 vaccine doses had been administered across Africa.</td>\n",
       "      <td>Were more than 230 million COVID-19 vaccine doses administered in Africa by 2024?</td>\n",
       "      <td>entailment</td>\n",
       "      <td>contradiction</td>\n",
       "    </tr>\n",
       "    <tr>\n",
       "      <th>3</th>\n",
       "      <td>In 2022, the average hospital stay in the U.S. was 5.1 days, indicating a slight decline.</td>\n",
       "      <td>Was the average hospital stay in the U.S. reduced to 4.8 days in 2023?</td>\n",
       "      <td>neutral</td>\n",
       "      <td>contradiction</td>\n",
       "    </tr>\n",
       "    <tr>\n",
       "      <th>7</th>\n",
       "      <td>According to recent statistics, South Korea's average internet speed reached 100 Mbps exactly in 2024.</td>\n",
       "      <td>Did the average internet speed in South Korea exceed 100 Mbps in 2024?</td>\n",
       "      <td>entailment</td>\n",
       "      <td>contradiction</td>\n",
       "    </tr>\n",
       "    <tr>\n",
       "      <th>19</th>\n",
       "      <td>By the end of 2023, the U.S. population was estimated to be about 337 million.</td>\n",
       "      <td>Was the population of the United States approximately 334 million in 2023?</td>\n",
       "      <td>contradiction</td>\n",
       "      <td>entailment</td>\n",
       "    </tr>\n",
       "    <tr>\n",
       "      <th>...</th>\n",
       "      <td>...</td>\n",
       "      <td>...</td>\n",
       "      <td>...</td>\n",
       "      <td>...</td>\n",
       "    </tr>\n",
       "    <tr>\n",
       "      <th>352</th>\n",
       "      <td>In Q4 2023, Apple reported a significant increase in iPhone sales compared to the previous quarter.</td>\n",
       "      <td>Did Apple sell more than 85 million iPhones globally in Q4 2023?</td>\n",
       "      <td>neutral</td>\n",
       "      <td>contradiction</td>\n",
       "    </tr>\n",
       "    <tr>\n",
       "      <th>357</th>\n",
       "      <td>Research found that the average daily screen time for teenagers in urban areas was 7 hours and 15 minutes.</td>\n",
       "      <td>Was the average daily screen time for teenagers above 7 hours in 2023?</td>\n",
       "      <td>neutral</td>\n",
       "      <td>contradiction</td>\n",
       "    </tr>\n",
       "    <tr>\n",
       "      <th>366</th>\n",
       "      <td>By the end of 2024, South Korea's average internet speed was recorded at 101 Mbps, exceeding 100 Mbps.</td>\n",
       "      <td>Did the average internet speed in South Korea exceed 100 Mbps in 2024?</td>\n",
       "      <td>contradiction</td>\n",
       "      <td>entailment</td>\n",
       "    </tr>\n",
       "    <tr>\n",
       "      <th>368</th>\n",
       "      <td>The S&amp;P 500 index closed at 4,850 points on December 31, 2024.</td>\n",
       "      <td>Did the S&amp;P 500 index close above 4,800 points at the end of 2024?</td>\n",
       "      <td>entailment</td>\n",
       "      <td>contradiction</td>\n",
       "    </tr>\n",
       "    <tr>\n",
       "      <th>370</th>\n",
       "      <td>A study indicated that the fashion sector accounted for around 10% of total global carbon emissions in the year 2024.</td>\n",
       "      <td>Did the global fashion industry contribute 10% of annual carbon emissions in 2024?</td>\n",
       "      <td>entailment</td>\n",
       "      <td>contradiction</td>\n",
       "    </tr>\n",
       "  </tbody>\n",
       "</table>\n",
       "<p>79 rows × 4 columns</p>\n",
       "</div>"
      ],
      "text/plain": [
       "                                                                                                                   premise  \\\n",
       "1                          By mid-2024, the international student population in Canada was estimated to be around 910,000.   \n",
       "2                              By early 2024, over 250 million COVID-19 vaccine doses had been administered across Africa.   \n",
       "3                                In 2022, the average hospital stay in the U.S. was 5.1 days, indicating a slight decline.   \n",
       "7                   According to recent statistics, South Korea's average internet speed reached 100 Mbps exactly in 2024.   \n",
       "19                                          By the end of 2023, the U.S. population was estimated to be about 337 million.   \n",
       "..                                                                                                                     ...   \n",
       "352                    In Q4 2023, Apple reported a significant increase in iPhone sales compared to the previous quarter.   \n",
       "357             Research found that the average daily screen time for teenagers in urban areas was 7 hours and 15 minutes.   \n",
       "366                 By the end of 2024, South Korea's average internet speed was recorded at 101 Mbps, exceeding 100 Mbps.   \n",
       "368                                                         The S&P 500 index closed at 4,850 points on December 31, 2024.   \n",
       "370  A study indicated that the fashion sector accounted for around 10% of total global carbon emissions in the year 2024.   \n",
       "\n",
       "                                                                             hypothesis  \\\n",
       "1           Did the number of international students in Canada surpass 900,000 in 2024?   \n",
       "2     Were more than 230 million COVID-19 vaccine doses administered in Africa by 2024?   \n",
       "3                Was the average hospital stay in the U.S. reduced to 4.8 days in 2023?   \n",
       "7                Did the average internet speed in South Korea exceed 100 Mbps in 2024?   \n",
       "19           Was the population of the United States approximately 334 million in 2023?   \n",
       "..                                                                                  ...   \n",
       "352                    Did Apple sell more than 85 million iPhones globally in Q4 2023?   \n",
       "357              Was the average daily screen time for teenagers above 7 hours in 2023?   \n",
       "366              Did the average internet speed in South Korea exceed 100 Mbps in 2024?   \n",
       "368                  Did the S&P 500 index close above 4,800 points at the end of 2024?   \n",
       "370  Did the global fashion industry contribute 10% of annual carbon emissions in 2024?   \n",
       "\n",
       "        true_label predicted_label  \n",
       "1       entailment   contradiction  \n",
       "2       entailment   contradiction  \n",
       "3          neutral   contradiction  \n",
       "7       entailment   contradiction  \n",
       "19   contradiction      entailment  \n",
       "..             ...             ...  \n",
       "352        neutral   contradiction  \n",
       "357        neutral   contradiction  \n",
       "366  contradiction      entailment  \n",
       "368     entailment   contradiction  \n",
       "370     entailment   contradiction  \n",
       "\n",
       "[79 rows x 4 columns]"
      ]
     },
     "execution_count": 176,
     "metadata": {},
     "output_type": "execute_result"
    }
   ],
   "source": [
    "pd.set_option('display.max_colwidth', None)\n",
    "df_preds[df_preds['true_label'] != df_preds['predicted_label']]"
   ]
  },
  {
   "cell_type": "code",
   "execution_count": 149,
   "id": "70c4691c",
   "metadata": {},
   "outputs": [],
   "source": [
    "import gc\n",
    "torch.cuda.empty_cache()\n",
    "torch.cuda.ipc_collect()\n",
    "gc.collect()\n",
    "del model\n",
    "del tokenizer"
   ]
  },
  {
   "cell_type": "code",
   "execution_count": null,
   "id": "00360c16",
   "metadata": {},
   "outputs": [],
   "source": []
  },
  {
   "cell_type": "code",
   "execution_count": null,
   "id": "538992b9",
   "metadata": {},
   "outputs": [],
   "source": []
  }
 ],
 "metadata": {
  "kernelspec": {
   "display_name": ".venv",
   "language": "python",
   "name": "python3"
  },
  "language_info": {
   "codemirror_mode": {
    "name": "ipython",
    "version": 3
   },
   "file_extension": ".py",
   "mimetype": "text/x-python",
   "name": "python",
   "nbconvert_exporter": "python",
   "pygments_lexer": "ipython3",
   "version": "3.11.0"
  }
 },
 "nbformat": 4,
 "nbformat_minor": 5
}
