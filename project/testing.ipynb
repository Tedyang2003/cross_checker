{
 "cells": [
  {
   "cell_type": "markdown",
   "id": "3c4731ee",
   "metadata": {},
   "source": [
    "## RAG Approach to News similarity comparison\n",
    "\n",
    "In order to develop such an app, RAG based solutions can be employed with some process modifiers to make the querying much more viable and broad in context. In the naive rag methodology, the system would typically look up sources relating to the language semantics of the query\n",
    "\n",
    "For example for the question:\n",
    "\n",
    "\"How many people were trapped in the mountingbourn cave\" \n",
    "\n",
    "The RAG system looks up sources that relates to things such as \n",
    "- mountingbourn cave \n",
    "- trapped \n",
    "- how many people\n",
    "\n",
    "With questions like these it is great and easy to answer but the pulling of sources may perform worse in the context of more open ended and implicitly implied questions. \n",
    "\n",
    "For example: \"Is trump corruupt\" would lead to the system pulling information that can be considered as one sided, ultimately affecting the percieved message given to the user. Reasons would be due to how \n",
    "- US media is more left wing than right wing leading to article imbalance with more against him than for him, displaying how majority is not equal to reliability\n",
    "- Media companies would use negativity as clickbait (Phrasing \"Trump displays corruption\") \n",
    "\n",
    "Hence although yes RAG, but RAG is not sufficient"
   ]
  },
  {
   "cell_type": "code",
   "execution_count": 1,
   "id": "3652dd8d",
   "metadata": {},
   "outputs": [],
   "source": [
    "from openai import OpenAI\n",
    "from getpass import getpass\n",
    "import json\n",
    "import pandas as pd\n",
    "from sklearn.cluster import DBSCAN\n",
    "import hdbscan\n",
    "import numpy as np"
   ]
  },
  {
   "cell_type": "code",
   "execution_count": 2,
   "id": "db456de5",
   "metadata": {},
   "outputs": [],
   "source": [
    "openai_key = getpass(\"Enter your API Key:\")\n",
    "client = OpenAI(api_key=openai_key)"
   ]
  },
  {
   "cell_type": "code",
   "execution_count": 3,
   "id": "69bb17f6",
   "metadata": {},
   "outputs": [],
   "source": [
    "def set_role(system_prompt, set_json=False):\n",
    "    def get_completion(prompt, model=\"gpt-4o-mini\"):\n",
    "        messages = [{\"role\":\"system\", \"content\": system_prompt}, {\"role\": \"user\", \"content\": f\"{prompt}\"}]\n",
    "        response = client.chat.completions.create(\n",
    "            model=model,\n",
    "            messages=messages,\n",
    "            temperature=0, # this is the degree of randomness of the model's output\n",
    "        )\n",
    "        return json.loads(response.choices[0].message.content) if set_json else response.choices[0].message.content\n",
    "    \n",
    "    return get_completion"
   ]
  },
  {
   "cell_type": "markdown",
   "id": "39fd13af",
   "metadata": {},
   "source": [
    "## Question Expansion\n",
    "\n",
    "One possible method in achieving a more openly driven semantic search would be to expand the query before sending it for embedding and vector DB retrieval.\n",
    "Possible solution would be to use a LLM to expand the query"
   ]
  },
  {
   "cell_type": "code",
   "execution_count": 5,
   "id": "03b89422",
   "metadata": {},
   "outputs": [
    {
     "data": {
      "text/plain": [
       "{'original': 'How many were caught in the implosion of the Oceangate incident',\n",
       " 'all_sub_questions': ['What is the total number of individuals who were aboard the Oceangate vessel at the time of the incident?',\n",
       "  'What were the circumstances surrounding the implosion of the Oceangate submersible, and how many people were involved?',\n",
       "  'Were there any survivors from the Oceangate incident, and if so, how many?',\n",
       "  'Have any investigations concluded that the number of individuals reported as caught in the incident was exaggerated?',\n",
       "  'What safety measures were in place for the Oceangate expedition, and how might they have affected the outcome?',\n",
       "  'How have different media outlets reported on the number of individuals involved in the Oceangate incident?',\n",
       "  'What do experts say about the implications of the Oceangate incident for future deep-sea exploration?',\n",
       "  'How do various reports compare in terms of the number of people caught in the Oceangate implosion?']}"
      ]
     },
     "execution_count": 5,
     "metadata": {},
     "output_type": "execute_result"
    }
   ],
   "source": [
    "system_prompt = \"\"\"\n",
    "You are an intelligent research assistant that helps break down vague or subjective queries for evidence-based investigation\n",
    "Given a user query contained within the query tag <query> expand the question to encompass the following \n",
    "Ensure that the questions are creative and suit the role of the person, do not simply swap vocabulary\n",
    "Provide your answer as a JSON object like the one in the example tag where all sub questions are collated in a single list\n",
    "\n",
    "<requirements>\n",
    "- At least 2 sub questions that support the original query\n",
    "- At least 2 sub questions that go against the original query\n",
    "- At least 2 sub questions that take a neutral stance\n",
    "- 2 third person perspective questions\n",
    "</requirements>\n",
    "\n",
    "<example>\n",
    "{\n",
    "  \"original\": \"Is donald trump corrupt\",\n",
    "  \"all_sub_questions\": [\n",
    "    \"What are the major corruption allegations made against Donald Trump during his presidency?\",\n",
    "    \"Have any court cases or legal inquiries found Trump guilty of unethical or corrupt practices?\".\n",
    "    \"Have any official investigations concluded that Donald Trump did not engage in corruption?\",\n",
    "    \"Were corruption allegations against Donald Trump politically motivated with no legal standing?\",\n",
    "    \"What were the main legal and ethical controversies associated with Donald Trump?\",\n",
    "    \"How has media coverage of Trump’s alleged corruption varied across sources?\",\n",
    "    \"How do historians evaluate the ethical conduct of Donald Trump during his time in office?\",\n",
    "    \"What do international news outlets report about Trump’s alleged corruption?\"\n",
    "  ]\n",
    "}\n",
    "</example>\n",
    "\n",
    "\"\"\"\n",
    "\n",
    "expansion_gpt = set_role(system_prompt,set_json=True)\n",
    "results = expansion_gpt(\"<query>How many were caught in the implosion of the oceangate incident</query>\")\n",
    "results"
   ]
  },
  {
   "cell_type": "markdown",
   "id": "4dfbc524",
   "metadata": {},
   "source": [
    "## Trail Dataset (Multinews)\n",
    "To simulate and test the usage of this rag broadening method, we will use the dataset Multi news by alexfabbri\n",
    "\n",
    "Found in the link here https://huggingface.co/datasets/alexfabbri/multi_news/tree/main/data\n",
    "\n",
    "The Multi-News dataset is a multi-document summarization dataset consisting of news articles grouped by topic, where each group has:\n",
    "- 2 to 10 news articles covering the same event or topic\n",
    "- A human-written summary that combines key information from all articles\n",
    "\n",
    "2 train files are given \n",
    "- train.tgt which contains the summary \n",
    "- train src cleaned which contains the articles themselves (Each row is on a topic, each article per row is delimited by '|||||')\n",
    "\n",
    "\n"
   ]
  },
  {
   "cell_type": "code",
   "execution_count": 6,
   "id": "cff69685",
   "metadata": {},
   "outputs": [
    {
     "name": "stdout",
     "output_type": "stream",
     "text": [
      "Source: National Archives NEWLINE_CHAR NEWLINE_CHAR Yes, it’s that time again, folks. It’s the first Friday of the month, when for one ever-so-brief moment the interests of Wall Street, Washington and Main Street are all aligned on one thing: Jobs. NEWLINE_CHAR NEWLINE_CHAR A fresh update on the U.S. employment situation for January hits the wires at 8:30 a.m. New York time offering one of the most important snapshots on how the economy fared during the previous month. Expectations are for 203,000 new jobs to be created, according to economists polled by Dow Jones Newswires, compared to 227,000 jobs added in February. The unemployment rate is expected to hold steady at 8.3%. NEWLINE_CHAR NEWLINE_CHAR Here at MarketBeat HQ, we’ll be offering color commentary before and after the data crosses the wires. Feel free to weigh-in yourself, via the comments section. And while you’re here, why don’t you sign up to follow us on Twitter. NEWLINE_CHAR NEWLINE_CHAR Enjoy the show. ||||| Employers pulled back sharply on hiring last month, a reminder that the U.S. economy may not be growing fast enough to sustain robust job growth. The unemployment rate dipped, but mostly because more Americans stopped looking for work. NEWLINE_CHAR NEWLINE_CHAR The Labor Department says the economy added 120,000 jobs in March, down from more than 200,000 in each of the previous three months. NEWLINE_CHAR NEWLINE_CHAR The unemployment rate fell to 8.2 percent, the lowest since January 2009. The rate dropped because fewer people searched for jobs. The official unemployment tally only includes those seeking work. NEWLINE_CHAR NEWLINE_CHAR The economy has added 858,000 jobs since December _ the best four months of hiring in two years. But Federal Reserve Chairman Ben Bernanke has cautioned that the current hiring pace is unlikely to continue without more consumer spending.\n",
      "Target (Summary): – The unemployment rate dropped to 8.2% last month, but the economy only added 120,000 jobs, when 203,000 new jobs had been predicted, according to today's jobs report. Reaction on the Wall Street Journal's MarketBeat Blog was swift: \"Woah!!! Bad number.\" The unemployment rate, however, is better news; it had been expected to hold steady at 8.3%. But the AP notes that the dip is mostly due to more Americans giving up on seeking employment.\n"
     ]
    }
   ],
   "source": [
    "\n",
    "relative = \"datasets/\"\n",
    "source = \"train.src.cleaned\"\n",
    "target = \"train.tgt\"\n",
    "\n",
    "with open(f'{relative}{source}', 'r', encoding='utf-8') as f:\n",
    "    sources = f.readlines()\n",
    "\n",
    "with open(f'{relative}{target}', 'r', encoding='utf-8') as f:\n",
    "    targets = f.readlines()\n",
    "\n",
    "# Clean up\n",
    "sources = [s.strip() for s in sources]\n",
    "targets = [t.strip() for t in targets]\n",
    "\n",
    "# Check if aligned\n",
    "assert len(sources) == len(targets)\n",
    "\n",
    "# Example pair\n",
    "print(\"Source:\", sources[0])\n",
    "print(\"Target (Summary):\", targets[0])\n",
    "\n"
   ]
  },
  {
   "cell_type": "markdown",
   "id": "c927e7c9",
   "metadata": {},
   "source": [
    "Splitting of topic into their separate articles"
   ]
  },
  {
   "cell_type": "code",
   "execution_count": 7,
   "id": "cbf14b41",
   "metadata": {},
   "outputs": [
    {
     "name": "stdout",
     "output_type": "stream",
     "text": [
      "Articles DataFrame:\n"
     ]
    },
    {
     "data": {
      "text/html": [
       "<div>\n",
       "<style scoped>\n",
       "    .dataframe tbody tr th:only-of-type {\n",
       "        vertical-align: middle;\n",
       "    }\n",
       "\n",
       "    .dataframe tbody tr th {\n",
       "        vertical-align: top;\n",
       "    }\n",
       "\n",
       "    .dataframe thead th {\n",
       "        text-align: right;\n",
       "    }\n",
       "</style>\n",
       "<table border=\"1\" class=\"dataframe\">\n",
       "  <thead>\n",
       "    <tr style=\"text-align: right;\">\n",
       "      <th></th>\n",
       "      <th>article_id</th>\n",
       "      <th>topic_id</th>\n",
       "      <th>article</th>\n",
       "    </tr>\n",
       "  </thead>\n",
       "  <tbody>\n",
       "    <tr>\n",
       "      <th>0</th>\n",
       "      <td>0</td>\n",
       "      <td>0</td>\n",
       "      <td>National Archives \\n \\n Yes, it’s that time ag...</td>\n",
       "    </tr>\n",
       "    <tr>\n",
       "      <th>1</th>\n",
       "      <td>1</td>\n",
       "      <td>0</td>\n",
       "      <td>Employers pulled back sharply on hiring last m...</td>\n",
       "    </tr>\n",
       "    <tr>\n",
       "      <th>2</th>\n",
       "      <td>2</td>\n",
       "      <td>1</td>\n",
       "      <td>LOS ANGELES (AP) — In her first interview sinc...</td>\n",
       "    </tr>\n",
       "    <tr>\n",
       "      <th>3</th>\n",
       "      <td>3</td>\n",
       "      <td>1</td>\n",
       "      <td>Shelly Sterling said today that \"eventually, I...</td>\n",
       "    </tr>\n",
       "    <tr>\n",
       "      <th>4</th>\n",
       "      <td>4</td>\n",
       "      <td>2</td>\n",
       "      <td>GAITHERSBURG, Md. (AP) — A small, private jet ...</td>\n",
       "    </tr>\n",
       "  </tbody>\n",
       "</table>\n",
       "</div>"
      ],
      "text/plain": [
       "   article_id  topic_id                                            article\n",
       "0           0         0  National Archives \\n \\n Yes, it’s that time ag...\n",
       "1           1         0  Employers pulled back sharply on hiring last m...\n",
       "2           2         1  LOS ANGELES (AP) — In her first interview sinc...\n",
       "3           3         1  Shelly Sterling said today that \"eventually, I...\n",
       "4           4         2  GAITHERSBURG, Md. (AP) — A small, private jet ..."
      ]
     },
     "metadata": {},
     "output_type": "display_data"
    },
    {
     "name": "stdout",
     "output_type": "stream",
     "text": [
      "\n",
      "Summaries DataFrame (optional):\n"
     ]
    },
    {
     "data": {
      "text/html": [
       "<div>\n",
       "<style scoped>\n",
       "    .dataframe tbody tr th:only-of-type {\n",
       "        vertical-align: middle;\n",
       "    }\n",
       "\n",
       "    .dataframe tbody tr th {\n",
       "        vertical-align: top;\n",
       "    }\n",
       "\n",
       "    .dataframe thead th {\n",
       "        text-align: right;\n",
       "    }\n",
       "</style>\n",
       "<table border=\"1\" class=\"dataframe\">\n",
       "  <thead>\n",
       "    <tr style=\"text-align: right;\">\n",
       "      <th></th>\n",
       "      <th>topic_id</th>\n",
       "      <th>summary</th>\n",
       "    </tr>\n",
       "  </thead>\n",
       "  <tbody>\n",
       "    <tr>\n",
       "      <th>0</th>\n",
       "      <td>0</td>\n",
       "      <td>– The unemployment rate dropped to 8.2% last m...</td>\n",
       "    </tr>\n",
       "    <tr>\n",
       "      <th>1</th>\n",
       "      <td>1</td>\n",
       "      <td>– Shelly Sterling plans \"eventually\" to divorc...</td>\n",
       "    </tr>\n",
       "    <tr>\n",
       "      <th>2</th>\n",
       "      <td>2</td>\n",
       "      <td>– A twin-engine Embraer jet that the FAA descr...</td>\n",
       "    </tr>\n",
       "    <tr>\n",
       "      <th>3</th>\n",
       "      <td>3</td>\n",
       "      <td>– Tucker Carlson is in deep doodoo with conser...</td>\n",
       "    </tr>\n",
       "    <tr>\n",
       "      <th>4</th>\n",
       "      <td>4</td>\n",
       "      <td>– What are the three most horrifying words in ...</td>\n",
       "    </tr>\n",
       "  </tbody>\n",
       "</table>\n",
       "</div>"
      ],
      "text/plain": [
       "   topic_id                                            summary\n",
       "0         0  – The unemployment rate dropped to 8.2% last m...\n",
       "1         1  – Shelly Sterling plans \"eventually\" to divorc...\n",
       "2         2  – A twin-engine Embraer jet that the FAA descr...\n",
       "3         3  – Tucker Carlson is in deep doodoo with conser...\n",
       "4         4  – What are the three most horrifying words in ..."
      ]
     },
     "metadata": {},
     "output_type": "display_data"
    }
   ],
   "source": [
    "all_articles = []\n",
    "\n",
    "for topic_id, source in enumerate(sources):\n",
    "    articles = [a.strip().replace(\"NEWLINE_CHAR\", \"\\n\") for a in source.split(\"|||||\")]\n",
    "    for article in articles:\n",
    "\n",
    "        # Apply to your DataFrame\n",
    "        all_articles.append({\n",
    "            \"topic_id\": topic_id,\n",
    "            \"article\": article        \n",
    "        })\n",
    "\n",
    "articles_df = pd.DataFrame(all_articles)\n",
    "articles_df.reset_index(inplace=True)\n",
    "articles_df.rename(columns={'index': 'article_id'}, inplace=True)\n",
    "\n",
    "summaries_df = pd.DataFrame({\n",
    "    \"topic_id\": list(range(len(targets))),\n",
    "    \"summary\": targets\n",
    "})\n",
    "\n",
    "\n",
    "\n",
    "from IPython.display import display\n",
    "print(\"Articles DataFrame:\")\n",
    "display(articles_df.head())\n",
    "\n",
    "print(\"\\nSummaries DataFrame (optional):\")\n",
    "display(summaries_df.head())"
   ]
  },
  {
   "cell_type": "code",
   "execution_count": 8,
   "id": "a4245fd9",
   "metadata": {},
   "outputs": [
    {
     "data": {
      "text/plain": [
       "article/topic\n",
       "1       504\n",
       "2     23743\n",
       "3     12577\n",
       "4      4921\n",
       "5      1845\n",
       "6       707\n",
       "7       371\n",
       "8       194\n",
       "9        81\n",
       "10       29\n",
       "dtype: int64"
      ]
     },
     "execution_count": 8,
     "metadata": {},
     "output_type": "execute_result"
    }
   ],
   "source": [
    "articles_df.groupby('topic_id').count().reset_index().rename(columns={'article':'article/topic'}).groupby('article/topic').size()"
   ]
  },
  {
   "cell_type": "markdown",
   "id": "98745bfb",
   "metadata": {},
   "source": [
    "Here we see that each topic can span 1 to 10 articles which will be good in simulating the different sources of news."
   ]
  },
  {
   "cell_type": "markdown",
   "id": "972bbd41",
   "metadata": {},
   "source": [
    "## Article formatting with chunking for embeddings\n",
    "Here new line char is changed to \\n"
   ]
  },
  {
   "cell_type": "code",
   "execution_count": 9,
   "id": "ac87a8ad",
   "metadata": {},
   "outputs": [
    {
     "data": {
      "text/html": [
       "<div>\n",
       "<style scoped>\n",
       "    .dataframe tbody tr th:only-of-type {\n",
       "        vertical-align: middle;\n",
       "    }\n",
       "\n",
       "    .dataframe tbody tr th {\n",
       "        vertical-align: top;\n",
       "    }\n",
       "\n",
       "    .dataframe thead th {\n",
       "        text-align: right;\n",
       "    }\n",
       "</style>\n",
       "<table border=\"1\" class=\"dataframe\">\n",
       "  <thead>\n",
       "    <tr style=\"text-align: right;\">\n",
       "      <th></th>\n",
       "      <th>article_id</th>\n",
       "      <th>topic_id</th>\n",
       "      <th>article</th>\n",
       "    </tr>\n",
       "  </thead>\n",
       "  <tbody>\n",
       "    <tr>\n",
       "      <th>0</th>\n",
       "      <td>0</td>\n",
       "      <td>0</td>\n",
       "      <td>National Archives \\n \\n Yes, it’s that time ag...</td>\n",
       "    </tr>\n",
       "    <tr>\n",
       "      <th>1</th>\n",
       "      <td>1</td>\n",
       "      <td>0</td>\n",
       "      <td>Employers pulled back sharply on hiring last m...</td>\n",
       "    </tr>\n",
       "    <tr>\n",
       "      <th>2</th>\n",
       "      <td>2</td>\n",
       "      <td>1</td>\n",
       "      <td>LOS ANGELES (AP) — In her first interview sinc...</td>\n",
       "    </tr>\n",
       "    <tr>\n",
       "      <th>3</th>\n",
       "      <td>3</td>\n",
       "      <td>1</td>\n",
       "      <td>Shelly Sterling said today that \"eventually, I...</td>\n",
       "    </tr>\n",
       "    <tr>\n",
       "      <th>4</th>\n",
       "      <td>4</td>\n",
       "      <td>2</td>\n",
       "      <td>GAITHERSBURG, Md. (AP) — A small, private jet ...</td>\n",
       "    </tr>\n",
       "  </tbody>\n",
       "</table>\n",
       "</div>"
      ],
      "text/plain": [
       "   article_id  topic_id                                            article\n",
       "0           0         0  National Archives \\n \\n Yes, it’s that time ag...\n",
       "1           1         0  Employers pulled back sharply on hiring last m...\n",
       "2           2         1  LOS ANGELES (AP) — In her first interview sinc...\n",
       "3           3         1  Shelly Sterling said today that \"eventually, I...\n",
       "4           4         2  GAITHERSBURG, Md. (AP) — A small, private jet ..."
      ]
     },
     "execution_count": 9,
     "metadata": {},
     "output_type": "execute_result"
    }
   ],
   "source": [
    "articles_df['article'] = articles_df['article'].apply(lambda x: '\\n'.join(x.split('NEWLINE_CHAR')))\n",
    "articles_df.head()"
   ]
  },
  {
   "cell_type": "markdown",
   "id": "4d1d81c5",
   "metadata": {},
   "source": [
    "Chunking with meta data capturing is conducted. "
   ]
  },
  {
   "cell_type": "code",
   "execution_count": 280,
   "id": "091d3936",
   "metadata": {},
   "outputs": [],
   "source": [
    "from langchain.text_splitter import RecursiveCharacterTextSplitter\n",
    "from langchain.schema import Document\n",
    "\n",
    "splitter = RecursiveCharacterTextSplitter(\n",
    "    chunk_size=512,\n",
    "    chunk_overlap=64,\n",
    "    separators=[\"\\n\\n\", \"\\n\", \".\", \" \"]\n",
    ")\n",
    "\n",
    "chunks = []\n",
    "\n",
    "# Loop through your DataFrame rows\n",
    "for _, row in articles_df.iterrows():\n",
    "    article_text = row['article']\n",
    "    article_id = row['article_id']\n",
    "    topic_id = row['topic_id']\n",
    "    \n",
    "    # Split and attach metadata\n",
    "    split_chunks = splitter.create_documents(\n",
    "        [article_text],\n",
    "        metadatas=[{\n",
    "            \"article_id\": article_id,\n",
    "            \"topic_id\": topic_id\n",
    "        }]\n",
    "    )\n",
    "    \n",
    "    chunks.extend(split_chunks)\n"
   ]
  },
  {
   "cell_type": "code",
   "execution_count": 281,
   "id": "1f2cfb73",
   "metadata": {},
   "outputs": [
    {
     "data": {
      "text/plain": [
       "[Document(metadata={'article_id': 0, 'topic_id': 0}, page_content='National Archives \\n \\n Yes, it’s that time again, folks. It’s the first Friday of the month, when for one ever-so-brief moment the interests of Wall Street, Washington and Main Street are all aligned on one thing: Jobs.'),\n",
       " Document(metadata={'article_id': 0, 'topic_id': 0}, page_content='A fresh update on the U.S. employment situation for January hits the wires at 8:30 a.m. New York time offering one of the most important snapshots on how the economy fared during the previous month. Expectations are for 203,000 new jobs to be created, according to economists polled by Dow Jones Newswires, compared to 227,000 jobs added in February. The unemployment rate is expected to hold steady at 8.3%.'),\n",
       " Document(metadata={'article_id': 0, 'topic_id': 0}, page_content='Here at MarketBeat HQ, we’ll be offering color commentary before and after the data crosses the wires. Feel free to weigh-in yourself, via the comments section. And while you’re here, why don’t you sign up to follow us on Twitter. \\n \\n Enjoy the show.')]"
      ]
     },
     "execution_count": 281,
     "metadata": {},
     "output_type": "execute_result"
    }
   ],
   "source": [
    "chunks[0:3]"
   ]
  },
  {
   "cell_type": "markdown",
   "id": "90a103e4",
   "metadata": {},
   "source": [
    "## Embedding Model\n",
    "\n",
    "Here the MiniLM L6 v2 embeddings model was used"
   ]
  },
  {
   "cell_type": "code",
   "execution_count": 10,
   "id": "fe4e5195",
   "metadata": {},
   "outputs": [
    {
     "name": "stderr",
     "output_type": "stream",
     "text": [
      "C:\\Users\\awsy2\\AppData\\Local\\Temp\\ipykernel_1080\\1922379263.py:6: LangChainDeprecationWarning: The class `HuggingFaceEmbeddings` was deprecated in LangChain 0.2.2 and will be removed in 1.0. An updated version of the class exists in the :class:`~langchain-huggingface package and should be used instead. To use it run `pip install -U :class:`~langchain-huggingface` and import as `from :class:`~langchain_huggingface import HuggingFaceEmbeddings``.\n",
      "  encoder = HuggingFaceEmbeddings(model_name=\"sentence-transformers/all-mpnet-base-v2\")\n",
      "d:\\Projects\\SAIC\\onboarding\\env\\Lib\\site-packages\\tqdm\\auto.py:21: TqdmWarning: IProgress not found. Please update jupyter and ipywidgets. See https://ipywidgets.readthedocs.io/en/stable/user_install.html\n",
      "  from .autonotebook import tqdm as notebook_tqdm\n"
     ]
    }
   ],
   "source": [
    "from langchain.embeddings import HuggingFaceEmbeddings\n",
    "from langchain.vectorstores import FAISS\n",
    "from langchain.docstore.document import Document\n",
    "import numpy as np\n",
    "\n",
    "encoder = HuggingFaceEmbeddings(model_name=\"sentence-transformers/all-mpnet-base-v2\")"
   ]
  },
  {
   "cell_type": "markdown",
   "id": "7731bed3",
   "metadata": {},
   "source": [
    "Here only 50000 chunks were embedded to save time for testing. Since FAISS does not use cosine similarity by default, we had to apply our own embeddings by encoding and normalizing our selves before sending them as chunk embedding pairs into FAISS"
   ]
  },
  {
   "cell_type": "code",
   "execution_count": 283,
   "id": "488e49ce",
   "metadata": {},
   "outputs": [],
   "source": [
    "index_end = 50000\n",
    "embeddings = encoder.embed_documents([chunk.page_content for chunk in chunks[0:index_end]])\n",
    "normalized_embeddings = [vec / np.linalg.norm(vec) for vec in embeddings]\n",
    "\n",
    "text_embedding_pairs = list(zip(\n",
    "    [doc.page_content for doc in chunks],\n",
    "    normalized_embeddings\n",
    "))\n",
    "\n",
    "faiss_index = FAISS.from_embeddings(\n",
    "    text_embedding_pairs,         # list of (text, embedding)\n",
    "    embedding=encoder,            # model used\n",
    "    metadatas=[doc.metadata for doc in chunks[0:index_end]]  # optional: include article_id/topic_id\n",
    ")\n",
    "\n",
    "faiss_index.save_local(\"vector_index_cosine\")\n"
   ]
  },
  {
   "cell_type": "markdown",
   "id": "b9a7c553",
   "metadata": {},
   "source": [
    "### Retrieval Function \n",
    "This function here loads the database and allows for easy query to vector to db chunk retrieval. \n",
    "Since FAISS is used, meta data is stored in relation to the article the chunk its from and the topic it is referencing. "
   ]
  },
  {
   "cell_type": "code",
   "execution_count": 11,
   "id": "28aecb32",
   "metadata": {},
   "outputs": [],
   "source": [
    "db = FAISS.load_local(\"vector_index_cosine\", encoder, allow_dangerous_deserialization=True)\n",
    "\n",
    "def semantic_search_with_threshold(db, query, encoder, threshold=0.1, k=99999):\n",
    "    vec = encoder.embed_query(query)\n",
    "    vec = vec / np.linalg.norm(vec)\n",
    "    results = db.similarity_search_with_score_by_vector(vec, k=k)\n",
    "    return [(doc, 1 - score) for doc, score in results if 1 - score >= threshold]"
   ]
  },
  {
   "cell_type": "markdown",
   "id": "b1dcf8c2",
   "metadata": {},
   "source": [
    "## Test Topic\n",
    "For the test topic, we will look at 7 different articles on the topic of Huricane harvey and its aftermath\n",
    "\n",
    "Why this topic is due to \n",
    "- it being broad for 7 articles \n",
    "- containing different perspectives and info"
   ]
  },
  {
   "cell_type": "code",
   "execution_count": 61,
   "id": "22f7a65d",
   "metadata": {},
   "outputs": [
    {
     "data": {
      "text/plain": [
       "array(['Why Approving Emergency Funding For Harvey Might Not Be Easy For Congress \\n \\n Enlarge this image toggle caption Brendan Smialowski/AFP/Getty Images Brendan Smialowski/AFP/Getty Images \\n \\n When the floodwaters in Texas eventually recede, the cleanup and rebuilding will begin. \\n \\n The cleanup bill will likely be hefty — possibly topping $100 billion — and the vast majority of those efforts will be funded by the federal government. \\n \\n President Trump doesn\\'t seem worried about Congress footing the bill. \"You\\'re going to see very rapid action from Congress,\" he told reporters Monday. \"You\\'re going to get your funding.\" \\n \\n In a visit to Austin on Tuesday, Trump met with the state\\'s two Republican senators and again alluded to the price tag for federal help. \\n \\n \"We\\'ll be working with these characters over there and think we\\'ll come through with a really, you know the right solution,\" the president said, adding recovery from Harvey is \"going to be a costly proposition.\" \\n \\n But emergency response legislation has become increasingly partisan in recent years, and Congress is already facing a daunting stretch of must-pass bills when it returns next week. \\n \\n Funding for cleanup and rebuilding will likely pass — but it probably won\\'t be easy. \\n \\n \"I sort of see it as everyone holding their breath,\" Sarah Binder, a congressional expert at the Brookings Institution, said about the coming stretch of deadlines. \\n \\n Funding for the government expires Sept. 30. The deadline for raising the debt ceiling hits next month, too. It has been increasingly hard to round up conservative support for both measures in recent years. \"It\\'s not yet clear how exactly they\\'re going to proceed,\" Binder said. \"And there\\'s the wild card of the president who has threatened to shut down the government if they don\\'t fund a border wall.\" \\n \\n Several popular government programs expire at the end of September, too, and need reauthorization votes beforehand. \\n \\n That is the backdrop that urgent Harvey funding will be added to. \\n \\n \"The federal funds are absolutely essential to recovery,\" says Edward Richards, director of Louisiana State University\\'s Climate Change Law and Policy Project. \\n \\n Over the past six decades, the federal government has become the prime funder and driver of recovery efforts after major storms. \\n \\n On Tuesday night, Transportation Secretary Elaine Chao announced that her department would make $25 million \"immediately available to help Texas with repairs on flood-damaged roads and bridges,\" following a request by the state. A statement from the secretary said the funding \"represents the beginning of our commitment to help repair Texas\\' affected infrastructure.\" \\n \\n Richards describes federal funding as coming in three waves: first, initial grants doled out to individuals and businesses by the Federal Emergency Management Agency. \\n \\n After that, the National Flood Insurance Program issues billions in claims for flooded-out homes and businesses. \"That is fairly swift and fairly certain money. It\\'s the most reliable relief after a flood,\" Richards says. \\n \\n Except for this: The National Flood Insurance Program happens to be one of those federal programs that expires on Sept. 30. \\n \\n A spokeswoman for House Speaker Paul Ryan, R-Wis., insists that won\\'t be a problem. \"Details are still being worked through, but the flood insurance program will be reauthorized,\" said Ryan spokeswoman AshLee Strong in a statement. \\n \\n But the program has its share of critics and is still in debt because of major claims payments from Hurricanes Katrina and Rita. \\n \\n The third wave of federal funding is even more politically precarious: It\\'s the individual relief bills Congress passes after major disasters. \\n \\n After Superstorm Sandy in 2012, 179 House Republicans voted against relief for the New York-New Jersey area, including several members of the Texas delegation. \\n \\n Texas Sen. Ted Cruz did as well, in one of his first votes after joining the Senate. Cruz has found himself defending that vote all week. \"The problem with that particular bill is it became a $50 billion bill that was filled with unrelated pork,\" he said on MSNBC. \"Two-thirds of that bill had nothing to do with Sandy. \\n \\n Fact-checkers disagree — and many lawmakers still remember that vote. \"Ted Cruz was one of the leaders who was trying to keep New York and New Jersey and Long Island from getting the funding we needed, and now he\\'s the first one in asking for aid to Texas,\" New York Rep. Peter King, a fellow Republican, told Long Island\\'s News 12. \"But as bad as I feel toward Ted Cruz — what a hypocrite he is — I\\'m not going to take that out on Texas.\" \\n \\n Another quote being resuscitated this week: a 2005 floor speech delivered by then-Rep. Mike Pence, R-Ind., warning against funding Katrina relief without cutting funding elsewhere. \"Congress must ensure that a catastrophe of nature does not become a catastrophe of debt,\" Pence said at the time. \\n \\n Binder says both Cruz and Pence are good examples of a longtime legislative adage: \"Where you stand depends on where you sit.\" In other words, changing circumstances can lead to changing opinions. \\n \\n To wit, the recent caveat-free promise Pence made to Houston station KTRH: \"I think what you\\'re going to see is the national government — and we anticipate the Congress — are going to make the resources available to see Texas through the rescue operation, through the recovery.\" \\n \\n House Minority Leader Nancy Pelosi, D-Calif., says Democrats are ready and willing to vote for a relief bill. And House Appropriations Chairman Rodney Frelinghuysen, R-N.J., said in a statement that \"my committee stands at the ready to provide any necessary additional funding for relief and recovery.\" \\n \\n So, the measure will likely pass. The big questions are how much it will ultimately cost and how much it affects all of Congress\\' other must-pass bills.',\n",
       "       'Thousands of people likely remain stranded, and an estimated 30,000 to 40,000 homes have been destroyed in the Houston area as Hurricane Harvey, now a tropical depression, continues to batter the Gulf Coast with torrential rains, flooding and strong winds, Harris County Judge Ed Emmett said. \\n \\n Interested in Hurricane Harvey? Add Hurricane Harvey as an interest to stay up to date on the latest Hurricane Harvey news, video, and analysis from ABC News. Add Interest \\n \\n Harvey made its third landfall, just west of Cameron, Louisiana, Wednesday at 4 a.m. CDT, with maximum sustained winds of 35 mph, according to the National Weather Service. As of 11 p.m. EDT, the slow-moving storm had picked up some speed, moving northeast at 9 mph, with its center was about 30 miles northeast of Alexandria, Louisiana. \\n \\n The storm was starting to fall apart overnight, with rain scattered in nature and falling over Mississippi and Arkansas. Residents in western Tennessee, around Memphis, should expect heavy rains on Thursday morning and possible flash flooding as up to 8 inches of rain are possible locally. \\n \\n Before that, it battered the Beaumont-Port Arthur area in southeastern Texas, dumping more than 2 feet of rain in some parts. By Wednesday evening, the storm had weakened from a tropical storm to a tropical depression. \\n \\n \"We have people who are on the second floor of their homes. They\\'re riding it out, and they\\'re waiting for the waters to go down,\" Emmett, who is also the director of Texas\\' Harris County Office of Homeland Security and Emergency Management, said in an interview Wednesday with ABC News Chief Anchor George Stephanopoulos on \"Good Morning America.\" \\n \\n \"We\\'ve got probably [30,000] to 40,000 homes that have been destroyed,\" Emmett added. \\n \\n Power outages in the Houston area are down to 75,000, but 32,000 of those outages are inaccessible to crews, officials said Wednesday. \\n \\n The brunt of the storm\\'s impact has begun to shift to western and northern Louisiana. Now, for Harris County, \"the biggest challenge is going to get people back in their homes,\" Emmett said. \"We\\'ve got to get those people back into their normal lives as soon as possible.\" \\n \\n The Houston Airport System announced that it has lifted restrictions on commercial operations. On Saturday, Southwest Airlines will ramp up the number of flights, according to the airport system. \\n \\n A curfew from midnight to 5 a.m. will take effect in Houston for the second night in a row, Mayor Sylvester Turner said in a press conference. No arrests were made during Tuesday night\\'s curfew, a spokesperson for the Houston Police Department said at the press conference. \\n \\n The Houston Fire Department has received about 15,000 calls for assistance, a spokesperson said Wednesday evening. The fire department will begin recovery operations in certain areas and conduct door-to-door checks of accessible homes that got more than 3 feet of water, the spokesperson said. \\n \\n Houston Police Chief Art Acevedo said 911 calls for water rescues were down to about 40 an hour as of this morning. Still, the Coast Guard is taking more than 1,000 calls per hour from people needing rescue. \\n \\n The Navy is sending two ships -- the USS Kearsarge and the USS Oak Hill -- to the Gulf of Mexico to held with storm relief efforts, it announced Wednesday. \\n \\n Vice President Mike Pence said on Wednesday that he will travel to Texas Thursday. \"@POTUS asked me to travel to Texas tomorrow with his message: \\'We will be with you every single day to restore, recover, and rebuild,\\'\" the vice president tweeted. \\n \\n .@POTUS asked me to travel to Texas tomorrow with his message: \"We will be with you every single day to restore, recover, and rebuild.\" pic.twitter.com/jQ0A9BGnPK — Vice President Pence (@VP) August 31, 2017 \\n \\n Harris County Flood Control District meteorologist Jeff Lidner told reporters this morning that the lowest homes near the Addicks and Barker reservoirs have 3 to 6 feet of water. \\n \\n Harvey, which first came ashore last Friday in Texas as a category 4 hurricane, dumped more than 51 inches of rain on some parts of the state, according to preliminary reports from the National Weather Service. The storm led to at least 31 deaths over the past five days, according to The Associated Press. Harris County officials, where Houston is located, confirmed six new deaths late Wednesday. \\n \\n Texas Gov. Greg Abbott -- who spoke by phone Wednesday with the president while the commander in chief was on board Air Force One, returning from Missouri -- said most of the deaths were due to people driving vehicles into high water. \\n \\n .@POTUS @realDonaldTrump speaks w/ Texas @GovAbbott on Air Force One - returning to Washington, D.C. from Missouri w/COS General John Kelly. pic.twitter.com/oTwxwM4VMU — Dan Scavino Jr. (@Scavino45) August 30, 2017 \\n \\n An undetermined number of people are missing. The Coast Guard is leading a search for two volunteer rescuers missing after their boat crashed and capsized on Cypress Creek near the North Freeway early Wednesday. Authorities found a third rescuer clinging to a tree, according to the Harris County Sheriff\\'s Office. \\n \\n The Harris County Sheriff\\'s Office urged people awaiting rescue to \"hang a towel or sheet prominently\" for rescuers to see because addresses are difficult to spot. \\n \\n Harvey is expected to weaken and continue moving to the north and east across the Lower Mississippi Valley and Tennessee Valley through Thursday. But the National Weather Service said Harvey still has the potential to cause \"life-threatening flooding.\" \\n \\n \"Catastrophic and life-threatening flooding continues in southeastern Texas and portions of southwestern Louisiana,\" the service said in an advisory this morning. \"Excessive runoff from heavy rainfall will cause flooding of small creeks and streams, urban areas, highways, streets and underpasses, as well as other drainage areas and low-lying spots.\" \\n \\n The situation became serious in eastern Texas Wednesday. The National Weather Service issued a flash-flood warning for parts of southeastern Texas, including the cities of Beaumont and Port Arthur, which received more than 26 inches of rain in some areas on Tuesday alone. \\n \\n Port Arthur Mayor Derrick Freeman urged residents to get to higher ground in a Facebook post early Wednesday. \\n \\n \"Our whole city is underwater right now but we are coming!\" Freeman wrote in one post. \"Please get to higher ground if you can, but please try stay out of attics.\" \\n \\n The largest oil refinery in the United States is shutting down because of the devastating floods. Its owner, Motiva Enterprises, announced in a statement early Wednesday that it began a \"controlled shutdown of the Port Arthur refinery in response to increasing local flood conditions.\" \\n \\n The refinery won\\'t reopen until floodwaters recede, the company said. \\n \\n Officials were forced to evacuate the shelter at the Bob Bower Civic Center in Port Arthur this morning after it began to fill with water. One witness, who was forced to relocate, said some areas of the center had almost 4 feet of water inside. \\n \\n Displaced residents were taken to a secondary evacuation site at the Carl Parker Center, according to ABC Texas affiliate KBMT-TV. \\n \\n The disastrous rainfall Wednesday led the National Weather Service to further extend a flash-flood emergency for the cities of Beaumont and Port Arthur until 4:30 p.m. CT in anticipation of additional rain that morning. \\n \\n The worst is not over for Texas, Abbott warned Wednesday. He said 24,000 National Guard troops, including all of Texas\\' force, have been deployed in the state and will be crucial in the weeks and months to come to help restore order. \\n \\n The National Guard has made 8,500 rescues, evacuated 26,000 people and done 1,400 shelter-in-place welfare checks in Texas so far. Meanwhile, there are 32,000 people in shelters throughout the state, Abbott said. \\n \\n Five days after Harvey first made landfall, FEMA said it\\'s still in \"life-saving, life-sustaining\" mode, with recovering survivors being the top priority. FEMA Administrator Brock Long said at a news conference Wednesday that there are more than 12,000 emergency staffers on the ground in Texas and Louisiana, spread across 50 counties. The agency is operating more than 230 shelters in Texas, housing more than 30,000 people. \\n \\n The George R. Brown Convention Center in Houston is no longer accepting evacuees, Turner said. About 8,000 people are currently at the convention center, down from 10,000 people on Tuesday night. The city had opened up the Toyota Center as an additional shelter to ease the overcrowding at the convention center. \\n \\n Long said the FEMA travel trailers used after Hurricane Katrina are a \"last resort\" and the agency will first try to move displaced residents into local hotels before helping them clear out their inundated houses so they can return to them. FEMA has already placed more than 1,800 flood survivors in hotels, he said. \\n \\n The Air Force said it was providing aircraft assistance in response to Harvey, including two HC-130J Combat King IIs, three HH-60G Pave Hawks, air crews and other support personnel to College Station, Texas. Two C-17 Globemaster IIIs are carrying more than 30 tons of relief supplies to Louisiana\\'s Alexandria International Airport. \\n \\n Help is also coming from overseas. Gov. Abbott said on Wednesday that Texas is accepting resources from Mexico, including boats, food and other supplies. And Israel\\'s embassy in Washington tweeted, \"A team from the Israeli Rescue Coalition will arrive in #Houston on Thursday to help victims of #HurricaneHarvey.\" \\n \\n A team from the Israeli Rescue Coalition will arrive in #Houston on Thursday to help victims of #HurricaneHarveyhttps://t.co/Wd7Kl3fs7B pic.twitter.com/rbBL0NNHWX — Embassy of Israel (@IsraelinUSA) August 30, 2017 \\n \\n ABC News\\' Max Golembo, Serena Marshall, Whitney Lloyd, Luis Martinez and Zunaira Zaki contributed to this report. \\n \\n Take part in Disney\\'s Day of Giving: To support people impacted by Hurricane Harvey, call 1-855-999-GIVE, donate at www.RedCross.org/ABC or text \"HARVEY\" to 90999 to make a $10 donation.',\n",
       "       'HOUSTON — Five days after the pummeling began — a time when big storms have usually blown through, the sun has come out, and evacuees have returned home — Tropical Storm Harvey refused to go away, battering southeast Texas even more on Tuesday, spreading the destruction into Louisiana and shattering records for rainfall and flooding. \\n \\n Along 300 miles of Gulf Coast, people poured into shelters by the thousands, straining their capacity; as heavy rain kept falling, some rivers were still rising and floodwater in some areas had not crested yet; and with whole neighborhoods flooded, others were covered in water for the first time. \\n \\n Officials cautioned that the full-fledged rescue-and-escape phase of the crisis, usually finished by now, would continue, and that they still had no way to gauge the scale of the catastrophe — how many dead, how many survivors taking shelter inland or still hunkered down in flooded communities, and how many homes destroyed. \\n \\n For everybody, it was another head-shaking 24 hours: \\n \\n • The storm made its second landfall early Wednesday morning in Louisiana, just west of the town of Cameron, the National Hurricane Center announced at 4 a.m. As Harvey moves northeast through the state scarred by Hurricane Katrina in 2005, forecasters expect it to gradually weaken and become a tropical depression by Wednesday night. \\n \\n • Local officials in Texas said at least 30 deaths were believed to have been caused by the storm through Tuesday, up from eight a day earlier. The dead included a Houston police officer, Sgt. Steve Perez, 60, who was caught in flooding on Sunday while trying to report for duty. “I expect that number to be significantly higher once the roads become passable,” said Erin Barnhart, the chief medical examiner for Galveston County. \\n \\n • The city of Houston imposed a curfew from midnight to 5 a.m., starting Tuesday night and continuing until further notice. The curfew was requested by the Houston Police Department, partly in response to reports of “small-scale looting” and other crimes, Chief Art Acevedo said at a news conference Tuesday evening. He added that the curfew would help search and rescue teams get around without interference. \\n \\n • Parts of the Houston area broke the record for rainfall from a single storm anywhere in the continental United States, with a top reading on Tuesday afternoon, since the storm began, of 51.88 inches in Cedar Bayou, east of Houston, the National Weather Service reported. The previous record was 48 inches in Medina, Tex., from Tropical Storm Amelia in 1978, and with the rain still falling along the Gulf Coast, Harvey could top the 52 inches recorded in Kauai, Hawaii in 1950 from Hurricane Hiki. \\n \\n • Houston officials had at first limited the city’s main shelter, the George R. Brown Convention Center, to 5,000 evacuees, but by Tuesday morning it had swelled to more than 9,000, with more arriving by the hour, Mayor Sylvester Turner said. By the evening, evacuated residents were setting up cots in corridors because they said the main dormitories were uncomfortably crowded. \\n \\n One of the people bunking at the convention center, Keimaine Percel, a mechanic, had not seen his home since it flooded, but he was trying not to think about it. “I heard it was real bad,” said Mr. Percel, 35. “I don’t know unless I get back.” \\n \\n The Red Cross said that in Houston alone, 17,000 people began their day Tuesday in shelters, and the numbers were rising there and in inland cities that had taken evacuees such as Dallas, San Antonio and Austin. Mr. Turner said Houston would create new shelters, Dallas opened its convention center on Tuesday as a shelter for 5,000 people, and Fort Worth said it would open shelters, as well. \\n \\n In the Kingwood neighborhood of Houston, people waved towels from apartment windows and yelled “we’re here” and “family of three needs help,” hoping to draw one of the volunteers piloting fishing boats, inflatable rafts and kayaks.',\n",
       "       '(CNN) With countless Houstonians still awaiting rescue, Tropical Depression Harvey devoured another Texas city. \\n \\n The unrelenting storm unleashed its wrath on a wide swath east of Houston, leaving thousands stranded in flooded homes and forcing the evacuation of a nursing facility and even an emergency shelter where residents had sought refuge. \\n \\n \"Our whole city is underwater right now but we are coming!\" Port Arthur Mayor Derrick Freeman posted Wednesday on Facebook. \"If you called, we are coming. Please get to higher ground if you can, but please try (to) stay out of attics.\" \\n \\n My uncles have been rescuing people in Port Arthur for 24hrs! So blessed to have such a helpful family who help others in times like this! pic.twitter.com/O2qIVGHqxR \\n \\n At least 37 deaths related to Hurricane Harvey and its aftermath have been reported in Texas. One of them, Houston police Sgt. Steve Perez , drowned while trying to get to work. \\n \\n \"To those Americans who have lost loved ones, all of America is grieving with you and our hearts are joined with yours forever,\" President Donald Trump said in Springfield, Missouri. \\n \\n The storm left record-setting rain in Harris County -- which saw 19 deaths -- before unleashing 15 inches in the Beaumont area, Texas Gov. Greg Abbott said. \\n \\n \"While there may still be flooding, the good news is there shouldn\\'t be any rain in the region for the next several days,\" said CNN Meteorologist Taylor Ward. \\n \\n Evacuees at the Bob Bowers Civic Center in Port Arthur face flooding again as waters rise at the shelter. \\n \\n Misery in Houston \\n \\n While heavy rains have ended in the Houston area, more danger looms. \\n \\n Emergency workers and throngs of volunteers went door to door for a fifth day Wednesday, trying to rescue victims of the flood. Houston Police Chief Art Acevedo said authorities have received 60,000 to 70,000 calls for help. \\n \\n \"We just pray that the body count ... won\\'t rise significantly.\" Acevedo said. \\n \\n The US Coast Guard is searching for two civilian rescuers who were swept away after their boat capsized Tuesday night, the Harris County Sheriff\\'s Office tweeted Wednesday. \\n \\n Three volunteers were trying to cross Cypress Creek when their boat crashed and capsized, sending all three under a bridge. One of the volunteers was found clinging to a tree. \\n \\n JUST WATCHED Torrential downpour submerges parts of Houston Replay More Videos ... MUST WATCH Torrential downpour submerges parts of Houston 01:06 \\n \\n About one-third of the Houston area is covered in water. And it\\'s unclear exactly how many people still need to be rescued, Texas Military Department spokesman Lt. Col. Travis Walters said. \\n \\n For the first time since the weekend, authorities said, the flooding in Houston is slowly receding in some areas. \\n \\n The Houston Astros announced they will play a doubleheader at home on Saturday against the New York Mets. The team played the Texas Rangers in St. Petersburg, Florida, earlier this week because of the hurricane. \\n \\n Houston Mayor Sylvester Turner said the home game will provide \"a much needed boost for our city\" and offer residents \"some aspect of normal life.\" \\n \\n But dangerous flooding will continue from Houston all the way into southwestern Louisiana for the rest of the week, the National Weather Service said. \\n \\n Houses built \\'inside a lake\\' could degrade \\n \\n Controversy has surrounded the placement of houses near Houston\\'s Barker and Addicks reservoirs, especially since floodwater overflowed the latter. \\n \\n Residents evacuate their homes Tuesday near the Addicks Reservoir in Houston. \\n \\n \"They allowed them to build homes inside the reservoir. And these homes are flooded -- 2,500 homes are flooded, some of them up to 5 feet deep,\" CNN meteorologist Chad Myers said Wednesday. \"They built homes inside a lake.\" \\n \\n And those homes \"will be inundated for several weeks,\" said Jeff Lindner with Harris County Flood Control. \\n \\n \"The closest comparison that I can draw to those homes ... is Hurricane Katrina,\" Lindner said. \\n \\n \"When water sits in a house for several weeks, the house begins to degrade.\" \\n \\n Lindner said those residents will be able to return after several weeks, but \"we are not sure what the condition of those homes are going to be.\" \\n \\n He also said it\\'s unclear whether rebuilding homes in the same area will be allowed. \\n \\n Louisiana weathers Harvey, Texas \\'taking it on the chin\\' \\n \\n Louisiana was largely spared from Harvey\\'s wrath on Wednesday. \\n \\n \"While things are still serious and there is a long way to go, we ... have fared much better than we\\'d feared might be the case, but our neighbors are still taking it on the chin,\" Gov. John Bel Edwards said. \"In Texas, we\\'re going to do everything we can do to be good neighbors to them.\" \\n \\n Edwards requested a federal disaster declaration be extended to seven additional Louisiana parishes. \\n \\n Harvey is still threatening to dump an additional 3 to 6 inches of rain from northern Louisiana into western Kentucky, forecasters said. It weakened over land and fizzled to a tropical depression Wednesday night, with winds of 35 mph. \\n \\n New Orleans Mayor Mitch Landrieu said volunteers helped New Orleans recover after Katrina and they will do the same for Texas residents affected by Harvey. \\n \\n New Orleans officials announced a fundraiser to help the residents of Houston and other flooded Texas cities recover from Harvey. \\n \\n \"No city was more welcoming for the citizens of New Orleans than the people of Houston,\" Landrieu said. \"And our heart breaks for them as they go through their trying to times.\" \\n \\n More rescues, mother dies \\n \\n In Beaumont, rescuers Tuesday afternoon came upon a toddler in a pink backpack clinging to her mother\\'s body in floodwaters about a half mile from their car. The mother was getting out of her car when she stepped into a canal, Mayor Becky Ames said. \\n \\n The girl was in stable condition with hypothermia. \\n \\n \"Had we been a few moments later, they would have been swept underneath (a trestle) and our boats wouldn\\'t have been able to get them,\" Haley Morrow, spokeswoman for the Beaumont Emergency Management Office, told CNN on Wednesday. \\n \\n \"A true testament of a mother who put her own life at risk and sacrificed her life to save her child. That was devastating.\" \\n \\n In Port Arthur, about 90 miles east of the devastated Houston area, the deluge was so severe that floodwaters overwhelmed the Bob Bowers Civic Center, which was serving as a shelter. It was evacuated Wednesday after taking on water overnight, according to volunteer Ana Platero. \\n \\n Cots where people slept the night before floated on 2 feet of water on Wednesday as people waited on tables or sat on elevated bleachers to be evacuated to a nearby middle school. \\n \\n At Lake Arthur Place, a nursing home in Port Arthur, rescue workers evacuated up to 74 bedridden patients after an altercation involving relatives who tried to take out loved ones on their own, CNN affiliate KTRK reported. \\n \\n All residents were taken to local hospitals in Beaumont, the nursing home operator said. \\n \\n Some Port Arthur residents sought shelter in a bowling alley. \\n \\n Cynthia Harmon told CNN by phone that she was trapped with her two sons and two grandsons in the attic of her Port Arthur home. They began waiting for rescuers at midnight Tuesday and had run out of food and water by Wednesday afternoon. \\n \\n \"I didn\\'t think the water was going to rise like that,\" she said. \"I\\'ve never been in anything like this.\" \\n \\n The family was rescued later on Wednesday. \\n \\n Police made an appeal for volunteers to bring boats and help. \\n \\n \"Rescue boats welcome in Port Arthur to assist emergency personnel,\" the police department posted on Facebook. The city asked anyone trapped to hang a white towel, sheet or shirt outside to alert rescuers. \\n \\n Photos: Hurricane Harvey slams Texas Downtown Houston is reflected in the flooded Buffalo Bayou on Wednesday, August 30, five days after Hurricane Harvey made landfall in Texas. The Category 4 storm came ashore late Friday, August 25, just north of Port Aransas, and has caused historic flooding. Correction: Previous versions of this gallery incorrectly reported that Hurricane Harvey is the strongest storm to make landfall in the United States since Wilma in 2005. Harvey is actually the strongest storm to make landfall in the United States since Charley in 2004. Hide Caption 1 of 74 Photos: Hurricane Harvey slams Texas Members of the Louisiana Department of Wildlife and Fisheries, the Florida Fish and Wildlife Conservation Commission and the Louisiana National Guard help rescue elderly people from a flooded assisted living home in Orange, Texas, on August 30. Hide Caption 2 of 74 Photos: Hurricane Harvey slams Texas A baby sits with family belongings at a Gallery Furniture store in Houston being used as a temporary shelter on August 30. Hide Caption 3 of 74 Photos: Hurricane Harvey slams Texas Floodwaters engulf homes in Port Arthur on August 30. Hide Caption 4 of 74 Photos: Hurricane Harvey slams Texas Janice Forse cries at an emergency shelter in Beaumont on August 30. Her home in Beaumont was flooded Wednesday morning. \"Even Katrina wasn\\'t this bad,\" Forse told the Austin American-Statesman. Hide Caption 5 of 74 Photos: Hurricane Harvey slams Texas Tammy Dominguez, left, and her husband, Christopher Dominguez, sleep on cots at the George R. Brown Convention Center, where nearly 10,000 people are taking shelter in Houston, on August 30. Hide Caption 6 of 74 Photos: Hurricane Harvey slams Texas A cat tries to find dry ground around a flooded apartment complex on August 30 in Houston. Hide Caption 7 of 74 Photos: Hurricane Harvey slams Texas Volunteer rescue workers help a woman from her flooded home in Port Arthur on August 30. Hide Caption 8 of 74 Photos: Hurricane Harvey slams Texas The Florida Air Force Reserve Pararescue team from the 308th Rescue Squadron helps evacuees board a helicopter in Port Arthur on August 30. Hide Caption 9 of 74 Photos: Hurricane Harvey slams Texas Water from the Addicks Reservoir flows into neighborhoods in Houston as floodwaters rise Tuesday, August 29. Hide Caption 10 of 74 Photos: Hurricane Harvey slams Texas Chris Gutierrez, second from right, helps his grandmother, Edelmira Gutierrez, down the stairs of their flooded house and into a waiting firetruck in the Concord Bridge neighborhood of Houston on August 29. Hide Caption 11 of 74 Photos: Hurricane Harvey slams Texas Members of the National Guard rest at a furniture store in Richmond, Texas, on August 29. Hide Caption 12 of 74 Photos: Hurricane Harvey slams Texas Alexis Hernandez holds her daughter Faith at the George R. Brown Convention Center, which is serving as a shelter in Houston. Hide Caption 13 of 74 Photos: Hurricane Harvey slams Texas Evacuees make their way though floodwaters in Houston on August 29. Hide Caption 14 of 74 Photos: Hurricane Harvey slams Texas President Donald Trump takes part in a briefing on Harvey as he visits Corpus Christi on August 29. In a stop in Austin, Trump spoke of the long-term effort and stiff costs that will be needed to rebuild the region. \"Nobody\\'s seen this kind of water,\" he said. \"Probably, there\\'s never been something so expensive in our country\\'s history.\" While talking about recovery and relief efforts, Trump said, \"We want to do it better than ever before.\" Hide Caption 15 of 74 Photos: Hurricane Harvey slams Texas Civilian rescuers put a boat into a flooded road to search for people in Cypress on August 29. Hide Caption 16 of 74 Photos: Hurricane Harvey slams Texas Volunteers organize items donated for Hurricane Harvey victims in Dallas on August 29. Hide Caption 17 of 74 Photos: Hurricane Harvey slams Texas An overview of downtown Houston on August 29 shows the scale of the catastrophic flooding. Hide Caption 18 of 74 Photos: Hurricane Harvey slams Texas Matthew Koser searches for important papers and heirlooms inside his grandfather\\'s house in Houston\\'s Bear Creek neighborhood on August 29. The neighborhood flooded after water was released from nearby Addicks Reservoir. Hide Caption 19 of 74 Photos: Hurricane Harvey slams Texas Shane Johnson removes items from a family home in Rockport, Texas, on August 29. Hide Caption 20 of 74 Photos: Hurricane Harvey slams Texas Airplanes sit at a flooded airport in Houston on August 29. Hide Caption 21 of 74 Photos: Hurricane Harvey slams Texas People set up a shelter for volunteer rescue workers at Fairfield Baptist Church in Cypress, Texas, on August 29. Hide Caption 22 of 74 Photos: Hurricane Harvey slams Texas Shardea Harrison looks at her 3-week-old baby, Sarai, as Dean Mize, right, and Jason Legnon use an airboat to rescue them from their home in Houston on Monday, August 28. Hide Caption 23 of 74 Photos: Hurricane Harvey slams Texas Thousands take shelter at the George R. Brown Convention Center in Houston on August 28. Hide Caption 24 of 74 Photos: Hurricane Harvey slams Texas Rescue boats fill Tidwell Road in Houston as they help flood victims evacuate the area on August 28. Hide Caption 25 of 74 Photos: Hurricane Harvey slams Texas People wait to be rescued from their flooded home in Houston on August 28. Hide Caption 26 of 74 Photos: Hurricane Harvey slams Texas A firefighter helps Sara Golden and her daughters Paisley, Poppy and Piper board a Texas Air National Guard C-130 at Scholes International Airport in Galveston, Texas, on August 28. Hide Caption 27 of 74 Photos: Hurricane Harvey slams Texas People make their way out of a flooded neighborhood in Houston on August 28. Hide Caption 28 of 74 Photos: Hurricane Harvey slams Texas Sam Speights removes possessions from his damaged home in Rockport on August 28. Hide Caption 29 of 74 Photos: Hurricane Harvey slams Texas Flood victims wait to unload from the back of a heavy-duty truck after being evacuated from their homes in Houston on August 28. Hide Caption 30 of 74 Photos: Hurricane Harvey slams Texas People leave a flooded area of Houston on August 28. Hide Caption 31 of 74 Photos: Hurricane Harvey slams Texas People are rescued in Houston on August 28. Hide Caption 32 of 74 Photos: Hurricane Harvey slams Texas Bridget Brundrett presents an American flag to Texas Gov. Greg Abbott while he was in Rockport on August 28. The flag had been recovered from city hall after flying during the hurricane. Hide Caption 33 of 74 Photos: Hurricane Harvey slams Texas A Coast Guard helicopter hoists a wheelchair on board after lifting a person to safety from a flooded area of Houston on August 28. Hide Caption 34 of 74 Photos: Hurricane Harvey slams Texas Houston flood victims eat and rest at the George R. Brown Convention Center on August 28. Hide Caption 35 of 74 Photos: Hurricane Harvey slams Texas Belinda Penn holds her dogs Winston and Baxter after being rescued from their home in Spring, Texas, on August 28. Hide Caption 36 of 74 Photos: Hurricane Harvey slams Texas A firefighter is wheeled to a waiting ambulance after he became fatigued while fighting an office-building fire in downtown Houston on August 28. Hide Caption 37 of 74 Photos: Hurricane Harvey slams Texas People evacuate a neighborhood in west Houston on August 28. Hide Caption 38 of 74 Photos: Hurricane Harvey slams Texas Julie Martinez, right, hugs her daughter, Gabrielle Jackson, in front of a relative\\'s damaged apartment in Rockport on August 28. Hide Caption 39 of 74 Photos: Hurricane Harvey slams Texas Cattle are stranded in a flooded pasture in La Grange, Texas, on August 28. Hide Caption 40 of 74 Photos: Hurricane Harvey slams Texas Volunteer rescue boats make their way into a flooded subdivision in Spring, Texas, on August 28. Hide Caption 41 of 74 Photos: Hurricane Harvey slams Texas Houston police officer Daryl Hudeck carries Catherine Pham and her 13-month-old son, Aiden, after rescuing them from floodwaters on Sunday, August 27. Hide Caption 42 of 74 Photos: Hurricane Harvey slams Texas People push a stalled pickup through a flooded street in Houston on August 27. Hide Caption 43 of 74 Photos: Hurricane Harvey slams Texas Residents of Rockport return to their destroyed home on August 27. Hide Caption 44 of 74 Photos: Hurricane Harvey slams Texas The Buffalo Bayou floods parts of Houston on August 27. Hide Caption 45 of 74 Photos: Hurricane Harvey slams Texas Two men try to beat the current that was pushing them down an overflowing Brays Bayou in Houston on August 27. Hide Caption 46 of 74 Photos: Hurricane Harvey slams Texas Jane Rhodes is rescued by neighbors in Friendswood, Texas, on August 27. Hide Caption 47 of 74 Photos: Hurricane Harvey slams Texas Volunteers at Sacred Heart Catholic Church prepare cots for evacuees in Elgin, Texas, on August 27. Hide Caption 48 of 74 Photos: Hurricane Harvey slams Texas Damage to a home is seen in the Key Allegro neighborhood of Rockport on August 27. Hide Caption 49 of 74 Photos: Hurricane Harvey slams Texas Melani Zurawski cries while inspecting her home in Port Aransas on August 27. Hide Caption 50 of 74 Photos: Hurricane Harvey slams Texas Wilford Martinez, right, is rescued from his flooded car along Interstate 610 in Houston on August 27. Assisting him here is Richard Wagner of the Harris County Sheriff\\'s Department. Hide Caption 51 of 74 Photos: Hurricane Harvey slams Texas A car is submerged by floodwaters on a freeway near downtown Houston on August 27. Hide Caption 52 of 74 Photos: Hurricane Harvey slams Texas A resident of the Bayou on the Bend apartment complex watches its first floor flood in Houston on August 27. Hide Caption 53 of 74 Photos: Hurricane Harvey slams Texas A city flag, tattered by the effects of Hurricane Harvey, flaps in the wind over the police station in Rockport on August 27. Hide Caption 54 of 74 Photos: Hurricane Harvey slams Texas Fort Bend County Sheriff Troy Nehls and Lucas Wu lift Ethan Wu into an airboat as they evacuate the Orchard Lakes subdivision in Fort Bend County, Texas, on August 27. Hide Caption 55 of 74 Photos: Hurricane Harvey slams Texas Damage is seen at a boat storage building in Rockport on August 27. Hide Caption 56 of 74 Photos: Hurricane Harvey slams Texas Water rushes from a large sinkhole along a highway in Rosenberg, Texas, on August 27. Hide Caption 57 of 74 Photos: Hurricane Harvey slams Texas Evacuees wade through a flooded section of Interstate 610 in Houston on August 27. Hide Caption 58 of 74 Photos: Hurricane Harvey slams Texas Evacuees are loaded onto a truck on an Interstate 610 overpass in Houston on August 27. Hide Caption 59 of 74 Photos: Hurricane Harvey slams Texas A graveyard is flooded in Pearland, Texas, on August 27. Hide Caption 60 of 74 Photos: Hurricane Harvey slams Texas A driver works his way through a maze of fallen utility poles in Taft, Texas, on Saturday, August 26. Hide Caption 61 of 74 Photos: Hurricane Harvey slams Texas Steve Culver comforts his dog Otis on August 26 as he talks about what he said was the \"most terrifying event in his life.\" Hurricane Harvey destroyed most of his home in Rockport while he and his wife were there. Hide Caption 62 of 74 Photos: Hurricane Harvey slams Texas People walk through flooded streets in Galveston on August 26. Hide Caption 63 of 74 Photos: Hurricane Harvey slams Texas Aaron Tobias stands in what is left of his Rockport home on August 26. Tobias said he was able to get his wife and kids out before the storm arrived, but he stayed there and rode it out. Hide Caption 64 of 74 Photos: Hurricane Harvey slams Texas Brad Matheney offers help to a man in a wheelchair in Galveston on August 26. Hide Caption 65 of 74 Photos: Hurricane Harvey slams Texas Jessica Campbell hugs Jonathan Fitzgerald after riding out Hurricane Harvey in an apartment in Rockport. Hide Caption 66 of 74 Photos: Hurricane Harvey slams Texas Boats are damaged in Rockport on August 26. Hide Caption 67 of 74 Photos: Hurricane Harvey slams Texas A damaged home in Rockport on August 26. Hide Caption 68 of 74 Photos: Hurricane Harvey slams Texas Donna Raney makes her way out of the wreckage of her home as Daisy Graham assists her in Rockport on August 26. Raney was hiding in the shower after the roof blew off and the walls of her home caved in. Hide Caption 69 of 74 Photos: Hurricane Harvey slams Texas A laundromat\\'s machines are exposed to the elements in Rockport on August 26. Hide Caption 70 of 74 Photos: Hurricane Harvey slams Texas A semi-truck is overturned on a highway south of Houston on August 26. Hide Caption 71 of 74 Photos: Hurricane Harvey slams Texas An American flag flies in front of a damaged mobile-home park in Rockport on August 26. Hide Caption 72 of 74 Photos: Hurricane Harvey slams Texas NASA astronaut Jack Fischer photographed Hurricane Harvey from the International Space Station on Friday, August 25. Hide Caption 73 of 74 Photos: Hurricane Harvey slams Texas Waves pound the shore as Harvey approaches Corpus Christi, Texas, on August 25. Hide Caption 74 of 74 \\n \\n The disaster in Port Arthur is part of Tropical Storm Harvey\\'s devastating encore. Harvey made landfall once again Wednesday morning, slamming into the Louisiana coast near the Texas border. \\n \\n 26 inches in 24 hours \\n \\n Harvey has broken the US record for rainfall from a single storm, CNN senior meteorologist Dave Hennen said. It has dumped almost 52 inches of rain in parts of Texas. \\n \\n The coastal cities of Beaumont and Port Arthur got pummeled with 26 inches of rain in 24 hours. \\n \\n \"Life-threatening flash flooding continues in far east Texas around Beaumont and Port Arthur,\" Hennen said. \\n \\n Port Arthur, a city of about 55,000, is in exceptional danger because water from Beaumont is expected to flow toward it. \\n \\n In Beaumont, a man who accidentally drove a truck into a flooded ravine that looked like a street was rescued by CNN correspondent Drew Griffin, producer Brian Rokus and photographer Scott Pisczek on Wednesday. \"I want to thank these guys for saving my life,\" said the driver, Jerry Sumrall. \\n \\n In Woodville, a town north of Beaumont, US Rep. Brian Babin was trapped for part of Wednesday at home with members of his family after a creek overflowed. \\n \\n \"I\\'m in my home in Tyler County, and we could not get out unless a helicopter plucks me out or I get my boat and launch it,\" the Texas Republican told CNN by phone early in the day. \"We\\'re fine. These waters are going to recede hopefully sometime this evening.\" \\n \\n On Wednesday afternoon, a US Navy helicopter plucked seven people from floodwaters. \\n \\n \\'We help each other out\\' \\n \\n Strangers from across the country descended on Texas and braved treacherous floodwater to evacuate victims. \\n \\n JUST WATCHED CNN crew helps rescue man from truck Replay More Videos ... MUST WATCH CNN crew helps rescue man from truck 02:05 \\n \\n Tom Dickers is among those who came hauling boats from Dallas and San Antonio. \\n \\n \"This is what Texans would do. We help each other out,\" Dickers said. \\n \\n At least 9,000 to 10,000 people have been rescued in the Houston region by first responders. Volunteers said they have helped as many as 400 in one day. \\n \\n Some would just \"come crying, just wanting help,\" volunteer Bobba Bedri said. \"I just felt like I had to get more people out, keep going and keep going.\" \\n \\n CLARIFICATION: Harvey made its first landfall at 10 p.m. local time Friday, initially striking a barrier island near Port Aransas, Texas, before moving onto the US mainland two hours later near Copano Bay, Texas. After re-emerging into the Gulf of Mexico on Monday, it made another landfall Wednesday in Louisiana.',\n",
       "       'The catastrophic flooding from Hurricane Harvey is not limited to Texas, it\\'s also affecting parts of southwest Louisiana where preparations are underway to evacuate some areas. \\n \\n Interested in Hurricane Harvey? Add Hurricane Harvey as an interest to stay up to date on the latest Hurricane Harvey news, video, and analysis from ABC News. Add Interest \\n \\n As the heavy band of rain stretches over southwest Louisiana, residents in the Lake Charles region are once again bracing for impact like they did for Hurricane Katrina 12 years ago. \\n \\n According to the National Weather Service, Harvey will make landfall again later early Wednesday morning as a tropical storm. \\n \\n Dick Gremillion, director of homeland security and preparedness, said Tuesday, \"We are not going to escape this, we are going to get more rain.\" \\n \\n Louisiana Gov. John Bel Edwards said 671 members of the National Guard have been activated. The 15 soldiers who are stationed in New Orleans are reporting on the status of the city\\'s drainage pumps, Edwards said. \\n \\n First responders have rescued about 500 people so far, and there are currently 269 people in shelters in southwest Louisiana, 200 of whom were rescued, Edwards said. \\n \\n While the department is not enforcing mandatory evacuations, \"we strongly suggest it,\" especially for areas \"prone to flooding,\" Gremillion said. \\n \\n Surrounding areas in southwest Louisiana have already received 10 to 20 inches of rain and another 10 to 15 inches of rain is still possible. The NWS expects major flooding in Calcasieu River, winds of 45 miles-per-hour and falling trees due to heavy rain and tornadoes. \\n \\n Lake Charles Mayor Nic Hunter warned residents on Tuesday that if they were concerned about homes flooding last night they should \"pull the trigger today and let us help you get out.\" \\n \\n The storm could leave the area as early as Wednesday night, but extended rain bands may continue into Thursday. \\n \\n On Monday night, water rose to chest-high in some areas, flooding homes and forcing hundreds of evacuations in one neighborhood, according to Lake Charles Fire Department Division Chief Lennie LaFleur. \\n \\n Among the nearly 500 rescued, one family displaced by the rising water said they were forced to move quickly in the middle of the night to flee their flooded home. \\n \\n When the water rose to four feet high, a single father\\'s four children began to blow up inflatable boats using their own breath to help their dad and grandma. The father pulled his family atop the inflatables for nearly half a mile from their home to an evacuation center. \\n \\n Local authorities are concerned the floodwater surrounding the shelter could continue to rise as the rain picks back up Tuesday evening. \\n \\n As storm forecasts show further movement into the state, Louisiana\\'s governor is warning that \"the worst is likely to come for us here.\" \\n \\n Heavy rain is developing along the south LA coast & expected to expand inland through predawn hours. Flash Flood Watch continues #LAwx #MSwx pic.twitter.com/6SJcuhqyQO — NWS New Orleans (@NWSNewOrleans) August 29, 2017 \\n \\n Harvey \"does remain a named tropical storm and it\\'s going to drop an awful lot of rain,\" Edwards said at a news conference Monday. \"We do have a long way to go with this particular storm.\" \\n \\n Flash flood warnings and watches are in effect as the outer bands that have done the most damage in Houston are expected to move further inland into Louisiana by Wednesday, ABC News meteorologists said. Officials are monitoring storm surge and high tides, which could increase flooding. \\n \\n The storm will make landfall again the day after the 12-year anniversary of Hurricane Katrina. In a press conference, New Orleans Mayor Mitch Landrieu said the memories from Hurricane Katrina are \"flashing back to us as the images from Houston rain down on us.\" \\n \\n \"If that storm came our way, we would likely experience the same thing as Houston, if not worse,\" Landrieu said. \\n \\n Landrieu said the city of New Orleans will \"never forget the incredible compassion\" it received from the people of Houston. On Monday, he reactivated the NOLA Pay It Forward Fund, which raised $250,000 last year when the city of Baton Rouge was affected by widespread flooding. \\n \\n New Orleans public schools will be open Thursday, Landrieu said, but he asked residents to \"stay alert and stay vigilant tonight\" in case the storm deviates. City workers are continuing to man pump stations to get all pumps and power back, Landrieu said. \\n \\n The mayor asked residents to prepare to stay off the streets in the event of flash flooding.',\n",
       "       'Lauren Durst holds onto her ten-month-old son, Wyatt Durst, as they evacuate from the Savannah Estates neighborhood as Addicks Reservoir nears capacity during Tropical Storm Harvey, Tuesday, Aug. 29,... (Associated Press) \\n \\n HOUSTON (AP) — The latest weather forecast delivered hope to Houston after five days of torrential rain submerged the nation\\'s fourth-largest city: Less than an inch of rain and perhaps even sunshine. \\n \\n But the dangers remain far from over Wednesday. With at least 18 dead and 13,000 people rescued in the Houston area and surrounding cities and counties in Southeast Texas, others were still trying to escape from their inundated homes. Weakened levees were in danger of failing and a less-ferocious but still potent Harvey returned to shore, making landfall in southwestern Louisiana. \\n \\n The situation was dire early Wednesday in Port Arthur, Texas, near the Louisiana border, where homes were starting to fill with rising floodwaters and residents were unsure of how to evacuate the city, KFDM-TV reported. Jefferson County Sheriff Zena Stephens said county resources could not get to Port Arthur because of the flooding. \\n \\n Port Arthur Mayor Derrick Freeman said on his Facebook page that the \"city is underwater right now but we are coming!\" He also urged residents to get to higher ground and to avoid becoming trapped in attics. \\n \\n Authorities expected the human toll to continue to mount, both in deaths and in the tens of thousands of people made homeless by the catastrophic storm that is now the heaviest tropical downpour in U.S. history. In all, more than 17,000 people have sought refuge in Texas shelters, and that number seemed certain to increase, the American Red Cross said. \\n \\n Houston\\'s largest shelter housed 10,000 of the displaced — twice its initial intended capacity — as two additional mega-shelters opened Tuesday for the overflow. Louisiana\\'s governor offered to take in Harvey victims from Texas, and televangelist Joel Osteen opened his Houston megachurch, a 16,000-seat former arena, after critics blasted him on social media for not acting to help families displaced by the storm. \\n \\n In an apparent response to scattered reports of looting, a curfew was put into effect from midnight to 5 a.m., with police saying violators would be questioned, searched and arrested. \\n \\n A much-weakened Tropical Storm Harvey steered into new territory, coming ashore again early Wednesday just west of Cameron, Louisiana, with maximum sustained winds of 45 mph (72 kph), the National Hurricane Center said. \\n \\n Harvey is expected to weaken, but will slog through Louisiana for much of the day before taking its downpours north. Arkansas, Tennessee and parts of Missouri are on alert for Harvey flooding in the next couple of days. \\n \\n \"Once we get this thing inland during the day, it\\'s the end of the beginning,\" said National Hurricane Center meteorologist Dennis Feltgen. \"Texas is going to get a chance to finally dry out as this system pulls out.\" \\n \\n But Feltgen cautioned: \"We\\'re not done with this. There\\'s still an awful lot of real estate and a lot of people who are going to feel the impacts of the storm.\" \\n \\n Still, the reprieve from the rain in Houston was welcome. \\n \\n Eugene Rideaux, a 42-year-old mechanic who showed up at Osteen\\'s Lakewood Church to sort donations for evacuees, said he had not been able to work or do much since the storm first hit, so he was eager to get out of his dark house and help. \\n \\n \"It\\'s been so dark for days now, I\\'m just ready to see some light. Some sunshine. I\\'m tired of the darkness,\" Rideaux said. \"But it\\'s a tough city, and we\\'re going to make this into a positive and come together.\" \\n \\n The city has asked the Federal Emergency Management Agency for more supplies, including cots and food, for an additional 10,000 people, said Houston Mayor Sylvester Turner, who hoped to get the supplies no later than Wednesday. \\n \\n Four days after the storm ravaged the Texas coastline as a Category 4 hurricane, authorities and family members reported at least 18 deaths from Harvey. They include a former football and track coach in suburban Houston and a woman who died after she and her young daughter were swept into a rain-swollen drainage canal. Two Beaumont, Texas, police officers and two fire-rescue divers spotted the woman floating with the child, who was holding onto her mother. \\n \\n Authorities acknowledge that fatalities from Harvey could soar once the floodwaters start to recede from one of America\\'s largest metropolitan centers. \\n \\n A pair of 70-year-old reservoir dams that protect downtown Houston and a levee in a suburban subdivision began overflowing Tuesday, adding to the rising floodwaters. \\n \\n Engineers began releasing water from the Addicks and Barker reservoirs Monday to ease the strain on the dams. But the releases were not enough to relieve the pressure after the relentless downpours, Army Corps of Engineers officials said. Both reservoirs are at record highs. \\n \\n The release of the water means that more homes and streets will flood, and some homes will be inundated for up to a month, said Jeff Linder of the Harris County Flood Control District. \\n \\n Officials in Houston were also keeping an eye on infrastructure such as bridges, roads and pipelines that are in the path of the floodwaters. \\n \\n Water in the Houston Ship Channel, which serves the Port of Houston and Houston\\'s petrochemical complex, is at levels never seen before, Linder said. \\n \\n The San Jacinto River, which empties into the channel, has pipelines, roads and bridges not designed for the current deluge, Linder said, and the chance of infrastructure failures will increase the \"longer we keep the water in place.\" \\n \\n Among the worries is debris coming down the river and crashing into structures and the possibility that pipelines in the riverbed will be scoured by swift currents. In 1994, a pipeline ruptured on the river near Interstate 10 and caught fire. \\n \\n After five consecutive days of rain, Harvey set a new continental U.S. record for rainfall for a tropical system. \\n \\n The rains in Cedar Bayou, near Mont Belvieu, Texas, totaled 51.88 inches (132 centimeters) as of Tuesday afternoon. That\\'s a record for both Texas and the continental United States, but it does not quite surpass the 52 inches (133 centimeters) from Tropical Cyclone Hiki in Kauai, Hawaii, in 1950, before Hawaii became a state. \\n \\n ___ \\n \\n Associated Press writers Frank Bajak and Michael Graczyk in Houston, Diana Heidgerd and David Warren in Dallas, Seth Borenstein in Washington and Tammy Webber in Chicago contributed to this report. \\n \\n ___ \\n \\n Sign up for AP\\'s daily newsletter showcasing our best all-formats reporting on Harvey and its aftermath: http://apne.ws/ahYQGtb .',\n",
       "       '\\n \\n The ExxonMobil refinery in Baytown, Tex., in 2008. (Jessica Rinaldi/Reuters) \\n \\n ExxonMobil acknowledged Tuesday that Hurricane Harvey damaged two of its refineries, causing the release of hazardous pollutants. \\n \\n The acknowledgment, in a regulatory filing with the Texas Commission on Environmental Quality, follows repeated complaints on Twitter of an “unbearable” chemical smell over parts of Houston. However, it was not immediately clear what caused the smell. \\n \\n ExxonMobil said in the filings that a floating roof covering a tank at the company’s Baytown oil refinery sank in heavy rains, dipping below the surface of oil or other material stored there and causing unusually high emissions, especially of volatile organic compounds, a category of regulated chemicals. \\n \\n [Houston dam spills over while police say more than 3,500 rescued during Harvey flooding] \\n \\n The Baytown refinery is the second-largest in the country. The company said in its filing that it would need to empty the tank to make repairs, though it wasn’t clear when the weather would permit that. \\n \\n An ExxonMobil spokeswoman said the company would “conduct an assessment to determine the impact of the storm once it is safe to do so.” It would not say what was in the tank. \\n \\n At the company’s Beaumont petrochemical refinery, Harvey damaged a sulfur thermal oxidizer, a piece of equipment that captures and burns sulfur dioxide. As a result, the plant released 1,312.84 pounds of sulfur dioxide, well in excess of the amounts allowed by the company’s permits. \\n \\n “The unit was stabilized. No impact to the community has been reported,” the company said in its filing. “Actions were taken to minimize emissions and to restore the refinery to normal operations.” \\n \\n A variety of other chemicals was emitted during the shutdown of the plants. Amy Graham, a spokeswoman for the Environmental Protection Agency, said that ExxonMobil had filed a report at the National Response Center operated by the U.S. Coast Guard saying the Baytown refinery would release about 15 pounds of benzene into the air. \\n \\n “Most of the unauthorized emissions come from the process of shutting down, and then starting up, the various units of the plant, when pollution control devices can’t be operated properly and there’s lots of flaring,” said Luke Metzger, director of the group Environment Texas. \\n \\n Flaring is generally done when releasing chemicals without burning them is more hazardous for people and the environment. ExxonMobil said it had flared hazardous materials at its Baytown refinery Sunday and Monday. \\n \\n Most of the other facilities belonging to major companies also filed notices with the Texas Commission on Environmental Quality. Chevron Phillips, for example, said that it expected its Cedar Bayou chemical plant to exceed permitted limits for several hazardous pollutants, such as 1,3-butadiene, benzene and ethylene, during shutdown procedures. \\n \\n Environment Texas and the Sierra Club sued ExxonMobil in 2010 alleging that the company’s Baytown complex had emitted 8 million pounds of hazardous chemicals over a five-year period. A federal judge imposed a $20 million penalty on the company. \\n \\n “Any release of carcinogens (like benzene, 1,3-butadiene) adds to the increased cancer risk for those living near these plants,” Metzger said in an email. He said that large releases of nitrogen oxides or sulfur dioxide “and other respiratory irritants adds to the respiratory problems people in the area suffer from at high rates.” \\n \\n Separately, the Houston Chronicle reported that there was a chemical leak from a pipeline that ruptured in La Porte, Texas on Monday. Local authorities urged residents to stay inside. The warning applied to people living as far away as Shoreacres and Baytown. The warning was later lifted. \\n \\n The Energy Department said that all six oil refineries in the Corpus Christi area, seven \\n \\n oil refineries in the Houston and Galveston area, and one refinery in the Beaumont/Port Arthur area were shut down or in the process of shutting down. The idle refineries have a capacity of 3.2 million barrels a day, equal to a third of Gulf coast capacity and 17.6 percent of total U.S. refining capacity. Further closures are likely as the storm moves east into Louisiana, where there is another 1.65 million barrels a day of oil refining capacity. \\n \\n The logjam of tankers and trucks was adding to woes. Valero, which had closed its two refineries in the Corpus Christi area, said it was looking to reopen the facilities but that damaged pipeline, port and transportation infrastructure could delay re-openings. \\n \\n Bloomberg News reported that Marathon said it was closing its Galveston Bay refinery because it was running out of crude, which could not be delivered because of port closures. \\n \\n Gasoline prices for September delivery also rose amid signs that the Gulf’s woes could spread. The Colonial Pipeline, the main link between the heart of the nation’s oil and gas industry and consumers in the northeast, said that supplies of refined petroleum products from the Houston area had been disrupted. \\n \\n Read more about Hurricane Harvey: \\n \\n Where Harvey is hitting hardest, 80 percent lack flood insurance \\n \\n Houston is experiencing its third ‘500-year’ flood in 3 years. How is that possible? \\n \\n Hurricane Harvey shows how we underestimate flooding risks in coastal cities, scientists say'],\n",
       "      dtype=object)"
      ]
     },
     "execution_count": 61,
     "metadata": {},
     "output_type": "execute_result"
    }
   ],
   "source": [
    "articles_df[articles_df['topic_id'] == 390]['article'].values"
   ]
  },
  {
   "cell_type": "markdown",
   "id": "f9e75505",
   "metadata": {},
   "source": [
    "Possible questions\n",
    "- What were the key challenges faced by Texas and Louisiana during Hurricane Harvey?\n",
    "- How many homes were destroyed in huricane harvey"
   ]
  },
  {
   "cell_type": "markdown",
   "id": "986ce503",
   "metadata": {},
   "source": [
    "What were the key challenges faced by Texas and Louisiana during Hurricane Harvey?"
   ]
  },
  {
   "cell_type": "code",
   "execution_count": 62,
   "id": "af53e6c9",
   "metadata": {},
   "outputs": [
    {
     "data": {
      "text/plain": [
       "[(Document(id='13a9b0ec-d27e-4221-89b3-89c07fcfe49c', metadata={'article_id': 1112, 'topic_id': 390}, page_content='(CNN) With countless Houstonians still awaiting rescue, Tropical Depression Harvey devoured another Texas city. \\n \\n The unrelenting storm unleashed its wrath on a wide swath east of Houston, leaving thousands stranded in flooded homes and forcing the evacuation of a nursing facility and even an emergency shelter where residents had sought refuge.'),\n",
       "  np.float32(0.37814432)),\n",
       " (Document(id='0e72b927-a078-4c7d-94d7-553a88d5ec3e', metadata={'article_id': 1113, 'topic_id': 390}, page_content=\"The catastrophic flooding from Hurricane Harvey is not limited to Texas, it's also affecting parts of southwest Louisiana where preparations are underway to evacuate some areas. \\n \\n Interested in Hurricane Harvey? Add Hurricane Harvey as an interest to stay up to date on the latest Hurricane Harvey news, video, and analysis from ABC News. Add Interest\"),\n",
       "  np.float32(0.36525846)),\n",
       " (Document(id='934ee14d-5fab-4619-93ce-c677818fb96a', metadata={'article_id': 1112, 'topic_id': 390}, page_content='Photos: Hurricane Harvey slams Texas Downtown Houston is reflected in the flooded Buffalo Bayou on Wednesday, August 30, five days after Hurricane Harvey made landfall in Texas. The Category 4 storm came ashore late Friday, August 25, just north of Port Aransas, and has caused historic flooding. Correction: Previous versions of this gallery incorrectly reported that Hurricane Harvey is the strongest storm to make landfall in the United States since Wilma in 2005'),\n",
       "  np.float32(0.31963944)),\n",
       " (Document(id='ffb8b64b-678d-4fd8-98c5-54e05e67ff90', metadata={'article_id': 1112, 'topic_id': 390}, page_content='. Hide Caption 14 of 74 Photos: Hurricane Harvey slams Texas President Donald Trump takes part in a briefing on Harvey as he visits Corpus Christi on August 29. In a stop in Austin, Trump spoke of the long-term effort and stiff costs that will be needed to rebuild the region. \"Nobody\\'s seen this kind of water,\" he said. \"Probably, there\\'s never been something so expensive in our country\\'s history.\" While talking about recovery and relief efforts, Trump said, \"We want to do it better than ever before'),\n",
       "  np.float32(0.30542243)),\n",
       " (Document(id='29ea13a7-721e-4aa3-89f1-60fbb7526d84', metadata={'article_id': 1112, 'topic_id': 390}, page_content='Harvey is still threatening to dump an additional 3 to 6 inches of rain from northern Louisiana into western Kentucky, forecasters said. It weakened over land and fizzled to a tropical depression Wednesday night, with winds of 35 mph. \\n \\n New Orleans Mayor Mitch Landrieu said volunteers helped New Orleans recover after Katrina and they will do the same for Texas residents affected by Harvey.'),\n",
       "  np.float32(0.2996782)),\n",
       " (Document(id='7972dcea-a07c-4488-a093-4c4ca9f43fc3', metadata={'article_id': 1112, 'topic_id': 390}, page_content='. Hide Caption 40 of 74 Photos: Hurricane Harvey slams Texas Volunteer rescue boats make their way into a flooded subdivision in Spring, Texas, on August 28. Hide Caption 41 of 74 Photos: Hurricane Harvey slams Texas Houston police officer Daryl Hudeck carries Catherine Pham and her 13-month-old son, Aiden, after rescuing them from floodwaters on Sunday, August 27. Hide Caption 42 of 74 Photos: Hurricane Harvey slams Texas People push a stalled pickup through a flooded street in Houston on August 27'),\n",
       "  np.float32(0.2895751)),\n",
       " (Document(id='5ec6c28c-0fed-4761-a475-19fec0de9503', metadata={'article_id': 1110, 'topic_id': 390}, page_content='Harvey, which first came ashore last Friday in Texas as a category 4 hurricane, dumped more than 51 inches of rain on some parts of the state, according to preliminary reports from the National Weather Service. The storm led to at least 31 deaths over the past five days, according to The Associated Press. Harris County officials, where Houston is located, confirmed six new deaths late Wednesday.'),\n",
       "  np.float32(0.28886002)),\n",
       " (Document(id='07d20104-67ba-4f39-91a1-4f4314426d97', metadata={'article_id': 1112, 'topic_id': 390}, page_content='. Hide Caption 43 of 74 Photos: Hurricane Harvey slams Texas Residents of Rockport return to their destroyed home on August 27. Hide Caption 44 of 74 Photos: Hurricane Harvey slams Texas The Buffalo Bayou floods parts of Houston on August 27. Hide Caption 45 of 74 Photos: Hurricane Harvey slams Texas Two men try to beat the current that was pushing them down an overflowing Brays Bayou in Houston on August 27'),\n",
       "  np.float32(0.28565884)),\n",
       " (Document(id='487a5854-9d9a-4426-ac7d-5130cc96a7bd', metadata={'article_id': 1112, 'topic_id': 390}, page_content='. Hide Caption 11 of 74 Photos: Hurricane Harvey slams Texas Members of the National Guard rest at a furniture store in Richmond, Texas, on August 29. Hide Caption 12 of 74 Photos: Hurricane Harvey slams Texas Alexis Hernandez holds her daughter Faith at the George R. Brown Convention Center, which is serving as a shelter in Houston. Hide Caption 13 of 74 Photos: Hurricane Harvey slams Texas Evacuees make their way though floodwaters in Houston on August 29'),\n",
       "  np.float32(0.28559738)),\n",
       " (Document(id='43b644f9-bc5c-4e54-9a8c-4bc974dfaed6', metadata={'article_id': 1112, 'topic_id': 390}, page_content='. Hide Caption 6 of 74 Photos: Hurricane Harvey slams Texas A cat tries to find dry ground around a flooded apartment complex on August 30 in Houston. Hide Caption 7 of 74 Photos: Hurricane Harvey slams Texas Volunteer rescue workers help a woman from her flooded home in Port Arthur on August 30. Hide Caption 8 of 74 Photos: Hurricane Harvey slams Texas The Florida Air Force Reserve Pararescue team from the 308th Rescue Squadron helps evacuees board a helicopter in Port Arthur on August 30'),\n",
       "  np.float32(0.2836901)),\n",
       " (Document(id='99a9f1f0-4290-4a17-8335-f85f09383a6b', metadata={'article_id': 1112, 'topic_id': 390}, page_content='. Hide Caption 31 of 74 Photos: Hurricane Harvey slams Texas People are rescued in Houston on August 28. Hide Caption 32 of 74 Photos: Hurricane Harvey slams Texas Bridget Brundrett presents an American flag to Texas Gov. Greg Abbott while he was in Rockport on August 28. The flag had been recovered from city hall after flying during the hurricane'),\n",
       "  np.float32(0.28226852)),\n",
       " (Document(id='63e411c3-9d07-489a-b286-955cb4db2c55', metadata={'article_id': 1112, 'topic_id': 390}, page_content=\". Hide Caption 37 of 74 Photos: Hurricane Harvey slams Texas People evacuate a neighborhood in west Houston on August 28. Hide Caption 38 of 74 Photos: Hurricane Harvey slams Texas Julie Martinez, right, hugs her daughter, Gabrielle Jackson, in front of a relative's damaged apartment in Rockport on August 28. Hide Caption 39 of 74 Photos: Hurricane Harvey slams Texas Cattle are stranded in a flooded pasture in La Grange, Texas, on August 28\"),\n",
       "  np.float32(0.28087217)),\n",
       " (Document(id='2ffc6d61-6554-42fe-8992-14e632b0c0b9', metadata={'article_id': 1112, 'topic_id': 390}, page_content='. Hide Caption 26 of 74 Photos: Hurricane Harvey slams Texas A firefighter helps Sara Golden and her daughters Paisley, Poppy and Piper board a Texas Air National Guard C-130 at Scholes International Airport in Galveston, Texas, on August 28. Hide Caption 27 of 74 Photos: Hurricane Harvey slams Texas People make their way out of a flooded neighborhood in Houston on August 28'),\n",
       "  np.float32(0.28044188)),\n",
       " (Document(id='0e34ddc8-ac53-4409-a6b6-b450ba35e084', metadata={'article_id': 1112, 'topic_id': 390}, page_content='. Hide Caption 22 of 74 Photos: Hurricane Harvey slams Texas Shardea Harrison looks at her 3-week-old baby, Sarai, as Dean Mize, right, and Jason Legnon use an airboat to rescue them from their home in Houston on Monday, August 28. Hide Caption 23 of 74 Photos: Hurricane Harvey slams Texas Thousands take shelter at the George R. Brown Convention Center in Houston on August 28'),\n",
       "  np.float32(0.27898228)),\n",
       " (Document(id='74728dff-78c7-46c6-933f-b9fbbf744875', metadata={'article_id': 1112, 'topic_id': 390}, page_content='. Hide Caption 57 of 74 Photos: Hurricane Harvey slams Texas Evacuees wade through a flooded section of Interstate 610 in Houston on August 27. Hide Caption 58 of 74 Photos: Hurricane Harvey slams Texas Evacuees are loaded onto a truck on an Interstate 610 overpass in Houston on August 27. Hide Caption 59 of 74 Photos: Hurricane Harvey slams Texas A graveyard is flooded in Pearland, Texas, on August 27'),\n",
       "  np.float32(0.2755075)),\n",
       " (Document(id='5a45893b-e794-428c-8017-2cb77719d6a6', metadata={'article_id': 1112, 'topic_id': 390}, page_content='. Her home in Beaumont was flooded Wednesday morning. \"Even Katrina wasn\\'t this bad,\" Forse told the Austin American-Statesman. Hide Caption 5 of 74 Photos: Hurricane Harvey slams Texas Tammy Dominguez, left, and her husband, Christopher Dominguez, sleep on cots at the George R. Brown Convention Center, where nearly 10,000 people are taking shelter in Houston, on August 30'),\n",
       "  np.float32(0.274054)),\n",
       " (Document(id='a7beb3e9-d05d-40a3-9932-df6bbf24eb92', metadata={'article_id': 1112, 'topic_id': 390}, page_content='. Hide Caption 9 of 74 Photos: Hurricane Harvey slams Texas Water from the Addicks Reservoir flows into neighborhoods in Houston as floodwaters rise Tuesday, August 29. Hide Caption 10 of 74 Photos: Hurricane Harvey slams Texas Chris Gutierrez, second from right, helps his grandmother, Edelmira Gutierrez, down the stairs of their flooded house and into a waiting firetruck in the Concord Bridge neighborhood of Houston on August 29'),\n",
       "  np.float32(0.27090532)),\n",
       " (Document(id='bfc646d4-b9ff-449f-9775-0abb0d083127', metadata={'article_id': 2037, 'topic_id': 711}, page_content='A man checks on a boat storage facility that was damaged by Hurricane Harvey, Saturday, Aug. 26, 2017, in Rockport, Texas. (AP Photo/Eric Gay) (Associated Press) \\n \\n HOUSTON (AP) — Rising floodwaters from the remnants of Hurricane Harvey chased thousands of people to rooftops or higher ground Sunday in Houston, overwhelming rescuers who fielded countless desperate calls for help.'),\n",
       "  np.float32(0.26636207)),\n",
       " (Document(id='bf459713-c135-465f-8dcb-c491ca07fe98', metadata={'article_id': 1110, 'topic_id': 390}, page_content='Thousands of people likely remain stranded, and an estimated 30,000 to 40,000 homes have been destroyed in the Houston area as Hurricane Harvey, now a tropical depression, continues to batter the Gulf Coast with torrential rains, flooding and strong winds, Harris County Judge Ed Emmett said. \\n \\n Interested in Hurricane Harvey? Add Hurricane Harvey as an interest to stay up to date on the latest Hurricane Harvey news, video, and analysis from ABC News. Add Interest'),\n",
       "  np.float32(0.2641393)),\n",
       " (Document(id='900b7e27-fb0d-4094-a3b7-aa01a53410ad', metadata={'article_id': 2037, 'topic_id': 711}, page_content='Harvey weakened Saturday to a tropical storm. By Sunday morning the system was centered about 65 miles southeast of San Antonio, with maximum sustained winds of about 45 mph (72.42 kph), according to the National Hurricane Center, which described the flooding as \"catastrophic.\" \\n \\n Harvey came ashore as the fiercest hurricane to hit the U.S. in 13 years and the strongest to strike Texas since 1961\\'s Hurricane Carla, the most powerful Texas hurricane on record. \\n \\n ___'),\n",
       "  np.float32(0.26188195)),\n",
       " (Document(id='ae6af791-4855-4612-8efb-6f1f02cbc228', metadata={'article_id': 1114, 'topic_id': 390}, page_content='But the dangers remain far from over Wednesday. With at least 18 dead and 13,000 people rescued in the Houston area and surrounding cities and counties in Southeast Texas, others were still trying to escape from their inundated homes. Weakened levees were in danger of failing and a less-ferocious but still potent Harvey returned to shore, making landfall in southwestern Louisiana.'),\n",
       "  np.float32(0.2585898)),\n",
       " (Document(id='3a0b7fd7-42ba-4b5d-809d-4a526c7588b9', metadata={'article_id': 1112, 'topic_id': 390}, page_content='. Harvey is actually the strongest storm to make landfall in the United States since Charley in 2004. Hide Caption 1 of 74 Photos: Hurricane Harvey slams Texas Members of the Louisiana Department of Wildlife and Fisheries, the Florida Fish and Wildlife Conservation Commission and the Louisiana National Guard help rescue elderly people from a flooded assisted living home in Orange, Texas, on August 30'),\n",
       "  np.float32(0.25463092)),\n",
       " (Document(id='4237f0a3-53f8-448f-aa29-fadbc5297851', metadata={'article_id': 1111, 'topic_id': 390}, page_content='HOUSTON — Five days after the pummeling began — a time when big storms have usually blown through, the sun has come out, and evacuees have returned home — Tropical Storm Harvey refused to go away, battering southeast Texas even more on Tuesday, spreading the destruction into Louisiana and shattering records for rainfall and flooding.'),\n",
       "  np.float32(0.2542802))]"
      ]
     },
     "execution_count": 62,
     "metadata": {},
     "output_type": "execute_result"
    }
   ],
   "source": [
    "semantic_search_with_threshold(db, \"What were the key challenges faced by Texas and Louisiana during Hurricane Harvey\", encoder, threshold=0.25)"
   ]
  },
  {
   "cell_type": "markdown",
   "id": "7d6f82a0",
   "metadata": {},
   "source": [
    "### Broadening search "
   ]
  },
  {
   "cell_type": "code",
   "execution_count": 63,
   "id": "a0ff52b2",
   "metadata": {},
   "outputs": [
    {
     "data": {
      "text/plain": [
       "{'original': 'What were the key challenges faced by Texas and Louisiana during Hurricane Harvey?',\n",
       " 'all_sub_questions': ['What were the immediate impacts of Hurricane Harvey on infrastructure in Texas and Louisiana?',\n",
       "  'How did the response and recovery efforts differ between Texas and Louisiana during and after Hurricane Harvey?',\n",
       "  'Were there any significant challenges that Texas and Louisiana did not face during Hurricane Harvey?',\n",
       "  'Did the preparedness levels of Texas and Louisiana mitigate some of the challenges posed by Hurricane Harvey?',\n",
       "  'What were the long-term economic and social challenges faced by communities in Texas and Louisiana post-Hurricane Harvey?',\n",
       "  'How did local, state, and federal agencies coordinate their efforts in response to Hurricane Harvey?',\n",
       "  'What lessons have emergency management officials learned from the challenges faced during Hurricane Harvey in Texas and Louisiana?',\n",
       "  'How did the media portray the challenges faced by Texas and Louisiana during Hurricane Harvey?']}"
      ]
     },
     "execution_count": 63,
     "metadata": {},
     "output_type": "execute_result"
    }
   ],
   "source": [
    "question =  \"<query>What were the key challenges faced by Texas and Louisiana during Hurricane Harvey?</query>\"\n",
    "questions = expansion_gpt(question)\n",
    "questions"
   ]
  },
  {
   "cell_type": "code",
   "execution_count": 64,
   "id": "3d88acfd",
   "metadata": {},
   "outputs": [
    {
     "name": "stdout",
     "output_type": "stream",
     "text": [
      "Unique Article IDs: {1537, 4040, 2037, 1110, 2038, 1112, 1113, 1114}\n",
      "Topics Covered: {1394, 541, 390, 711}\n"
     ]
    }
   ],
   "source": [
    "retrieved_documents =  []\n",
    "for question in questions['all_sub_questions']:\n",
    "    retrieved_documents += semantic_search_with_threshold(db, question, encoder, threshold=0.25)\n",
    "\n",
    "article_id = set()\n",
    "topic_id_check = set()\n",
    "\n",
    "for doc, score in retrieved_documents:\n",
    "    aid = doc.metadata.get(\"article_id\")\n",
    "    tid = doc.metadata.get(\"topic_id\")\n",
    "    article_id.add(aid)\n",
    "    topic_id_check.add(tid)\n",
    "\n",
    "print(\"Unique Article IDs:\", article_id)\n",
    "print(\"Topics Covered:\", topic_id_check)\n"
   ]
  },
  {
   "cell_type": "markdown",
   "id": "ffa5d6ef",
   "metadata": {},
   "source": [
    "From broadening the search we see that even more articles emerged with article_id = 4040 which covers topic 1394. And it encompasses huricane harvey as well from the example below "
   ]
  },
  {
   "cell_type": "code",
   "execution_count": 65,
   "id": "e2da2ee1",
   "metadata": {},
   "outputs": [
    {
     "data": {
      "text/plain": [
       "'Acting Homeland Secretary Elaine Duke, center, is briefed on the Hurricane Maria response during a flight to Puerto Rico on Friday, Sept. 29, 2017. President Donald Trump on Thursday cleared the way for... (Associated Press) \\n \\n BRANCHBURG, N.J. (AP) — President Donald Trump on Sunday scoffed at \"politically motivated ingrates\" who had questioned his administration\\'s commitment to revive Puerto Rico after a pulverizing hurricane and said the federal government had done \"a great job with the almost impossible situation.\" \\n \\n The tweets coming from a president ensconced in his New Jersey golf club sought to defend Washington\\'s efforts to mobilize and coordinate recovery efforts on a U.S. territory in dire straits almost two weeks after Hurricane Maria struck. \\n \\n San Juan Mayor Carmen Yulin Cruz on Friday accused the Trump administration of \"killing us with the inefficiency\" after the storm. She begged the president, who is set to visit Puerto Rico on Tuesday, to \"make sure somebody is in charge that is up to the task of saving lives,\" and appealed for help \"to save us from dying.\" \\n \\n Trump\\'s weekend tweets have shown him to be contemptuous of their complaints of a laggard U.S. response to the natural disaster that has imperiled the island\\'s future. \\n \\n \"We have done a great job with the almost impossible situation in Puerto Rico. Outside of the Fake News or politically motivated ingrates,\" he tweeted on Sunday. \\n \\n He said \"people are now starting to recognize the amazing work\" done by the Federal Emergency Management Agency and the military. \\n \\n The day before, Trump had tweeted: \"Such poor leadership ability by the Mayor of San Juan, and others in Puerto Rico, who are not able to get their workers to help.\" \\n \\n He added: \"They want everything to be done for them when it should be a community effort,\" Trump wrote from his club. \\n \\n His critical response was an unusually pointed rebuke from the president in the heat of a disaster — a time when leaders often put aside partisan differences in the name of solidarity. But it was a reminder of Trump\\'s unrelenting penchant for punching back against critics, whatever the circumstances. \\n \\n Trump has said he\\'s doing everything possible to help the \"great people of PR!\" and has pledged to spare no effort to help the island recover from Maria\\'s ruinous aftermath. He has also repeatedly applauded his government\\'s recovery efforts, saying military personnel and first responders have done \"an amazing job,\" despite the significant logistical challenges. \\n \\n Thousands more Puerto Ricans have received water and rationed food as an aid bottleneck has begun to ease. But many, especially outside the capital, remain desperate for necessities, including water, power and fuel. \\n \\n Trump\\'s administration has tried in recent days to combat the perception that he failed to quickly grasp the magnitude of Maria\\'s destruction and has given the U.S. commonwealth less attention than he\\'d bestowed on states like Texas, Louisiana and Florida after they were hit by hurricanes Harvey and Irma. Trump had repeatedly praised the residents of those states as strong and resilient, saying at one point that Texas could \"handle anything.\" \\n \\n Administration officials have held numerous press conferences providing updates on relief efforts and Trump on Saturday spoke by phone from New Jersey with FEMA Administrator Brock Long, Puerto Rico\\'s governor, Ricardo Rosselló, and other several other local officials. \\n \\n But after a week of growing criticism, the president\\'s patience appears to be waning. \\n \\n \"The Mayor of San Juan, who was very complimentary only a few days ago, has now been told by the Democrats that you must be nasty to Trump,\" the president charged, without substantiation. \\n \\n Long added: \"The problem that we have with the mayor unfortunately is that unity of command is ultimately what\\'s needed to be successful in this response,\" he said, requesting that she report to a joint field office. \\n \\n Cruz declined to engage in the tit for tat, instead calling for a united focus on the people who need help. \"The goal is one: saving lives. This is the time to show our \\'true colors.\\' We cannot be distracted by anything else,\" she tweeted, along with photos of herself meeting with residents and rescue workers, wading hip-deep through a flooded street and comforting an elderly woman. \\n \\n After a day of tweets criticizing the news media, Trump seemed to echo the sentiment: \"We must all be united in offering assistance to everyone suffering in Puerto Rico and elsewhere in the wake of this terrible disaster.\" \\n \\n Trump\\'s Saturday tweets are the latest example of his insistence on \"punching back,\" even against those with far less power. After a deadly terror attack in London in June, for instance, Trump singled out London Mayor Sadiq Khan, suggesting he wasn\\'t taking the attacks seriously enough. \\n \\n Natural disasters sometimes bring moments of rare bipartisan solidarity. In the aftermath of Superstorm Sandy, which wreaked havoc along the East Coast in 2012, New Jersey\\'s Republican governor, Chris Christie, praised Democratic President Barack Obama for his personal attention and compassion at a joint press conference. Still, the fight over relief money became politicized and contentious, with numerous Republicans voting against a delayed relief bill. \\n \\n In the aftermath of Hurricane Katrina and Hurricane Andrew, tensions between local and federal officials also ran high. Then-New Orleans Mayor Ray Nagin pleaded with the government to send help in sometimes colorful terms, while Terry Ebbert, the city\\'s Homeland Security director, called relief efforts a \"national disgrace.\"'"
      ]
     },
     "execution_count": 65,
     "metadata": {},
     "output_type": "execute_result"
    }
   ],
   "source": [
    "articles_df[articles_df['article_id'] == 1537]['article'].iloc[0]"
   ]
  },
  {
   "cell_type": "markdown",
   "id": "52f5b958",
   "metadata": {},
   "source": [
    "## Fact Extraction (Using LLMS)\n",
    "With the articles obtained, we can feed them to the LLM for fact extraction. However we don't want all facts as some are rubbish and waste time or token gen so we can prompt engineer to ask for facts only relating to query. We can test the difference between with question and no question but just not giving the question. The llm will extract everything"
   ]
  },
  {
   "cell_type": "code",
   "execution_count": null,
   "id": "2d7bf174",
   "metadata": {},
   "outputs": [
    {
     "data": {
      "text/plain": [
       "{'facts': ['Five individuals were aboard the submersible.']}"
      ]
     },
     "execution_count": 66,
     "metadata": {},
     "output_type": "execute_result"
    }
   ],
   "source": [
    "system_prompt = \"\"\"\n",
    "You are a research assistant specialized in fact extraction.\n",
    "\n",
    "Extract clear, verifiable facts from the <context>. Focus on short, distinct, evidence-based statements — no opinions, summaries, or assumptions.\n",
    "Avoid full sentences. Only return **distinct factual keywords or short noun phrases** that can be grounded in the text.\n",
    "Reduce the facts down to those that aid in answering the <query>\n",
    "\n",
    "<requirements>\n",
    "- Output a valid JSON.\n",
    "- Min. 1 fact cannot be empty, no additional prior knowledge.\n",
    "- Each fact must be concise, directly grounded in the text.\n",
    "- Avoid redundancy, vague phrasing, or restatements.\n",
    "</requirements>\n",
    "\n",
    "<example>\n",
    "{\n",
    "  \"facts\": [\n",
    "    \"The study was published in 'Behavioral Ecology'.\",\n",
    "    \"Urban birds solved food puzzles faster than rural birds.\",\n",
    "    \"Over 100 pigeons and sparrows were studied in cities.\"\n",
    "  ]\n",
    "}\n",
    "\"\"\"\n",
    "\n",
    "\n",
    "example =\"\"\"\n",
    "\n",
    "<context>\n",
    "The OceanGate incident involved the implosion of a submersible during a dive to the Titanic wreck site. Five individuals were aboard the submersible when it imploded\n",
    "</context>\"\n",
    "\n",
    "<query>\n",
    "how many people were aboard ocean gate\n",
    "</query>\n",
    "\n",
    "\"\"\"\n",
    "\n",
    "\n",
    "fact_gpt = set_role(system_prompt, set_json=True)\n",
    "results = fact_gpt(example)\n",
    "results"
   ]
  },
  {
   "cell_type": "markdown",
   "id": "da19795e",
   "metadata": {},
   "source": [
    "### Testing with single article\n"
   ]
  },
  {
   "cell_type": "code",
   "execution_count": 67,
   "id": "d07b5faa",
   "metadata": {},
   "outputs": [
    {
     "data": {
      "text/plain": [
       "[1537, 4040, 2037, 1110, 2038, 1112, 1113, 1114]"
      ]
     },
     "execution_count": 67,
     "metadata": {},
     "output_type": "execute_result"
    }
   ],
   "source": [
    "article_id_list = list(article_id)\n",
    "article_id_list"
   ]
  },
  {
   "cell_type": "code",
   "execution_count": 68,
   "id": "5d4e5175",
   "metadata": {},
   "outputs": [
    {
     "data": {
      "text/plain": [
       "'A man checks on a boat storage facility that was damaged by Hurricane Harvey, Saturday, Aug. 26, 2017, in Rockport, Texas. (AP Photo/Eric Gay) (Associated Press) \\n \\n HOUSTON (AP) — Rising floodwaters from the remnants of Hurricane Harvey chased thousands of people to rooftops or higher ground Sunday in Houston, overwhelming rescuers who fielded countless desperate calls for help. \\n \\n A fleet of helicopters, airboats and high-water vehicles confronted flooding so widespread that authorities had trouble pinpointing the worst areas. Rescuers got too many calls to respond to each one and had to prioritize life-and-death situations. \\n \\n The water rose high enough to begin filling second floors — a highly unusual sight for a city built on nearly flat terrain. Authorities urged people to get on top of their homes to avoid becoming trapped in attics and to wave sheets or towels to draw attention to their location. \\n \\n Harris County Sheriff Ed Gonzalez used Twitter to field calls for assistance. Among those seeking help was a woman who posted: \"I have 2 children with me and the water is swallowing us up.\" \\n \\n People used inflatable beach toys, rubber rafts and even air mattresses to get through the rising waters to safety. Others simply waded while carrying plastic trash bags stuffed with their belongings. \\n \\n Houston Mayor Sylvester Turner said authorities had received more than 2,000 calls for help and would be opening the city\\'s main convention center as a shelter. He urged drivers to stay off flooded roads to avoid adding to the number of stranded people. \\n \\n \"I don\\'t need to tell anyone this is a very, very serious and unprecedented storm,\" Turner told a news conference. \"We have several hundred structural flooding reports. We expect that number to rise pretty dramatically.\" \\n \\n The mayor defended his decision not to ask residents to evacuate before the heavy rain from Harvey swamped roads and neighborhoods across the nation\\'s fourth-largest city. He said there was no way to know which neighborhoods would be most vulnerable. \\n \\n \"If you think the situation right now is bad and you give an order to evacuate, you are creating a nightmare,\" he said, citing the risks of sending the city\\'s 2.3 million inhabitants onto the highways at the same time. \\n \\n Rainfall of more than 4 inches per hour resulted in water levels higher than in any recent floods and higher than during Tropical Storm Allison in June 2001, said Jeff Linder of flood control district in Harris County, which includes Houston. \\n \\n Rescue came by land, water and air. \\n \\n On Interstate 45 south of downtown, television video showed people climbing over concrete dividers to get to a high-wheel dump truck that appeared to be wheels-deep in water on a service road. They clambered up the side of the truck to get into the dump box. \\n \\n In Friendswood near Houston, authorities asked people with flat-bottomed airboats or fuel for them to help rescue people, KPRC-TV in Houston reported Sunday morning. \\n \\n The Coast Guard, which received more than 300 requests for help, deployed five helicopters and asked for additional aircraft from New Orleans. \\n \\n Staff at a Houston television station broadcasting live coverage of the floods had to evacuate after water from the nearby Buffalo Bayou started to gush into the building. The anchors and news operations at KHOU-TV moved first to a second floor before finally abandoning the station. \\n \\n The director of the Federal Emergency Management Agency, Brock Long, said the government expected to conduct a \"mass care mission\" and predicted that the aftermath of the storm would require FEMA\\'s involvement for years. \\n \\n \"This disaster\\'s going to be a landmark event.\" \\n \\n President Donald Trump tweeted Sunday morning that he would visit Texas. \\n \\n \"I will be going to Texas as soon as that trip can be made without causing disruption,\" the president posted on Twitter. \"The focus must be life and safety.\" \\n \\n The rescues unfolded a day after the hurricane settled over the Texas coastline. It was blamed for killing at least two people and injuring up to 14. \\n \\n Anxiety ran high throughout the region between Corpus Christi and Houston because some of the areas with the greatest hurricane damage were inaccessible to rescuers. And the forecast for days of steady rain threatened to inundate the region\\'s flat landscape with as much as 40 inches (100 centimeters). \\n \\n In the island community of Port Aransas, population 3,800, officials were unable to fully survey the town because of \"massive\" damage. Police and heavy equipment had only made it into the northernmost street. \\n \\n \"I can tell you I have a very bad feeling and that\\'s about it,\" said Mayor Charles Bujan, who had called for a mandatory evacuation but did not know how many heeded the order. \\n \\n Some of the worst damage appeared to be in Rockport, a coastal city of about 10,000 that was directly in the storm\\'s path. The mayor said his community took a blow \"right on the nose\" that left \"widespread devastation,\" including homes, businesses and schools that were heavily damaged. Some structures were destroyed. \\n \\n Rockport\\'s roads were a mess of toppled power poles and other debris. Harvey\\'s relentless wind tore the metal sides off the high school gym and twisted the steel door frame of its auditorium. \\n \\n \"We\\'re still in the very infancy stage of getting this recovery started,\" said Aransas County spokesman Larry Sinclair. \\n \\n One person was killed in Aransas County when in a fire at home during the storm, county Judge C.H. \"Burt\" Mills Jr. said. \\n \\n Another person — a woman who tried to get out of her vehicle in high water — died in flooding in Harris County, where Houston is located, , though authorities had not confirmed a cause of death, said Gary Norman, a spokesman for the Houston emergency operations center. \\n \\n Meanwhile, the storm was barely moving. Rainfall totals varied across the region, with Galveston receiving around 8 inches (20 centimeters), Houston 11 (28 centimeters) and Aransas 10 (25 centimeters). Tiny Austwell got 15 inches (38 centimeters). \\n \\n The fiercest hurricane to hit the U.S. in more than a decade came ashore late Friday about 30 miles (48 kilometers) northeast of Corpus Christi as a mammoth Category 4 storm with 130 mph (209 kph) winds. \\n \\n Harvey weakened Saturday to a tropical storm. By Sunday morning the system was centered about 65 miles southeast of San Antonio, with maximum sustained winds of about 45 mph (72.42 kph), according to the National Hurricane Center, which described the flooding as \"catastrophic.\" \\n \\n Harvey came ashore as the fiercest hurricane to hit the U.S. in 13 years and the strongest to strike Texas since 1961\\'s Hurricane Carla, the most powerful Texas hurricane on record. \\n \\n ___ \\n \\n Associated Press writers Juan Lozano and Nomaan Merchant in Houston; Tammy Webber in Chicago; David Phillip in Dickinson, Texas; and Jamie Stengle, David Warren and Claudia Lauer and in Dallas contributed to this report.'"
      ]
     },
     "execution_count": 68,
     "metadata": {},
     "output_type": "execute_result"
    }
   ],
   "source": [
    "single_test = articles_df[articles_df['article_id'] == article_id_list[2]]\n",
    "fact_extract_context = single_test['article'].values[0]\n",
    "fact_extract_context"
   ]
  },
  {
   "cell_type": "markdown",
   "id": "f8ae233e",
   "metadata": {},
   "source": [
    "### No question"
   ]
  },
  {
   "cell_type": "code",
   "execution_count": 69,
   "id": "ba7a4028",
   "metadata": {},
   "outputs": [
    {
     "data": {
      "text/plain": [
       "'\\n<context>\\nA man checks on a boat storage facility that was damaged by Hurricane Harvey, Saturday, Aug. 26, 2017, in Rockport, Texas. (AP Photo/Eric Gay) (Associated Press) \\n \\n HOUSTON (AP) — Rising floodwaters from the remnants of Hurricane Harvey chased thousands of people to rooftops or higher ground Sunday in Houston, overwhelming rescuers who fielded countless desperate calls for help. \\n \\n A fleet of helicopters, airboats and high-water vehicles confronted flooding so widespread that authorities had trouble pinpointing the worst areas. Rescuers got too many calls to respond to each one and had to prioritize life-and-death situations. \\n \\n The water rose high enough to begin filling second floors — a highly unusual sight for a city built on nearly flat terrain. Authorities urged people to get on top of their homes to avoid becoming trapped in attics and to wave sheets or towels to draw attention to their location. \\n \\n Harris County Sheriff Ed Gonzalez used Twitter to field calls for assistance. Among those seeking help was a woman who posted: \"I have 2 children with me and the water is swallowing us up.\" \\n \\n People used inflatable beach toys, rubber rafts and even air mattresses to get through the rising waters to safety. Others simply waded while carrying plastic trash bags stuffed with their belongings. \\n \\n Houston Mayor Sylvester Turner said authorities had received more than 2,000 calls for help and would be opening the city\\'s main convention center as a shelter. He urged drivers to stay off flooded roads to avoid adding to the number of stranded people. \\n \\n \"I don\\'t need to tell anyone this is a very, very serious and unprecedented storm,\" Turner told a news conference. \"We have several hundred structural flooding reports. We expect that number to rise pretty dramatically.\" \\n \\n The mayor defended his decision not to ask residents to evacuate before the heavy rain from Harvey swamped roads and neighborhoods across the nation\\'s fourth-largest city. He said there was no way to know which neighborhoods would be most vulnerable. \\n \\n \"If you think the situation right now is bad and you give an order to evacuate, you are creating a nightmare,\" he said, citing the risks of sending the city\\'s 2.3 million inhabitants onto the highways at the same time. \\n \\n Rainfall of more than 4 inches per hour resulted in water levels higher than in any recent floods and higher than during Tropical Storm Allison in June 2001, said Jeff Linder of flood control district in Harris County, which includes Houston. \\n \\n Rescue came by land, water and air. \\n \\n On Interstate 45 south of downtown, television video showed people climbing over concrete dividers to get to a high-wheel dump truck that appeared to be wheels-deep in water on a service road. They clambered up the side of the truck to get into the dump box. \\n \\n In Friendswood near Houston, authorities asked people with flat-bottomed airboats or fuel for them to help rescue people, KPRC-TV in Houston reported Sunday morning. \\n \\n The Coast Guard, which received more than 300 requests for help, deployed five helicopters and asked for additional aircraft from New Orleans. \\n \\n Staff at a Houston television station broadcasting live coverage of the floods had to evacuate after water from the nearby Buffalo Bayou started to gush into the building. The anchors and news operations at KHOU-TV moved first to a second floor before finally abandoning the station. \\n \\n The director of the Federal Emergency Management Agency, Brock Long, said the government expected to conduct a \"mass care mission\" and predicted that the aftermath of the storm would require FEMA\\'s involvement for years. \\n \\n \"This disaster\\'s going to be a landmark event.\" \\n \\n President Donald Trump tweeted Sunday morning that he would visit Texas. \\n \\n \"I will be going to Texas as soon as that trip can be made without causing disruption,\" the president posted on Twitter. \"The focus must be life and safety.\" \\n \\n The rescues unfolded a day after the hurricane settled over the Texas coastline. It was blamed for killing at least two people and injuring up to 14. \\n \\n Anxiety ran high throughout the region between Corpus Christi and Houston because some of the areas with the greatest hurricane damage were inaccessible to rescuers. And the forecast for days of steady rain threatened to inundate the region\\'s flat landscape with as much as 40 inches (100 centimeters). \\n \\n In the island community of Port Aransas, population 3,800, officials were unable to fully survey the town because of \"massive\" damage. Police and heavy equipment had only made it into the northernmost street. \\n \\n \"I can tell you I have a very bad feeling and that\\'s about it,\" said Mayor Charles Bujan, who had called for a mandatory evacuation but did not know how many heeded the order. \\n \\n Some of the worst damage appeared to be in Rockport, a coastal city of about 10,000 that was directly in the storm\\'s path. The mayor said his community took a blow \"right on the nose\" that left \"widespread devastation,\" including homes, businesses and schools that were heavily damaged. Some structures were destroyed. \\n \\n Rockport\\'s roads were a mess of toppled power poles and other debris. Harvey\\'s relentless wind tore the metal sides off the high school gym and twisted the steel door frame of its auditorium. \\n \\n \"We\\'re still in the very infancy stage of getting this recovery started,\" said Aransas County spokesman Larry Sinclair. \\n \\n One person was killed in Aransas County when in a fire at home during the storm, county Judge C.H. \"Burt\" Mills Jr. said. \\n \\n Another person — a woman who tried to get out of her vehicle in high water — died in flooding in Harris County, where Houston is located, , though authorities had not confirmed a cause of death, said Gary Norman, a spokesman for the Houston emergency operations center. \\n \\n Meanwhile, the storm was barely moving. Rainfall totals varied across the region, with Galveston receiving around 8 inches (20 centimeters), Houston 11 (28 centimeters) and Aransas 10 (25 centimeters). Tiny Austwell got 15 inches (38 centimeters). \\n \\n The fiercest hurricane to hit the U.S. in more than a decade came ashore late Friday about 30 miles (48 kilometers) northeast of Corpus Christi as a mammoth Category 4 storm with 130 mph (209 kph) winds. \\n \\n Harvey weakened Saturday to a tropical storm. By Sunday morning the system was centered about 65 miles southeast of San Antonio, with maximum sustained winds of about 45 mph (72.42 kph), according to the National Hurricane Center, which described the flooding as \"catastrophic.\" \\n \\n Harvey came ashore as the fiercest hurricane to hit the U.S. in 13 years and the strongest to strike Texas since 1961\\'s Hurricane Carla, the most powerful Texas hurricane on record. \\n \\n ___ \\n \\n Associated Press writers Juan Lozano and Nomaan Merchant in Houston; Tammy Webber in Chicago; David Phillip in Dickinson, Texas; and Jamie Stengle, David Warren and Claudia Lauer and in Dallas contributed to this report.\\n</context>\"\\n'"
      ]
     },
     "execution_count": 69,
     "metadata": {},
     "output_type": "execute_result"
    }
   ],
   "source": [
    "fact_extract_context_query = f\"\"\"\n",
    "<context>\n",
    "{fact_extract_context}\n",
    "</context>\"\n",
    "\"\"\"\n",
    "\n",
    "fact_extract_context_query"
   ]
  },
  {
   "cell_type": "code",
   "execution_count": 70,
   "id": "d5e11068",
   "metadata": {},
   "outputs": [
    {
     "data": {
      "text/plain": [
       "{'facts': ['Hurricane Harvey made landfall on Aug. 25, 2017.',\n",
       "  'Hurricane Harvey was a Category 4 storm.',\n",
       "  'Winds reached 130 mph (209 kph).',\n",
       "  'Houston received 11 inches (28 centimeters) of rain.',\n",
       "  'Aransas County reported one death during the storm.',\n",
       "  'Rockport experienced widespread devastation.',\n",
       "  'The storm caused structural flooding reports in Houston.',\n",
       "  'More than 2,000 calls for help were received by authorities.',\n",
       "  'The Coast Guard received over 300 requests for help.',\n",
       "  'President Donald Trump announced plans to visit Texas.',\n",
       "  'Rainfall totals varied across the region.',\n",
       "  'Harvey was the strongest hurricane to hit Texas since 1961.']}"
      ]
     },
     "execution_count": 70,
     "metadata": {},
     "output_type": "execute_result"
    }
   ],
   "source": [
    "fact_gpt(fact_extract_context_query)"
   ]
  },
  {
   "cell_type": "markdown",
   "id": "5d36eff1",
   "metadata": {},
   "source": [
    "Model extracted  points all extremely atomic along with all assocuated nouns, relating to the specifics of the article. Maybe relevant who knows"
   ]
  },
  {
   "cell_type": "markdown",
   "id": "0911fe14",
   "metadata": {},
   "source": [
    "### With question"
   ]
  },
  {
   "cell_type": "code",
   "execution_count": 71,
   "id": "36a56fee",
   "metadata": {},
   "outputs": [
    {
     "data": {
      "text/plain": [
       "{'facts': ['Rising floodwaters chased thousands to rooftops or higher ground.',\n",
       "  'Rescuers received countless desperate calls for help.',\n",
       "  'Authorities had trouble pinpointing the worst areas of flooding.',\n",
       "  'Water rose high enough to begin filling second floors.',\n",
       "  'Houston Mayor Sylvester Turner reported over 2,000 calls for help.',\n",
       "  'The Coast Guard received more than 300 requests for help.',\n",
       "  'KHOU-TV staff evacuated due to flooding from Buffalo Bayou.',\n",
       "  'Hurricane Harvey was blamed for at least two deaths and up to 14 injuries.',\n",
       "  'Forecast predicted as much as 40 inches of rain in the region.',\n",
       "  'Rockport experienced widespread devastation, including heavily damaged homes and schools.',\n",
       "  'Harvey came ashore as a Category 4 storm with 130 mph winds.',\n",
       "  'Harvey was the fiercest hurricane to hit the U.S. in over a decade.']}"
      ]
     },
     "execution_count": 71,
     "metadata": {},
     "output_type": "execute_result"
    }
   ],
   "source": [
    "fact_extract_context_query = f\"\"\"\n",
    "<context>\n",
    "{fact_extract_context}\n",
    "</context>\n",
    "\n",
    "<query>\n",
    "{question}\n",
    "</query>\n",
    "\"\"\"\n",
    "\n",
    "ans = fact_gpt(fact_extract_context_query)\n",
    "ans"
   ]
  },
  {
   "cell_type": "markdown",
   "id": "28193a97",
   "metadata": {},
   "source": [
    "Time could be saved for lesser answers, may be good or bad possibly need to balance "
   ]
  },
  {
   "cell_type": "markdown",
   "id": "a3ee1477",
   "metadata": {},
   "source": [
    "### For all facts\n",
    "Now with this established, we can try to extract all facts and nouns from all related articles. Can take a while if there are a lot of articles not sure if there is a faster better way to extract facts... \n",
    "\n",
    "Maybe smaller model? OpenIE (A bit out dated)"
   ]
  },
  {
   "cell_type": "code",
   "execution_count": 72,
   "id": "a36da488",
   "metadata": {},
   "outputs": [
    {
     "data": {
      "text/plain": [
       "{1110: {'facts': ['30,000 to 40,000 homes destroyed in Houston area.',\n",
       "   'Harvey made landfall near Cameron, Louisiana.',\n",
       "   'Maximum sustained winds of 35 mph.',\n",
       "   'Storm dumped more than 2 feet of rain in Beaumont-Port Arthur area.',\n",
       "   'Power outages in Houston area down to 75,000.',\n",
       "   '32,000 outages inaccessible to crews.',\n",
       "   'Houston Fire Department received about 15,000 calls for assistance.',\n",
       "   'Coast Guard taking more than 1,000 calls per hour for rescues.',\n",
       "   'At least 31 deaths reported due to the storm.',\n",
       "   '24,000 National Guard troops deployed in Texas.',\n",
       "   'FEMA operating more than 230 shelters in Texas.',\n",
       "   'George R. Brown Convention Center housing about 8,000 people.',\n",
       "   'Texas accepting resources from Mexico for relief efforts.',\n",
       "   'Israeli Rescue Coalition team arriving in Houston.']},\n",
       " 1112: {'facts': ['Tropical Depression Harvey affected Texas and Louisiana.',\n",
       "   'Thousands stranded in flooded homes.',\n",
       "   '37 deaths reported in Texas related to Hurricane Harvey.',\n",
       "   '19 deaths in Harris County.',\n",
       "   '15 inches of rain in Beaumont area.',\n",
       "   'Houston Police received 60,000 to 70,000 calls for help.',\n",
       "   'One-third of the Houston area covered in water.',\n",
       "   \"2,500 homes flooded near Houston's reservoirs.\",\n",
       "   'Floodwaters overwhelmed Bob Bowers Civic Center in Port Arthur.',\n",
       "   '74 bedridden patients evacuated from Lake Arthur Place nursing home.',\n",
       "   '26 inches of rain in 24 hours in Beaumont and Port Arthur.',\n",
       "   '52 inches of rain in parts of Texas.',\n",
       "   '9,000 to 10,000 people rescued in Houston region.']},\n",
       " 1113: {'facts': ['Hurricane Harvey caused catastrophic flooding in Texas and southwest Louisiana.',\n",
       "   'Preparations for evacuations are underway in southwest Louisiana.',\n",
       "   'Residents in Lake Charles are bracing for impact similar to Hurricane Katrina.',\n",
       "   'Harvey is expected to make landfall again as a tropical storm.',\n",
       "   '671 members of the National Guard activated in Louisiana.',\n",
       "   '500 people have been rescued by first responders.',\n",
       "   '269 people are currently in shelters in southwest Louisiana.',\n",
       "   'Surrounding areas received 10 to 20 inches of rain.',\n",
       "   'Another 10 to 15 inches of rain is still possible.',\n",
       "   'Major flooding expected in Calcasieu River.',\n",
       "   'Winds of 45 miles-per-hour and falling trees due to heavy rain and tornadoes are forecasted.',\n",
       "   'Water rose to chest-high in some areas, flooding homes.',\n",
       "   'Flash flood warnings and watches are in effect.',\n",
       "   'Storm surge and high tides could increase flooding.']},\n",
       " 1114: {'facts': ['At least 18 dead in Houston area.',\n",
       "   '13,000 people rescued in Southeast Texas.',\n",
       "   'Port Arthur, Texas, homes filling with floodwaters.',\n",
       "   'Jefferson County Sheriff Zena Stephens reported flooding hindered rescue efforts.',\n",
       "   'More than 17,000 people sought refuge in Texas shelters.',\n",
       "   \"Houston's largest shelter housed 10,000 displaced individuals.\",\n",
       "   'Tropical Storm Harvey made landfall in southwestern Louisiana.',\n",
       "   'Maximum sustained winds of Harvey were 45 mph.',\n",
       "   'Houston Mayor Sylvester Turner requested supplies for an additional 10,000 people.',\n",
       "   'Harvey set a new continental U.S. record for rainfall for a tropical system.',\n",
       "   'Cedar Bayou recorded 51.88 inches of rain.']},\n",
       " 1537: {'facts': []},\n",
       " 2037: {'facts': ['Hurricane Harvey caused rising floodwaters in Houston.',\n",
       "   'Thousands of people were chased to rooftops or higher ground.',\n",
       "   'Authorities received more than 2,000 calls for help.',\n",
       "   'Rescuers prioritized life-and-death situations.',\n",
       "   'Rainfall exceeded 4 inches per hour.',\n",
       "   \"Houston Mayor Sylvester Turner opened the city's main convention center as a shelter.\",\n",
       "   'The Coast Guard received over 300 requests for help.',\n",
       "   'One person died in Aransas County during the storm.',\n",
       "   'Another person died in flooding in Harris County.',\n",
       "   'Harvey was a Category 4 storm with 130 mph winds.']},\n",
       " 2038: {'facts': ['Rockport, Texas, was storm-ravaged by Hurricane Harvey.',\n",
       "   'Hurricane Harvey caused historic rains and devastating flooding across East Texas.',\n",
       "   'Texas Governor Greg Abbott activated 4,000 National Guard members.',\n",
       "   'The National Weather Service forecasted up to 50 inches of rain.',\n",
       "   'The Coast Guard rescued over 100 people from rooftops.',\n",
       "   'Houston experienced more than 20 inches of rain in 24 hours.',\n",
       "   'Buffalo Bayou was 7.28 feet above flood stage.',\n",
       "   'Houston received about 6,000 rescue calls and over 56,000 911 calls.',\n",
       "   'Two deaths were reported due to the storm.',\n",
       "   'Rockport and Port Aransas were heavily impacted by the storm.',\n",
       "   'Port Aransas recorded wind gusts of 132 mph.']},\n",
       " 4040: {'facts': ['Residents evacuated homes near Addicks Reservoir.',\n",
       "   'Floodwaters from Tropical Storm Harvey rose on Aug. 29 in Houston, Texas.',\n",
       "   '$81 billion emergency aid bill passed by House.',\n",
       "   'House bill passed on a 251-169 vote.',\n",
       "   '69 Democrats supported the House bill.',\n",
       "   'Senate resistance to the aid package.',\n",
       "   'Disaster supplemental may slip to next year.',\n",
       "   '$27.6 billion allocated for FEMA.',\n",
       "   '$26.1 billion for Community Development Block Grants.',\n",
       "   '$12.11 billion for Army Corps of Engineers.',\n",
       "   'Congress may spend a record $133 billion on natural disasters this year.']}}"
      ]
     },
     "execution_count": 72,
     "metadata": {},
     "output_type": "execute_result"
    }
   ],
   "source": [
    "facts_and_nouns = {}\n",
    "\n",
    "for row in articles_df[articles_df['article_id'].isin(article_id_list)].iterrows():\n",
    "    article_row = row[1].iloc[2]\n",
    "    article_id = row[1].iloc[0]\n",
    "\n",
    "    fact_extract_context_query = f\"\"\"\n",
    "    <context>\n",
    "    {article_row}\n",
    "    </context>\n",
    "\n",
    "    <query>\n",
    "    {question}\n",
    "    </query>\n",
    "    \"\"\"\n",
    "\n",
    "    facts = fact_gpt(fact_extract_context_query)\n",
    "\n",
    "    facts_and_nouns[article_id] = facts\n",
    "\n",
    "facts_and_nouns\n"
   ]
  },
  {
   "cell_type": "markdown",
   "id": "21b71aa3",
   "metadata": {},
   "source": [
    "## HDBSCAN and Cluster Association (Concept Summary)\n",
    "\n",
    "We’ve extracted factual statements and key nouns from articles retrieved via question broadening, aiming to capture multiple aspects of a topic. Now, we need to organize and reason over this information.\n",
    "\n",
    "### Project Goals\n",
    "\n",
    "* Identify distinct factual statements about a topic\n",
    "* Show what different people/sources are saying\n",
    "* Detect missing or underreported information\n",
    "\n",
    "### LLM Limitations\n",
    "\n",
    "While LLMs can analyze text directly and I am not going against, relying solely on them poses some challenges that I am concerned about:\n",
    "\n",
    "* Context window limits\n",
    "* Slow responses when handling many facts\n",
    "* Diluted attention with too many tokens\n",
    "* Hallucinations or tracking errors\n",
    "\n",
    "\n",
    "### Proposed Solution: Fact clustering before content summarization and comparing\n",
    "\n",
    "We use embeddings + clustering to organize the facts to semantically similar claims and then make sub comparisons and abstractions of them\n",
    "\n",
    "This allows us to possibly improve on:\n",
    "- summarising all relevant themes and remove redundant processing saving time \n",
    "- Data organization and presentation later on\n",
    "\n",
    "### Potentially viable ?\n",
    "* Embeddings inherently encode semantic meaning meaning clustering could use the relational patterns in their latent space\n",
    "* Clustering leverages this to organize facts/nouns without manual labeling\n",
    "\n",
    "* Pronouns (e.g., \"he\", \"she\") may weaken noun clarity\n",
    "* Can mitigate by prompting LLM extractors to avoid or resolve pronouns\n",
    "\n",
    "HDBSCAN seems ok as it does not assume any uniform density and it doesn't require predefined cluster count (Like an anything goes model )\n",
    "\n"
   ]
  },
  {
   "cell_type": "markdown",
   "id": "f04c7b8b",
   "metadata": {},
   "source": [
    "### Fact Reembedding\n",
    "Next we can take all of these facts then reembedd the them \n",
    "Function below embedds the facts as well as normalizes them before fitting them into a dataframe"
   ]
  },
  {
   "cell_type": "code",
   "execution_count": 73,
   "id": "ccd35468",
   "metadata": {},
   "outputs": [],
   "source": [
    "def embed_and_build_dataframes(articles, encoder):\n",
    "    fact_rows = []\n",
    "\n",
    "    for article_id, article in articles.items():\n",
    "        facts = article[\"facts\"]\n",
    "\n",
    "        # Embed and normalize facts\n",
    "        fact_embeddings = encoder.embed_documents(facts)\n",
    "        norm_fact_embeddings = [vec / np.linalg.norm(vec) for vec in fact_embeddings]\n",
    "\n",
    "        # Add to rows\n",
    "        for fact, emb in zip(facts, norm_fact_embeddings):\n",
    "            fact_rows.append({\n",
    "                \"article\": article_id,\n",
    "                \"text\": fact,\n",
    "                \"embedding\": emb\n",
    "            })\n",
    "\n",
    "    df_facts = pd.DataFrame(fact_rows)\n",
    "    df_facts.reset_index(inplace=True)\n",
    "    df_facts.rename(columns={'index': 'fact_id'}, inplace=True)\n",
    "\n",
    "    return df_facts\n"
   ]
  },
  {
   "cell_type": "code",
   "execution_count": 74,
   "id": "811c3c32",
   "metadata": {},
   "outputs": [],
   "source": [
    "df_facts = embed_and_build_dataframes(facts_and_nouns, encoder)"
   ]
  },
  {
   "cell_type": "code",
   "execution_count": 75,
   "id": "857ac5dd",
   "metadata": {},
   "outputs": [
    {
     "data": {
      "text/html": [
       "<div>\n",
       "<style scoped>\n",
       "    .dataframe tbody tr th:only-of-type {\n",
       "        vertical-align: middle;\n",
       "    }\n",
       "\n",
       "    .dataframe tbody tr th {\n",
       "        vertical-align: top;\n",
       "    }\n",
       "\n",
       "    .dataframe thead th {\n",
       "        text-align: right;\n",
       "    }\n",
       "</style>\n",
       "<table border=\"1\" class=\"dataframe\">\n",
       "  <thead>\n",
       "    <tr style=\"text-align: right;\">\n",
       "      <th></th>\n",
       "      <th>fact_id</th>\n",
       "      <th>article</th>\n",
       "      <th>text</th>\n",
       "      <th>embedding</th>\n",
       "    </tr>\n",
       "  </thead>\n",
       "  <tbody>\n",
       "    <tr>\n",
       "      <th>0</th>\n",
       "      <td>0</td>\n",
       "      <td>1110</td>\n",
       "      <td>30,000 to 40,000 homes destroyed in Houston area.</td>\n",
       "      <td>[-0.056860456866819634, 0.08809049980619167, -...</td>\n",
       "    </tr>\n",
       "    <tr>\n",
       "      <th>1</th>\n",
       "      <td>1</td>\n",
       "      <td>1110</td>\n",
       "      <td>Harvey made landfall near Cameron, Louisiana.</td>\n",
       "      <td>[-0.011395760571932744, -0.056227716364759636,...</td>\n",
       "    </tr>\n",
       "  </tbody>\n",
       "</table>\n",
       "</div>"
      ],
      "text/plain": [
       "   fact_id  article                                               text  \\\n",
       "0        0     1110  30,000 to 40,000 homes destroyed in Houston area.   \n",
       "1        1     1110      Harvey made landfall near Cameron, Louisiana.   \n",
       "\n",
       "                                           embedding  \n",
       "0  [-0.056860456866819634, 0.08809049980619167, -...  \n",
       "1  [-0.011395760571932744, -0.056227716364759636,...  "
      ]
     },
     "execution_count": 75,
     "metadata": {},
     "output_type": "execute_result"
    }
   ],
   "source": [
    "df_facts.head(2)"
   ]
  },
  {
   "cell_type": "markdown",
   "id": "7fcc1949",
   "metadata": {},
   "source": [
    "Run HDBSCAN"
   ]
  },
  {
   "cell_type": "code",
   "execution_count": 76,
   "id": "1ef918c6",
   "metadata": {},
   "outputs": [],
   "source": [
    "def run_hdbscan(df, min_cluster_size=2, min_samples=1, metric='euclidean'):\n",
    "    X = np.vstack(df[\"embedding\"].values)\n",
    "\n",
    "    # Run HDBSCAN\n",
    "    clusterer = hdbscan.HDBSCAN(min_cluster_size=min_cluster_size,\n",
    "                                 min_samples=min_samples,\n",
    "                                 metric=metric,\n",
    "                                 \n",
    "                                 )\n",
    "    clusters = clusterer.fit_predict(X)\n",
    "\n",
    "    # Add cluster labels to DataFrame\n",
    "    df_with_clusters = df.copy()\n",
    "    df_with_clusters[\"cluster\"] = clusters\n",
    "\n",
    "    return df_with_clusters\n"
   ]
  },
  {
   "cell_type": "code",
   "execution_count": 77,
   "id": "a36bf623",
   "metadata": {},
   "outputs": [
    {
     "name": "stderr",
     "output_type": "stream",
     "text": [
      "d:\\Projects\\SAIC\\onboarding\\env\\Lib\\site-packages\\sklearn\\utils\\deprecation.py:151: FutureWarning: 'force_all_finite' was renamed to 'ensure_all_finite' in 1.6 and will be removed in 1.8.\n",
      "  warnings.warn(\n",
      "d:\\Projects\\SAIC\\onboarding\\env\\Lib\\site-packages\\sklearn\\utils\\deprecation.py:151: FutureWarning: 'force_all_finite' was renamed to 'ensure_all_finite' in 1.6 and will be removed in 1.8.\n",
      "  warnings.warn(\n"
     ]
    }
   ],
   "source": [
    "# DBSCAN clustering\n",
    "df_facts_clustered = run_hdbscan(df_facts)"
   ]
  },
  {
   "cell_type": "markdown",
   "id": "2ceb6969",
   "metadata": {},
   "source": [
    "Here we see that a few clusters were found. These results are already better than DBSCAN and KMeans based on experimentation in the past. \n",
    "- DBSCAN was at times forming too many or too little clusters\n",
    "- KMeans requires predefined clusters, not ideal for subjective unstructured tasks"
   ]
  },
  {
   "cell_type": "code",
   "execution_count": 78,
   "id": "f79f7ddf",
   "metadata": {},
   "outputs": [
    {
     "name": "stdout",
     "output_type": "stream",
     "text": [
      "Unqiue clusters found for facts: [-1 16 10 12  3  9  5 13  4  7 15 11 14  2  8  6  1  0]\n"
     ]
    },
    {
     "data": {
      "text/html": [
       "<div>\n",
       "<style scoped>\n",
       "    .dataframe tbody tr th:only-of-type {\n",
       "        vertical-align: middle;\n",
       "    }\n",
       "\n",
       "    .dataframe tbody tr th {\n",
       "        vertical-align: top;\n",
       "    }\n",
       "\n",
       "    .dataframe thead th {\n",
       "        text-align: right;\n",
       "    }\n",
       "</style>\n",
       "<table border=\"1\" class=\"dataframe\">\n",
       "  <thead>\n",
       "    <tr style=\"text-align: right;\">\n",
       "      <th></th>\n",
       "      <th>fact_id</th>\n",
       "      <th>article</th>\n",
       "      <th>text</th>\n",
       "      <th>embedding</th>\n",
       "      <th>cluster</th>\n",
       "    </tr>\n",
       "  </thead>\n",
       "  <tbody>\n",
       "    <tr>\n",
       "      <th>0</th>\n",
       "      <td>0</td>\n",
       "      <td>1110</td>\n",
       "      <td>30,000 to 40,000 homes destroyed in Houston area.</td>\n",
       "      <td>[-0.056860456866819634, 0.08809049980619167, -...</td>\n",
       "      <td>-1</td>\n",
       "    </tr>\n",
       "    <tr>\n",
       "      <th>1</th>\n",
       "      <td>1</td>\n",
       "      <td>1110</td>\n",
       "      <td>Harvey made landfall near Cameron, Louisiana.</td>\n",
       "      <td>[-0.011395760571932744, -0.056227716364759636,...</td>\n",
       "      <td>16</td>\n",
       "    </tr>\n",
       "    <tr>\n",
       "      <th>2</th>\n",
       "      <td>2</td>\n",
       "      <td>1110</td>\n",
       "      <td>Maximum sustained winds of 35 mph.</td>\n",
       "      <td>[-0.058482503044972635, -0.07144808938939251, ...</td>\n",
       "      <td>10</td>\n",
       "    </tr>\n",
       "    <tr>\n",
       "      <th>3</th>\n",
       "      <td>3</td>\n",
       "      <td>1110</td>\n",
       "      <td>Storm dumped more than 2 feet of rain in Beaum...</td>\n",
       "      <td>[-0.009097628574021573, 0.004168155769721676, ...</td>\n",
       "      <td>12</td>\n",
       "    </tr>\n",
       "    <tr>\n",
       "      <th>4</th>\n",
       "      <td>4</td>\n",
       "      <td>1110</td>\n",
       "      <td>Power outages in Houston area down to 75,000.</td>\n",
       "      <td>[-0.054019449486435195, 0.0033545723539305603,...</td>\n",
       "      <td>3</td>\n",
       "    </tr>\n",
       "  </tbody>\n",
       "</table>\n",
       "</div>"
      ],
      "text/plain": [
       "   fact_id  article                                               text  \\\n",
       "0        0     1110  30,000 to 40,000 homes destroyed in Houston area.   \n",
       "1        1     1110      Harvey made landfall near Cameron, Louisiana.   \n",
       "2        2     1110                 Maximum sustained winds of 35 mph.   \n",
       "3        3     1110  Storm dumped more than 2 feet of rain in Beaum...   \n",
       "4        4     1110      Power outages in Houston area down to 75,000.   \n",
       "\n",
       "                                           embedding  cluster  \n",
       "0  [-0.056860456866819634, 0.08809049980619167, -...       -1  \n",
       "1  [-0.011395760571932744, -0.056227716364759636,...       16  \n",
       "2  [-0.058482503044972635, -0.07144808938939251, ...       10  \n",
       "3  [-0.009097628574021573, 0.004168155769721676, ...       12  \n",
       "4  [-0.054019449486435195, 0.0033545723539305603,...        3  "
      ]
     },
     "execution_count": 78,
     "metadata": {},
     "output_type": "execute_result"
    }
   ],
   "source": [
    "print(f\"Unqiue clusters found for facts: {df_facts_clustered['cluster'].unique()}\")\n",
    "df_facts_clustered.head()"
   ]
  },
  {
   "cell_type": "markdown",
   "id": "b01efaba",
   "metadata": {},
   "source": [
    "Each fact cluster represents a specific sentiment or message or topic. The -1's indicate data that have no clusters, can be outliers and unique info not shared across documents \n",
    "\n",
    "the one below emphasises on the amount of money that went to different things. Cluster labels can change as well but does not matter as this is a one off thing and the clusters remain the same just the number changes "
   ]
  },
  {
   "cell_type": "code",
   "execution_count": 152,
   "id": "40bbc311",
   "metadata": {},
   "outputs": [
    {
     "data": {
      "text/plain": [
       "['$81 billion emergency aid bill passed by House.',\n",
       " '$27.6 billion allocated for FEMA.',\n",
       " '$26.1 billion for Community Development Block Grants.',\n",
       " '$12.11 billion for Army Corps of Engineers.',\n",
       " 'Congress may spend a record $133 billion on natural disasters this year.']"
      ]
     },
     "execution_count": 152,
     "metadata": {},
     "output_type": "execute_result"
    }
   ],
   "source": [
    "# for i in df_facts_clustered['cluster'].unique():\n",
    "list_of_fact = df_facts_clustered[df_facts_clustered['cluster'] == 1]['text'].to_list()\n",
    "list_of_fact"
   ]
  },
  {
   "cell_type": "markdown",
   "id": "2b7a5001",
   "metadata": {},
   "source": [
    "## Fact Organization\n",
    "\n",
    "Now that we have the clusters, it is easier for the LLM to focus on certain facts at a time. Here we instructed it to extract statements that are either on similarity, contradiction or standalone. Then color code them based on the sentiment they bring (code:n/g/r). A reference number to their article was also given to allow the LLM to link the topics to the original articles\n",
    "\n",
    "Color coding is very helpful as it would help the operator see anomalies (contradictions) and not have to read the entire thing when there are so many facts"
   ]
  },
  {
   "cell_type": "code",
   "execution_count": 4,
   "id": "48155b9e",
   "metadata": {},
   "outputs": [
    {
     "data": {
      "text/plain": [
       "{'central topic': 'Emergency aid bill approval',\n",
       " 'claims': ['code:g ref:1107 states that an $81 billion emergency aid bill was passed by the House.']}"
      ]
     },
     "execution_count": 4,
     "metadata": {},
     "output_type": "execute_result"
    }
   ],
   "source": [
    "system_prompt = \"\"\"\n",
    "You are a precise fact analysis assistant. You are given a group of factual claims in the <claims> tag from multiple sources that all relate to the same topic cluster.\n",
    "\n",
    "Your task is to:\n",
    "- Output a valid JSON object using double quotes.\n",
    "- Write the \"central topic\" that summarizes the subject of the cluster.\n",
    "- Group all claims into the fewest possible contradiction or agreement statements.\n",
    "- Every claim must be used exactly once.\n",
    "- Avoid atomic or overly granular statements. Instead, group claims with the same intent into a **single code:g** or **code:r** line.\n",
    "- If numeric values (e.g. deaths, wind speeds) vary, list all values clearly in one **code:r** sentence.\n",
    "- Use **code:g** if claims agree in meaning or outcome, even if phrasing differs.\n",
    "- Use **code:r** if claims present **contradictory numbers or incompatible facts** about the same thing Contradictory claims (code:r), only if they come from different references\n",
    "- Do NOT output individual fact summaries or lines with only one ref unless it’s a unique standalone detail.\n",
    "- Do not restate claims that are already included in another code:g or code:r statement.\n",
    "- Use each reference only once in the claims section. Do not repeat the same source across multiple comparison entries.\n",
    "- Choose the best grouping: if a source contributes to both support and contradiction, prefer grouping it in the contradiction unless it’s a unique point.\n",
    "- Group similar references to a topic together.\n",
    "\n",
    "\n",
    "<example>\n",
    "Claims:\n",
    "\"A loan of 80Mil was made ref:1107\"\n",
    "\"A loan of 80 million dollars was made ref:1108\"\n",
    "\"A loan was not made ref:1109\"\n",
    "\n",
    "{\n",
    "  \"central topic\": \"Loan approval and funding\",\n",
    "  \"claims\": [\n",
    "    \"code:g ref:1107, ref:1108 state that a loan of 80 million was made.\",\n",
    "    \"code:r ref:1107, ref:1108, ref:1109 show contradiction on whether a loan was made, with 1107 and 1108 affirming it, and 1109 denying it.\"\n",
    "  ]\n",
    "}\n",
    "</example>\n",
    "\n",
    "\n",
    "\n",
    "\"\"\"\n",
    "\n",
    "sum_gpt = set_role(system_prompt, set_json=True)\n",
    "sum_gpt(\"<claims>$81 billion emergency aid bill passed by the House. [ID 1107].</claims>\")"
   ]
  },
  {
   "cell_type": "code",
   "execution_count": 268,
   "id": "292afeb8",
   "metadata": {},
   "outputs": [
    {
     "data": {
      "text/html": [
       "<div>\n",
       "<style scoped>\n",
       "    .dataframe tbody tr th:only-of-type {\n",
       "        vertical-align: middle;\n",
       "    }\n",
       "\n",
       "    .dataframe tbody tr th {\n",
       "        vertical-align: top;\n",
       "    }\n",
       "\n",
       "    .dataframe thead th {\n",
       "        text-align: right;\n",
       "    }\n",
       "</style>\n",
       "<table border=\"1\" class=\"dataframe\">\n",
       "  <thead>\n",
       "    <tr style=\"text-align: right;\">\n",
       "      <th></th>\n",
       "      <th>fact_id</th>\n",
       "      <th>article</th>\n",
       "      <th>text</th>\n",
       "      <th>embedding</th>\n",
       "      <th>cluster</th>\n",
       "      <th>format</th>\n",
       "    </tr>\n",
       "  </thead>\n",
       "  <tbody>\n",
       "    <tr>\n",
       "      <th>4</th>\n",
       "      <td>4</td>\n",
       "      <td>1110</td>\n",
       "      <td>Power outages in Houston area down to 75,000.</td>\n",
       "      <td>[-0.054019449486435195, 0.0033545723539305603, -0.04658672392104268, 0.011920405077334176, 0.026038092627688504, 0.018466357849481176, 0.011556990887597408, -0.04244546009855441, -0.01352453842439681, -0.006011732618695522, 0.0030314797766071502, -0.020925999489761222, 0.0043543364658879735, 0.029394027972259252, 0.035633136952664915, -0.04206704137024295, -0.005585822956516535, 0.003794214367998564, 0.04152314151524122, -0.044037962157536886, -0.02582533197736326, -0.0007000191521901712, 0.04217614022610506, 0.012951739628797171, 0.007207828850132316, 0.02232452381282318, 0.014167388512776113, 0.013568999765812995, -0.023729545042414656, -0.05517221826173385, 0.01813745381906943, -0.0515238774198494, -0.006344299075272308, 0.0019163948752587954, 2.093141654955196e-06, -0.03976744938318984, -0.018835249147489175, 0.017238414575723535, -0.05347799342196292, 0.017829104078667224, -0.030469811757944495, -0.030640208405371974, 0.019177409623936065, 0.020298559996614715, -0.01515747106053805, -0.0673229645663081, -0.005838453062127831, 0.004855795018215281, 0.057879386825382004, -0.0012784462213622273, 0.022883213070876627, -0.007456185116284902, 0.021423528791995633, 0.002121011342187534, -0.005634494341792623, 0.08820582519275977, -0.019439088925690434, 0.0174863624569115, 0.02893592900670013, -0.08201394544456814, 0.0315947880039063, 0.016514385752016594, -0.004470459356877045, 0.003257238663773834, -0.02190673435248348, -0.0033468807933226654, -0.010826606718397712, 0.027900609325787622, 0.018712221430667267, 0.0003114648981183677, 2.8894233053152272e-05, -0.010331135639132084, 0.01438476386663544, -0.025482612707350184, 0.00744586606176267, 0.00884236336116329, -0.06321931872669545, 0.019410882889114595, 0.022686459993577386, 0.0031188387687768075, -0.05672003918716412, 0.008521283372000758, 0.026727466937065823, 0.009840285782658813, 0.002732646523467739, 0.0022169494454127117, 0.0013938895960917516, -0.03283248967597476, -0.03176164748805982, -0.0013754482442543572, -0.01818908075664934, -0.03179798024573322, 0.010193173232931252, -0.022308365365534304, -0.042907537674304774, 0.014351722403066874, -0.0007711920484309622, 0.019255573667974136, 0.023775325136647037, -0.057298368176423774, ...]</td>\n",
       "      <td>3</td>\n",
       "      <td>Power outages in Houston area down to 75,000. ref:1110</td>\n",
       "    </tr>\n",
       "    <tr>\n",
       "      <th>5</th>\n",
       "      <td>5</td>\n",
       "      <td>1110</td>\n",
       "      <td>32,000 outages inaccessible to crews.</td>\n",
       "      <td>[-0.08085642170468596, 0.041858532365538145, -0.0170479774133727, 0.0411620110993189, 0.015479465322490518, 0.013468577793852824, 0.01530794829713195, 0.005482889820688864, -0.024121620239789608, -0.02109971311846817, 0.02317989291067781, 0.036913786816176034, -0.051399727440894216, 0.006652818193465768, 0.020588523185630966, 0.004001020533288116, -0.03144865545469243, -0.025593866170835835, -0.07728009079311036, 0.004059339488406846, -0.047346402899454916, 0.025423631576687967, 0.006210734259681897, 0.006630818491171521, -0.015322146310063785, 0.00643159974094244, 0.0324128649112017, -0.020321544663156884, 0.02525515345695069, -0.01821597701705929, -0.005583062413141582, -0.052075744708903735, -0.0017210746059952966, 0.01684349995012167, 1.7385857863191646e-06, -0.0109480435339147, -0.010326384771696746, 0.0013956608294936716, -0.08548783680611532, 0.0130414732526564, -0.05258584871959738, -0.0633268294387426, 0.0045397235981707255, 0.020438993755372937, 0.0016948235324788642, -0.013689510796001367, 0.010663526344367328, -0.0225954898461517, 0.03118217053319269, 0.049208578699071324, -0.00919582340493025, 0.06183864671548322, -0.003594453052253474, 0.021090791048026254, -0.06240410481582045, -0.048326985007150915, -0.03373583473173522, 0.004199127284341033, 0.011975028789811989, -0.10088814250215998, 0.03371028669036125, 0.05823329206661619, 0.03667330442147569, 0.018792149052507565, -0.02433676134673165, 0.0327516912464432, 0.001912330548053358, 0.012565328057675023, 0.01288161452351828, 0.02760257440460567, -0.007631567923959839, -0.010202467644071605, -0.015168459455750148, -0.03466997364435843, 0.002755928839312349, 0.0022215021749466143, -0.007371526823481771, 0.0615667042435879, -0.024266068373979675, 0.000904543983543902, -0.04209322565899976, 0.018144322919391234, 0.060042974799595014, -0.04512230396428809, -0.001102782458536081, 0.020554026996782482, -0.016729526553823076, 0.005500382387293796, -0.005674528070671394, 0.036918748902952075, -0.03896620201924013, -0.008404009210984841, 0.022997156242040146, -0.0459723593479157, -0.036732752605238554, 0.018662164358188366, 0.019816527536466764, -0.019734502230401928, 0.019029111047805983, -0.06263666724318906, ...]</td>\n",
       "      <td>3</td>\n",
       "      <td>32,000 outages inaccessible to crews. ref:1110</td>\n",
       "    </tr>\n",
       "  </tbody>\n",
       "</table>\n",
       "</div>"
      ],
      "text/plain": [
       "   fact_id  article                                           text  \\\n",
       "4        4     1110  Power outages in Houston area down to 75,000.   \n",
       "5        5     1110          32,000 outages inaccessible to crews.   \n",
       "\n",
       "                                                                                                                                                                                                                                                                                                                                                                                                                                                                                                                                                                                                                                                                                                                                                                                                                                                                                                                                                                                                                                                                                                                                                                                                                                                                                                                                                                                                                                                                                                                                                                                                                                                                                                                                                                                                                                                                                                                                                                                                                                                                                                                                                                                                                                                                                                                  embedding  \\\n",
       "4  [-0.054019449486435195, 0.0033545723539305603, -0.04658672392104268, 0.011920405077334176, 0.026038092627688504, 0.018466357849481176, 0.011556990887597408, -0.04244546009855441, -0.01352453842439681, -0.006011732618695522, 0.0030314797766071502, -0.020925999489761222, 0.0043543364658879735, 0.029394027972259252, 0.035633136952664915, -0.04206704137024295, -0.005585822956516535, 0.003794214367998564, 0.04152314151524122, -0.044037962157536886, -0.02582533197736326, -0.0007000191521901712, 0.04217614022610506, 0.012951739628797171, 0.007207828850132316, 0.02232452381282318, 0.014167388512776113, 0.013568999765812995, -0.023729545042414656, -0.05517221826173385, 0.01813745381906943, -0.0515238774198494, -0.006344299075272308, 0.0019163948752587954, 2.093141654955196e-06, -0.03976744938318984, -0.018835249147489175, 0.017238414575723535, -0.05347799342196292, 0.017829104078667224, -0.030469811757944495, -0.030640208405371974, 0.019177409623936065, 0.020298559996614715, -0.01515747106053805, -0.0673229645663081, -0.005838453062127831, 0.004855795018215281, 0.057879386825382004, -0.0012784462213622273, 0.022883213070876627, -0.007456185116284902, 0.021423528791995633, 0.002121011342187534, -0.005634494341792623, 0.08820582519275977, -0.019439088925690434, 0.0174863624569115, 0.02893592900670013, -0.08201394544456814, 0.0315947880039063, 0.016514385752016594, -0.004470459356877045, 0.003257238663773834, -0.02190673435248348, -0.0033468807933226654, -0.010826606718397712, 0.027900609325787622, 0.018712221430667267, 0.0003114648981183677, 2.8894233053152272e-05, -0.010331135639132084, 0.01438476386663544, -0.025482612707350184, 0.00744586606176267, 0.00884236336116329, -0.06321931872669545, 0.019410882889114595, 0.022686459993577386, 0.0031188387687768075, -0.05672003918716412, 0.008521283372000758, 0.026727466937065823, 0.009840285782658813, 0.002732646523467739, 0.0022169494454127117, 0.0013938895960917516, -0.03283248967597476, -0.03176164748805982, -0.0013754482442543572, -0.01818908075664934, -0.03179798024573322, 0.010193173232931252, -0.022308365365534304, -0.042907537674304774, 0.014351722403066874, -0.0007711920484309622, 0.019255573667974136, 0.023775325136647037, -0.057298368176423774, ...]   \n",
       "5                         [-0.08085642170468596, 0.041858532365538145, -0.0170479774133727, 0.0411620110993189, 0.015479465322490518, 0.013468577793852824, 0.01530794829713195, 0.005482889820688864, -0.024121620239789608, -0.02109971311846817, 0.02317989291067781, 0.036913786816176034, -0.051399727440894216, 0.006652818193465768, 0.020588523185630966, 0.004001020533288116, -0.03144865545469243, -0.025593866170835835, -0.07728009079311036, 0.004059339488406846, -0.047346402899454916, 0.025423631576687967, 0.006210734259681897, 0.006630818491171521, -0.015322146310063785, 0.00643159974094244, 0.0324128649112017, -0.020321544663156884, 0.02525515345695069, -0.01821597701705929, -0.005583062413141582, -0.052075744708903735, -0.0017210746059952966, 0.01684349995012167, 1.7385857863191646e-06, -0.0109480435339147, -0.010326384771696746, 0.0013956608294936716, -0.08548783680611532, 0.0130414732526564, -0.05258584871959738, -0.0633268294387426, 0.0045397235981707255, 0.020438993755372937, 0.0016948235324788642, -0.013689510796001367, 0.010663526344367328, -0.0225954898461517, 0.03118217053319269, 0.049208578699071324, -0.00919582340493025, 0.06183864671548322, -0.003594453052253474, 0.021090791048026254, -0.06240410481582045, -0.048326985007150915, -0.03373583473173522, 0.004199127284341033, 0.011975028789811989, -0.10088814250215998, 0.03371028669036125, 0.05823329206661619, 0.03667330442147569, 0.018792149052507565, -0.02433676134673165, 0.0327516912464432, 0.001912330548053358, 0.012565328057675023, 0.01288161452351828, 0.02760257440460567, -0.007631567923959839, -0.010202467644071605, -0.015168459455750148, -0.03466997364435843, 0.002755928839312349, 0.0022215021749466143, -0.007371526823481771, 0.0615667042435879, -0.024266068373979675, 0.000904543983543902, -0.04209322565899976, 0.018144322919391234, 0.060042974799595014, -0.04512230396428809, -0.001102782458536081, 0.020554026996782482, -0.016729526553823076, 0.005500382387293796, -0.005674528070671394, 0.036918748902952075, -0.03896620201924013, -0.008404009210984841, 0.022997156242040146, -0.0459723593479157, -0.036732752605238554, 0.018662164358188366, 0.019816527536466764, -0.019734502230401928, 0.019029111047805983, -0.06263666724318906, ...]   \n",
       "\n",
       "   cluster                                                  format  \n",
       "4        3  Power outages in Houston area down to 75,000. ref:1110  \n",
       "5        3          32,000 outages inaccessible to crews. ref:1110  "
      ]
     },
     "execution_count": 268,
     "metadata": {},
     "output_type": "execute_result"
    }
   ],
   "source": [
    "filtered_facts = df_facts_clustered[df_facts_clustered['cluster'] == 3].copy()\n",
    "filtered_facts.loc[:, 'format'] = filtered_facts.apply(\n",
    "    lambda row: f\"{row['text']} ref:{row['article']}\", axis=1\n",
    ")\n",
    "filtered_facts\n"
   ]
  },
  {
   "cell_type": "markdown",
   "id": "6a86024b",
   "metadata": {},
   "source": [
    "only non -1 clusters are processed and sent to the LLM as they have content to compare, we can save time by ignoring the -1's and cleaning it ourselves "
   ]
  },
  {
   "cell_type": "code",
   "execution_count": 269,
   "id": "11c43fb0",
   "metadata": {},
   "outputs": [
    {
     "name": "stdout",
     "output_type": "stream",
     "text": [
      "Harvey made landfall near Cameron, Louisiana. ref:1110\n",
      "Tropical Storm Harvey made landfall in southwestern Louisiana. ref:1114\n",
      "Maximum sustained winds of 35 mph. ref:1110\n",
      "Maximum sustained winds of Harvey were 45 mph. ref:1114\n",
      "Harvey was a Category 4 storm with 130 mph winds. ref:2037\n",
      "Storm dumped more than 2 feet of rain in Beaumont-Port Arthur area. ref:1110\n",
      "15 inches of rain in Beaumont area. ref:1112\n",
      "26 inches of rain in 24 hours in Beaumont and Port Arthur. ref:1112\n",
      "52 inches of rain in parts of Texas. ref:1112\n",
      "Surrounding areas received 10 to 20 inches of rain. ref:1113\n",
      "Another 10 to 15 inches of rain is still possible. ref:1113\n",
      "Rainfall exceeded 4 inches per hour. ref:2037\n",
      "Houston experienced more than 20 inches of rain in 24 hours. ref:2038\n",
      "Power outages in Houston area down to 75,000. ref:1110\n",
      "32,000 outages inaccessible to crews. ref:1110\n",
      "Houston Fire Department received about 15,000 calls for assistance. ref:1110\n",
      "Houston Police received 60,000 to 70,000 calls for help. ref:1112\n",
      "Houston received about 6,000 rescue calls and over 56,000 911 calls. ref:2038\n",
      "Coast Guard taking more than 1,000 calls per hour for rescues. ref:1110\n",
      "The Coast Guard received over 300 requests for help. ref:2037\n",
      "At least 31 deaths reported due to the storm. ref:1110\n",
      "37 deaths reported in Texas related to Hurricane Harvey. ref:1112\n",
      "One person died in Aransas County during the storm. ref:2037\n",
      "Two deaths were reported due to the storm. ref:2038\n",
      "24,000 National Guard troops deployed in Texas. ref:1110\n",
      "671 members of the National Guard activated in Louisiana. ref:1113\n",
      "Texas Governor Greg Abbott activated 4,000 National Guard members. ref:2038\n",
      "FEMA operating more than 230 shelters in Texas. ref:1110\n",
      "269 people are currently in shelters in southwest Louisiana. ref:1113\n",
      "More than 17,000 people sought refuge in Texas shelters. ref:1114\n",
      "Tropical Depression Harvey affected Texas and Louisiana. ref:1112\n",
      "Hurricane Harvey caused catastrophic flooding in Texas and southwest Louisiana. ref:1113\n",
      "Hurricane Harvey caused rising floodwaters in Houston. ref:2037\n",
      "Hurricane Harvey caused historic rains and devastating flooding across East Texas. ref:2038\n",
      "Thousands stranded in flooded homes. ref:1112\n",
      "2,500 homes flooded near Houston's reservoirs. ref:1112\n",
      "19 deaths in Harris County. ref:1112\n",
      "At least 18 dead in Houston area. ref:1114\n",
      "74 bedridden patients evacuated from Lake Arthur Place nursing home. ref:1112\n",
      "Residents evacuated homes near Addicks Reservoir. ref:4040\n",
      "9,000 to 10,000 people rescued in Houston region. ref:1112\n",
      "13,000 people rescued in Southeast Texas. ref:1114\n",
      "Houston's largest shelter housed 10,000 displaced individuals. ref:1114\n",
      "Houston Mayor Sylvester Turner requested supplies for an additional 10,000 people. ref:1114\n",
      "$81 billion emergency aid bill passed by House. ref:4040\n",
      "$27.6 billion allocated for FEMA. ref:4040\n",
      "$26.1 billion for Community Development Block Grants. ref:4040\n",
      "$12.11 billion for Army Corps of Engineers. ref:4040\n",
      "Congress may spend a record $133 billion on natural disasters this year. ref:4040\n",
      "House bill passed on a 251-169 vote. ref:4040\n",
      "69 Democrats supported the House bill. ref:4040\n"
     ]
    }
   ],
   "source": [
    "cluster_ids = df_facts_clustered[df_facts_clustered['cluster'] > -1]['cluster'].unique()\n",
    "responses = []\n",
    "for i in cluster_ids:\n",
    "    filtered_facts = df_facts_clustered[df_facts_clustered['cluster'] == i].copy()\n",
    "    filtered_facts.loc[:, 'format'] = filtered_facts.apply(\n",
    "        lambda row: f\"{row['text']} ref:{row['article']}\", axis=1\n",
    "    )\n",
    "\n",
    "    list_of_fact = filtered_facts['format'].to_list()\n",
    "    string_of_fact = '\\n'.join(list_of_fact)\n",
    "    print(string_of_fact)\n",
    "    prompt = f\"\"\"\n",
    "    <claims>\n",
    "    {string_of_fact}\n",
    "    </claims>\n",
    "    \"\"\"\n",
    "    response = sum_gpt(prompt)\n",
    "    response['cluster'] = i\n",
    "    responses.append(response)\n",
    "    \n"
   ]
  },
  {
   "cell_type": "markdown",
   "id": "c2793830",
   "metadata": {},
   "source": [
    "From the output we use regex to extract the color, extract the references as well and form a data frame, completely changing our unstructed data to a more structured factual table containing similarities, contradictions and stand alone statements"
   ]
  },
  {
   "cell_type": "code",
   "execution_count": 266,
   "id": "bc51fc17",
   "metadata": {},
   "outputs": [
    {
     "data": {
      "text/html": [
       "<div>\n",
       "<style scoped>\n",
       "    .dataframe tbody tr th:only-of-type {\n",
       "        vertical-align: middle;\n",
       "    }\n",
       "\n",
       "    .dataframe tbody tr th {\n",
       "        vertical-align: top;\n",
       "    }\n",
       "\n",
       "    .dataframe thead th {\n",
       "        text-align: right;\n",
       "    }\n",
       "</style>\n",
       "<table border=\"1\" class=\"dataframe\">\n",
       "  <thead>\n",
       "    <tr style=\"text-align: right;\">\n",
       "      <th></th>\n",
       "      <th>cluster_id</th>\n",
       "      <th>central_topic</th>\n",
       "      <th>ref_ids</th>\n",
       "      <th>code</th>\n",
       "      <th>claim</th>\n",
       "    </tr>\n",
       "  </thead>\n",
       "  <tbody>\n",
       "    <tr>\n",
       "      <th>0</th>\n",
       "      <td>0</td>\n",
       "      <td>Landfall of Tropical Storm Harvey</td>\n",
       "      <td>[1110, 1114]</td>\n",
       "      <td>g</td>\n",
       "      <td>ref:1110, ref:1114 state that Tropical Storm Harvey made landfall in Louisiana, specifically near Cameron and in southwestern Louisiana.</td>\n",
       "    </tr>\n",
       "    <tr>\n",
       "      <th>1</th>\n",
       "      <td>1</td>\n",
       "      <td>Hurricane Harvey wind speeds</td>\n",
       "      <td>[1110, 2037, 1114]</td>\n",
       "      <td>r</td>\n",
       "      <td>ref:1110, ref:1114, ref:2037 present contradictory information about Hurricane Harvey's maximum sustained winds, with claims of 35 mph, 45 mph, and 130 mph respectively.</td>\n",
       "    </tr>\n",
       "    <tr>\n",
       "      <th>2</th>\n",
       "      <td>2</td>\n",
       "      <td>Rainfall amounts during a storm in Texas</td>\n",
       "      <td>[1110, 1112, 2038]</td>\n",
       "      <td>r</td>\n",
       "      <td>ref:1110, ref:1112, ref:2038 show contradictions in reported rainfall amounts, with ref:1110 stating more than 2 feet, ref:1112 reporting 15 inches and 26 inches, and ref:2038 indicating more than 20 inches in Houston.</td>\n",
       "    </tr>\n",
       "    <tr>\n",
       "      <th>3</th>\n",
       "      <td>2</td>\n",
       "      <td>Rainfall amounts during a storm in Texas</td>\n",
       "      <td>[1112, 1113]</td>\n",
       "      <td>g</td>\n",
       "      <td>ref:1112, ref:1113 indicate that surrounding areas received 10 to 20 inches of rain and that another 10 to 15 inches is still possible.</td>\n",
       "    </tr>\n",
       "    <tr>\n",
       "      <th>4</th>\n",
       "      <td>2</td>\n",
       "      <td>Rainfall amounts during a storm in Texas</td>\n",
       "      <td>[1112, 2037]</td>\n",
       "      <td>g</td>\n",
       "      <td>ref:1112, ref:2037 state that rainfall exceeded 4 inches per hour.</td>\n",
       "    </tr>\n",
       "    <tr>\n",
       "      <th>5</th>\n",
       "      <td>3</td>\n",
       "      <td>Power outages in Houston area</td>\n",
       "      <td>[1110]</td>\n",
       "      <td>r</td>\n",
       "      <td>ref:1110 show contradictory information regarding power outages in the Houston area, with one stating outages are down to 75,000 and another indicating that 32,000 outages are inaccessible to crews.</td>\n",
       "    </tr>\n",
       "    <tr>\n",
       "      <th>6</th>\n",
       "      <td>4</td>\n",
       "      <td>Emergency calls in Houston</td>\n",
       "      <td>[1110, 2038]</td>\n",
       "      <td>g</td>\n",
       "      <td>ref:1110, ref:2038 state that Houston Fire Department received about 15,000 calls for assistance, while Houston received about 6,000 rescue calls and over 56,000 911 calls.</td>\n",
       "    </tr>\n",
       "    <tr>\n",
       "      <th>7</th>\n",
       "      <td>4</td>\n",
       "      <td>Emergency calls in Houston</td>\n",
       "      <td>[1112, 2038]</td>\n",
       "      <td>r</td>\n",
       "      <td>ref:1112, ref:2038 show contradiction in the number of calls received by the Houston Police, with ref:1112 stating 60,000 to 70,000 calls, while ref:2038 does not specify a number for police calls.</td>\n",
       "    </tr>\n",
       "    <tr>\n",
       "      <th>8</th>\n",
       "      <td>5</td>\n",
       "      <td>Coast Guard rescue operations</td>\n",
       "      <td>[1110, 2037]</td>\n",
       "      <td>r</td>\n",
       "      <td>ref:1110, ref:2037 present contradictory information about the number of calls for rescues, with ref:1110 stating more than 1,000 calls per hour and ref:2037 stating over 300 requests for help.</td>\n",
       "    </tr>\n",
       "    <tr>\n",
       "      <th>9</th>\n",
       "      <td>6</td>\n",
       "      <td>Casualties from Hurricane Harvey</td>\n",
       "      <td>[2038, 1110, 1112, 2037]</td>\n",
       "      <td>r</td>\n",
       "      <td>ref:1110, ref:1112, ref:2037, ref:2038 present contradictory reports on the number of deaths due to the storm, with claims of at least 31 deaths, 37 deaths in Texas, one death in Aransas County, and two deaths reported.</td>\n",
       "    </tr>\n",
       "    <tr>\n",
       "      <th>10</th>\n",
       "      <td>7</td>\n",
       "      <td>National Guard troop deployments</td>\n",
       "      <td>[1110, 2038]</td>\n",
       "      <td>g</td>\n",
       "      <td>ref:1110, ref:2038 state that National Guard troops have been deployed in Texas, with 24,000 troops mentioned in ref:1110 and 4,000 members activated by Governor Greg Abbott in ref:2038.</td>\n",
       "    </tr>\n",
       "    <tr>\n",
       "      <th>11</th>\n",
       "      <td>7</td>\n",
       "      <td>National Guard troop deployments</td>\n",
       "      <td>[1110, 2038, 1113]</td>\n",
       "      <td>r</td>\n",
       "      <td>ref:1110, ref:1113, ref:2038 show contradiction in the number of National Guard members activated, with ref:1110 stating 24,000 in Texas, ref:2038 stating 4,000 in Texas, and ref:1113 stating 671 in Louisiana.</td>\n",
       "    </tr>\n",
       "    <tr>\n",
       "      <th>12</th>\n",
       "      <td>8</td>\n",
       "      <td>Shelter operations in Texas and Louisiana</td>\n",
       "      <td>[1110, 1114]</td>\n",
       "      <td>g</td>\n",
       "      <td>ref:1110, ref:1114 state that FEMA is operating shelters in Texas, with more than 17,000 people seeking refuge.</td>\n",
       "    </tr>\n",
       "    <tr>\n",
       "      <th>13</th>\n",
       "      <td>8</td>\n",
       "      <td>Shelter operations in Texas and Louisiana</td>\n",
       "      <td>[1110, 1113]</td>\n",
       "      <td>r</td>\n",
       "      <td>ref:1110, ref:1113 show contradiction in the number of people in shelters, with 269 people reported in Louisiana and more than 17,000 in Texas.</td>\n",
       "    </tr>\n",
       "    <tr>\n",
       "      <th>14</th>\n",
       "      <td>9</td>\n",
       "      <td>Impact of Hurricane Harvey</td>\n",
       "      <td>[2038, 1112, 2037, 1113]</td>\n",
       "      <td>g</td>\n",
       "      <td>ref:1112, ref:1113, ref:2037, ref:2038 collectively state that Hurricane Harvey affected Texas and Louisiana, causing catastrophic flooding, rising floodwaters in Houston, and historic rains across East Texas.</td>\n",
       "    </tr>\n",
       "    <tr>\n",
       "      <th>15</th>\n",
       "      <td>10</td>\n",
       "      <td>Flooding near Houston</td>\n",
       "      <td>[1112]</td>\n",
       "      <td>g</td>\n",
       "      <td>ref:1112 state that thousands are stranded in flooded homes and that 2,500 homes are flooded near Houston's reservoirs.</td>\n",
       "    </tr>\n",
       "    <tr>\n",
       "      <th>16</th>\n",
       "      <td>11</td>\n",
       "      <td>Casualties in Harris County</td>\n",
       "      <td>[1112, 1114]</td>\n",
       "      <td>r</td>\n",
       "      <td>ref:1112, ref:1114 show contradiction in reported deaths, with 19 deaths reported in Harris County and at least 18 dead in the Houston area.</td>\n",
       "    </tr>\n",
       "    <tr>\n",
       "      <th>17</th>\n",
       "      <td>12</td>\n",
       "      <td>Evacuations due to emergency situations</td>\n",
       "      <td>[1112]</td>\n",
       "      <td>g</td>\n",
       "      <td>ref:1112 states that 74 bedridden patients were evacuated from Lake Arthur Place nursing home.</td>\n",
       "    </tr>\n",
       "    <tr>\n",
       "      <th>18</th>\n",
       "      <td>12</td>\n",
       "      <td>Evacuations due to emergency situations</td>\n",
       "      <td>[4040]</td>\n",
       "      <td>g</td>\n",
       "      <td>ref:4040 states that residents were evacuated from homes near Addicks Reservoir.</td>\n",
       "    </tr>\n",
       "    <tr>\n",
       "      <th>19</th>\n",
       "      <td>13</td>\n",
       "      <td>Rescue operations in Texas</td>\n",
       "      <td>[1112, 1114]</td>\n",
       "      <td>r</td>\n",
       "      <td>ref:1112, ref:1114 present contradictory numbers regarding the number of people rescued, with 1112 stating 9,000 to 10,000 rescues in the Houston region and 1114 stating 13,000 rescues in Southeast Texas.</td>\n",
       "    </tr>\n",
       "    <tr>\n",
       "      <th>20</th>\n",
       "      <td>14</td>\n",
       "      <td>Displacement and shelter capacity in Houston</td>\n",
       "      <td>[1114]</td>\n",
       "      <td>g</td>\n",
       "      <td>ref:1114 states that Houston's largest shelter housed 10,000 displaced individuals and that Mayor Sylvester Turner requested supplies for an additional 10,000 people.</td>\n",
       "    </tr>\n",
       "    <tr>\n",
       "      <th>21</th>\n",
       "      <td>15</td>\n",
       "      <td>Emergency aid funding for natural disasters</td>\n",
       "      <td>[4040]</td>\n",
       "      <td>g</td>\n",
       "      <td>ref:4040 states that an $81 billion emergency aid bill was passed by the House, which includes allocations of $27.6 billion for FEMA, $26.1 billion for Community Development Block Grants, and $12.11 billion for the Army Corps of Engineers.</td>\n",
       "    </tr>\n",
       "    <tr>\n",
       "      <th>22</th>\n",
       "      <td>15</td>\n",
       "      <td>Emergency aid funding for natural disasters</td>\n",
       "      <td>[4040]</td>\n",
       "      <td>r</td>\n",
       "      <td>ref:4040 indicates a potential record spending of $133 billion on natural disasters this year, which contradicts the total of $81 billion in the emergency aid bill.</td>\n",
       "    </tr>\n",
       "    <tr>\n",
       "      <th>23</th>\n",
       "      <td>16</td>\n",
       "      <td>House bill voting results</td>\n",
       "      <td>[4040]</td>\n",
       "      <td>g</td>\n",
       "      <td>ref:4040 state that the House bill passed with a vote of 251-169, and that 69 Democrats supported the bill.</td>\n",
       "    </tr>\n",
       "  </tbody>\n",
       "</table>\n",
       "</div>"
      ],
      "text/plain": [
       "    cluster_id                                 central_topic  \\\n",
       "0            0             Landfall of Tropical Storm Harvey   \n",
       "1            1                  Hurricane Harvey wind speeds   \n",
       "2            2      Rainfall amounts during a storm in Texas   \n",
       "3            2      Rainfall amounts during a storm in Texas   \n",
       "4            2      Rainfall amounts during a storm in Texas   \n",
       "5            3                 Power outages in Houston area   \n",
       "6            4                    Emergency calls in Houston   \n",
       "7            4                    Emergency calls in Houston   \n",
       "8            5                 Coast Guard rescue operations   \n",
       "9            6              Casualties from Hurricane Harvey   \n",
       "10           7              National Guard troop deployments   \n",
       "11           7              National Guard troop deployments   \n",
       "12           8     Shelter operations in Texas and Louisiana   \n",
       "13           8     Shelter operations in Texas and Louisiana   \n",
       "14           9                    Impact of Hurricane Harvey   \n",
       "15          10                         Flooding near Houston   \n",
       "16          11                   Casualties in Harris County   \n",
       "17          12       Evacuations due to emergency situations   \n",
       "18          12       Evacuations due to emergency situations   \n",
       "19          13                    Rescue operations in Texas   \n",
       "20          14  Displacement and shelter capacity in Houston   \n",
       "21          15   Emergency aid funding for natural disasters   \n",
       "22          15   Emergency aid funding for natural disasters   \n",
       "23          16                     House bill voting results   \n",
       "\n",
       "                     ref_ids code  \\\n",
       "0               [1110, 1114]    g   \n",
       "1         [1110, 2037, 1114]    r   \n",
       "2         [1110, 1112, 2038]    r   \n",
       "3               [1112, 1113]    g   \n",
       "4               [1112, 2037]    g   \n",
       "5                     [1110]    r   \n",
       "6               [1110, 2038]    g   \n",
       "7               [1112, 2038]    r   \n",
       "8               [1110, 2037]    r   \n",
       "9   [2038, 1110, 1112, 2037]    r   \n",
       "10              [1110, 2038]    g   \n",
       "11        [1110, 2038, 1113]    r   \n",
       "12              [1110, 1114]    g   \n",
       "13              [1110, 1113]    r   \n",
       "14  [2038, 1112, 2037, 1113]    g   \n",
       "15                    [1112]    g   \n",
       "16              [1112, 1114]    r   \n",
       "17                    [1112]    g   \n",
       "18                    [4040]    g   \n",
       "19              [1112, 1114]    r   \n",
       "20                    [1114]    g   \n",
       "21                    [4040]    g   \n",
       "22                    [4040]    r   \n",
       "23                    [4040]    g   \n",
       "\n",
       "                                                                                                                                                                                                                                              claim  \n",
       "0                                                                                                          ref:1110, ref:1114 state that Tropical Storm Harvey made landfall in Louisiana, specifically near Cameron and in southwestern Louisiana.  \n",
       "1                                                                         ref:1110, ref:1114, ref:2037 present contradictory information about Hurricane Harvey's maximum sustained winds, with claims of 35 mph, 45 mph, and 130 mph respectively.  \n",
       "2                        ref:1110, ref:1112, ref:2038 show contradictions in reported rainfall amounts, with ref:1110 stating more than 2 feet, ref:1112 reporting 15 inches and 26 inches, and ref:2038 indicating more than 20 inches in Houston.  \n",
       "3                                                                                                           ref:1112, ref:1113 indicate that surrounding areas received 10 to 20 inches of rain and that another 10 to 15 inches is still possible.  \n",
       "4                                                                                                                                                                                ref:1112, ref:2037 state that rainfall exceeded 4 inches per hour.  \n",
       "5                                            ref:1110 show contradictory information regarding power outages in the Houston area, with one stating outages are down to 75,000 and another indicating that 32,000 outages are inaccessible to crews.  \n",
       "6                                                                      ref:1110, ref:2038 state that Houston Fire Department received about 15,000 calls for assistance, while Houston received about 6,000 rescue calls and over 56,000 911 calls.  \n",
       "7                                             ref:1112, ref:2038 show contradiction in the number of calls received by the Houston Police, with ref:1112 stating 60,000 to 70,000 calls, while ref:2038 does not specify a number for police calls.  \n",
       "8                                                 ref:1110, ref:2037 present contradictory information about the number of calls for rescues, with ref:1110 stating more than 1,000 calls per hour and ref:2037 stating over 300 requests for help.  \n",
       "9                       ref:1110, ref:1112, ref:2037, ref:2038 present contradictory reports on the number of deaths due to the storm, with claims of at least 31 deaths, 37 deaths in Texas, one death in Aransas County, and two deaths reported.  \n",
       "10                                                       ref:1110, ref:2038 state that National Guard troops have been deployed in Texas, with 24,000 troops mentioned in ref:1110 and 4,000 members activated by Governor Greg Abbott in ref:2038.  \n",
       "11                                ref:1110, ref:1113, ref:2038 show contradiction in the number of National Guard members activated, with ref:1110 stating 24,000 in Texas, ref:2038 stating 4,000 in Texas, and ref:1113 stating 671 in Louisiana.  \n",
       "12                                                                                                                                  ref:1110, ref:1114 state that FEMA is operating shelters in Texas, with more than 17,000 people seeking refuge.  \n",
       "13                                                                                                  ref:1110, ref:1113 show contradiction in the number of people in shelters, with 269 people reported in Louisiana and more than 17,000 in Texas.  \n",
       "14                                ref:1112, ref:1113, ref:2037, ref:2038 collectively state that Hurricane Harvey affected Texas and Louisiana, causing catastrophic flooding, rising floodwaters in Houston, and historic rains across East Texas.  \n",
       "15                                                                                                                          ref:1112 state that thousands are stranded in flooded homes and that 2,500 homes are flooded near Houston's reservoirs.  \n",
       "16                                                                                                     ref:1112, ref:1114 show contradiction in reported deaths, with 19 deaths reported in Harris County and at least 18 dead in the Houston area.  \n",
       "17                                                                                                                                                   ref:1112 states that 74 bedridden patients were evacuated from Lake Arthur Place nursing home.  \n",
       "18                                                                                                                                                                 ref:4040 states that residents were evacuated from homes near Addicks Reservoir.  \n",
       "19                                     ref:1112, ref:1114 present contradictory numbers regarding the number of people rescued, with 1112 stating 9,000 to 10,000 rescues in the Houston region and 1114 stating 13,000 rescues in Southeast Texas.  \n",
       "20                                                                           ref:1114 states that Houston's largest shelter housed 10,000 displaced individuals and that Mayor Sylvester Turner requested supplies for an additional 10,000 people.  \n",
       "21  ref:4040 states that an $81 billion emergency aid bill was passed by the House, which includes allocations of $27.6 billion for FEMA, $26.1 billion for Community Development Block Grants, and $12.11 billion for the Army Corps of Engineers.  \n",
       "22                                                                             ref:4040 indicates a potential record spending of $133 billion on natural disasters this year, which contradicts the total of $81 billion in the emergency aid bill.  \n",
       "23                                                                                                                                      ref:4040 state that the House bill passed with a vote of 251-169, and that 69 Democrats supported the bill.  "
      ]
     },
     "execution_count": 266,
     "metadata": {},
     "output_type": "execute_result"
    }
   ],
   "source": [
    "import pandas as pd\n",
    "import re\n",
    "\n",
    "pd.set_option('display.max_colwidth', None)\n",
    "\n",
    "rows = []\n",
    "\n",
    "for i, item in enumerate(responses):\n",
    "    topic = item['central topic']\n",
    "    for claim in item['claims']:\n",
    "        # Extract the code marker at the start\n",
    "        code_match = re.match(r'code:([grn])\\s+', claim, flags=re.IGNORECASE)\n",
    "        code = code_match.group(1) if code_match else None\n",
    "\n",
    "        # Extract all ref:<id> patterns\n",
    "        refs = list(set(re.findall(r'ref:(\\d+)', claim, flags=re.IGNORECASE)))\n",
    "\n",
    "        # Remove both code and ref patterns for clean text\n",
    "        clean_text = re.sub(r'code:[grn]\\s+', '', claim, flags=re.IGNORECASE)\n",
    "\n",
    "        rows.append({\n",
    "            'cluster_id': i,\n",
    "            'central_topic': topic,\n",
    "            'ref_ids': refs,\n",
    "            'code': code,\n",
    "            'claim': clean_text\n",
    "        })\n",
    "\n",
    "final_df = pd.DataFrame(rows)\n",
    "\n",
    "final_df"
   ]
  },
  {
   "cell_type": "markdown",
   "id": "163ab2bd",
   "metadata": {},
   "source": [
    "And we also have the original -1's or unclustered info which represent unique information not in any specific group."
   ]
  },
  {
   "cell_type": "code",
   "execution_count": 163,
   "id": "341cce33",
   "metadata": {},
   "outputs": [
    {
     "data": {
      "text/html": [
       "<div>\n",
       "<style scoped>\n",
       "    .dataframe tbody tr th:only-of-type {\n",
       "        vertical-align: middle;\n",
       "    }\n",
       "\n",
       "    .dataframe tbody tr th {\n",
       "        vertical-align: top;\n",
       "    }\n",
       "\n",
       "    .dataframe thead th {\n",
       "        text-align: right;\n",
       "    }\n",
       "</style>\n",
       "<table border=\"1\" class=\"dataframe\">\n",
       "  <thead>\n",
       "    <tr style=\"text-align: right;\">\n",
       "      <th></th>\n",
       "      <th>fact_id</th>\n",
       "      <th>article</th>\n",
       "      <th>text</th>\n",
       "      <th>embedding</th>\n",
       "      <th>cluster</th>\n",
       "    </tr>\n",
       "  </thead>\n",
       "  <tbody>\n",
       "    <tr>\n",
       "      <th>0</th>\n",
       "      <td>0</td>\n",
       "      <td>1110</td>\n",
       "      <td>30,000 to 40,000 homes destroyed in Houston area.</td>\n",
       "      <td>[-0.056860456866819634, 0.08809049980619167, -...</td>\n",
       "      <td>-1</td>\n",
       "    </tr>\n",
       "    <tr>\n",
       "      <th>11</th>\n",
       "      <td>11</td>\n",
       "      <td>1110</td>\n",
       "      <td>George R. Brown Convention Center housing abou...</td>\n",
       "      <td>[-0.040225155486884066, -0.0024642052493685594...</td>\n",
       "      <td>-1</td>\n",
       "    </tr>\n",
       "    <tr>\n",
       "      <th>12</th>\n",
       "      <td>12</td>\n",
       "      <td>1110</td>\n",
       "      <td>Texas accepting resources from Mexico for reli...</td>\n",
       "      <td>[0.024872729992436025, 0.020925637702795312, -...</td>\n",
       "      <td>-1</td>\n",
       "    </tr>\n",
       "    <tr>\n",
       "      <th>13</th>\n",
       "      <td>13</td>\n",
       "      <td>1110</td>\n",
       "      <td>Israeli Rescue Coalition team arriving in Hous...</td>\n",
       "      <td>[-0.01806380278812633, -0.018730933312977836, ...</td>\n",
       "      <td>-1</td>\n",
       "    </tr>\n",
       "    <tr>\n",
       "      <th>20</th>\n",
       "      <td>20</td>\n",
       "      <td>1112</td>\n",
       "      <td>One-third of the Houston area covered in water.</td>\n",
       "      <td>[0.01787723482161884, 0.031090346408651152, -0...</td>\n",
       "      <td>-1</td>\n",
       "    </tr>\n",
       "  </tbody>\n",
       "</table>\n",
       "</div>"
      ],
      "text/plain": [
       "    fact_id  article                                               text  \\\n",
       "0         0     1110  30,000 to 40,000 homes destroyed in Houston area.   \n",
       "11       11     1110  George R. Brown Convention Center housing abou...   \n",
       "12       12     1110  Texas accepting resources from Mexico for reli...   \n",
       "13       13     1110  Israeli Rescue Coalition team arriving in Hous...   \n",
       "20       20     1112    One-third of the Houston area covered in water.   \n",
       "\n",
       "                                            embedding  cluster  \n",
       "0   [-0.056860456866819634, 0.08809049980619167, -...       -1  \n",
       "11  [-0.040225155486884066, -0.0024642052493685594...       -1  \n",
       "12  [0.024872729992436025, 0.020925637702795312, -...       -1  \n",
       "13  [-0.01806380278812633, -0.018730933312977836, ...       -1  \n",
       "20  [0.01787723482161884, 0.031090346408651152, -0...       -1  "
      ]
     },
     "execution_count": 163,
     "metadata": {},
     "output_type": "execute_result"
    }
   ],
   "source": [
    "pd.set_option('display.max_colwidth', 50)\n",
    "df_facts_clustered[df_facts_clustered['cluster'] == -1].head()"
   ]
  },
  {
   "cell_type": "markdown",
   "id": "c6367c6e",
   "metadata": {},
   "source": [
    "## UI Design\n",
    "\n",
    "With these 2 structured tables, we can probably design it like this.\n",
    "\n",
    "https://www.figma.com/design/48vCsCvLT0L3GF4rWK7vFS/UI-Wireframe-OSU?node-id=0-1&p=f&t=YNVEEaOBBAYRSSG3-0"
   ]
  },
  {
   "cell_type": "markdown",
   "id": "5eff8f55",
   "metadata": {},
   "source": [
    "## Possible improvements \n",
    "\n",
    "- We could maybe add the news station inside as better references\n",
    "- An article reference page that allows the user to go to the directed article"
   ]
  },
  {
   "cell_type": "markdown",
   "id": "361820d7",
   "metadata": {},
   "source": [
    "### Tests\n",
    "\n",
    "1 factual side, against misinformation"
   ]
  },
  {
   "cell_type": "code",
   "execution_count": 8,
   "id": "5d086e4a",
   "metadata": {},
   "outputs": [
    {
     "data": {
      "text/plain": [
       "{'central topic': 'Fatalities and circumstances surrounding a plane crash',\n",
       " 'claims': ['code:g ref:1108, ref:1109, ref:1110, ref:1111, ref:1112, ref:1118, ref:1119, ref:1120, ref:1121, ref:1122, ref:1123, ref:1124, ref:1125, ref:1126, ref:1127 state that ten people were confirmed dead in the plane crash.',\n",
       "  'code:r ref:1113, ref:1114, ref:1115, ref:1116, ref:1117, ref:1128, ref:1129, ref:1130, ref:1131, ref:1132, ref:1133, ref:1134, ref:1135, ref:1136, ref:1137 present contradictory claims about the crash, with 1113 stating only 2 deaths, 1114 claiming all 87 passengers died, 1115 asserting no fatalities, 1116 suggesting the crash was a hoax, 1117 reporting five survivors with no deaths, 1128 indicating ten passengers survived, 1130 claiming no human remains were found, 1131 stating the crash reports are false, 1132 saying only crew members were harmed, 1133 suggesting it involved a drone, 1134 ruling out mechanical fault for sabotage, 1135 indicating crash footage is from a different event, 1136 stating the death toll is actually 25, and 1137 claiming reports were fabricated.']}"
      ]
     },
     "execution_count": 8,
     "metadata": {},
     "output_type": "execute_result"
    }
   ],
   "source": [
    "claims = [\n",
    "    \"10 people were found dead in the plane crash. ref:1108\",  # factual\n",
    "    \"Authorities confirmed that ten bodies were recovered from the wreckage. ref:1109\",\n",
    "    \"A total of ten fatalities resulted from the aircraft accident. ref:1110\",\n",
    "    \"The plane crash claimed the lives of 10 individuals. ref:1111\",\n",
    "    \"Emergency responders found 10 deceased passengers at the crash site. ref:1112\",\n",
    "    \"Ten lives were lost following the tragic plane crash. ref:1118\",\n",
    "    \"The aircraft disaster led to 10 confirmed deaths. ref:1119\",\n",
    "    \"Local officials reported that ten people perished in the crash. ref:1120\",\n",
    "    \"Ten casualties have been officially recorded from the aviation incident. ref:1121\",\n",
    "    \"Confirmed death toll in the crash stands at ten. ref:1122\",\n",
    "    \"Ten passengers did not survive the plane crash. ref:1123\",\n",
    "    \"Recovery teams located the remains of ten individuals post-crash. ref:1124\",\n",
    "    \"Ten victims have been identified from the plane wreck. ref:1125\",\n",
    "    \"10 people lost their lives when the plane went down. ref:1126\",\n",
    "    \"The final count lists ten people dead in the crash. ref:1127\",\n",
    "\n",
    "    \"Only 2 people died in the plane crash, contrary to earlier reports. ref:1113\",  # misinfo\n",
    "    \"All 87 passengers aboard the plane died instantly. ref:1114\",\n",
    "    \"No fatalities occurred in the recent plane crash incident. ref:1115\",\n",
    "    \"The crash was a hoax, and no plane actually went down. ref:1116\",\n",
    "    \"Five survivors were rescued, and no one was killed in the crash. ref:1117\",\n",
    "    \"The plane was shot down, not crashed. ref:1128\",\n",
    "    \"Ten passengers survived without injuries. ref:1129\",\n",
    "    \"The crash site had no human remains, only cargo. ref:1130\",\n",
    "    \"The plane landed safely; reports of a crash are false. ref:1131\",\n",
    "    \"Only crew members were harmed, not passengers. ref:1132\",\n",
    "    \"The incident involved a drone, not a commercial aircraft. ref:1133\",\n",
    "    \"A mechanical fault was ruled out; it was sabotage. ref:1134\",\n",
    "    \"Crash footage is from a different event in 2015. ref:1135\",\n",
    "    \"The death toll is actually 25, not 10. ref:1136\",\n",
    "    \"Reports of the crash were fabricated to cover a military exercise. ref:1137\"\n",
    "]\n",
    "\n",
    "\n",
    "str_claims = \"\\n\".join(claims)\n",
    "\n",
    "test = f\"\"\"\n",
    "<claims>\n",
    "{str_claims}\n",
    "</claims>\n",
    "\"\"\"\n",
    "\n",
    "sum_gpt(test)"
   ]
  },
  {
   "cell_type": "markdown",
   "id": "834fa90f",
   "metadata": {},
   "source": [
    "2 consistent sides"
   ]
  },
  {
   "cell_type": "code",
   "execution_count": 9,
   "id": "5b6ecb2c",
   "metadata": {},
   "outputs": [
    {
     "data": {
      "text/plain": [
       "{'central topic': 'Fatalities in the plane crash',\n",
       " 'claims': ['code:g ref:2001, ref:2002, ref:2003, ref:2004, ref:2005, ref:2006, ref:2007, ref:2008, ref:2009, ref:2010, ref:2011, ref:2012, ref:2013, ref:2014, ref:2015, ref:2016, ref:2017, ref:2018, ref:2019, ref:2020 state that five fatalities were confirmed in the plane crash.',\n",
       "  'code:r ref:2021, ref:2022, ref:2023, ref:2024, ref:2025, ref:2026, ref:2027, ref:2028, ref:2029, ref:2030 indicate that 20 fatalities occurred in the incident, contradicting the claims of five deaths.']}"
      ]
     },
     "execution_count": 9,
     "metadata": {},
     "output_type": "execute_result"
    }
   ],
   "source": [
    "claims = [\n",
    "    # 20 claims saying 5 people died\n",
    "    \"5 people were found dead in the plane crash. ref:2001\",\n",
    "    \"Authorities confirmed five bodies were recovered from the crash site. ref:2002\",\n",
    "    \"Only five fatalities occurred in the incident. ref:2003\",\n",
    "    \"Emergency responders reported five deaths. ref:2004\",\n",
    "    \"The plane crash resulted in five confirmed deaths. ref:2005\",\n",
    "    \"Just five victims were identified from the wreckage. ref:2006\",\n",
    "    \"The fatality count currently stands at five. ref:2007\",\n",
    "    \"Officials have announced five deaths in the crash. ref:2008\",\n",
    "    \"Only five passengers lost their lives in the incident. ref:2009\",\n",
    "    \"Five bodies were recovered after the crash. ref:2010\",\n",
    "    \"Five casualties have been recorded so far. ref:2011\",\n",
    "    \"Five lives were lost in the aircraft tragedy. ref:2012\",\n",
    "    \"Crash investigators confirmed five deceased. ref:2013\",\n",
    "    \"Five fatalities have been verified post-crash. ref:2014\",\n",
    "    \"Crash site responders confirmed five dead. ref:2015\",\n",
    "    \"Five people are confirmed dead after the incident. ref:2016\",\n",
    "    \"Reports indicate five victims in the crash. ref:2017\",\n",
    "    \"Medical teams documented five fatalities. ref:2018\",\n",
    "    \"The official toll released today is five. ref:2019\",\n",
    "    \"Government sources confirm only five deaths. ref:2020\",\n",
    "\n",
    "    # 10 claims saying 20 people died\n",
    "    \"20 people died in the plane crash, according to authorities. ref:2021\",\n",
    "    \"The crash claimed 20 lives. ref:2022\",\n",
    "    \"Emergency teams recovered 20 bodies from the wreckage. ref:2023\",\n",
    "    \"Twenty fatalities have been confirmed. ref:2024\",\n",
    "    \"20 individuals were found deceased at the site. ref:2025\",\n",
    "    \"Officials report 20 passengers were killed. ref:2026\",\n",
    "    \"The plane accident led to 20 deaths. ref:2027\",\n",
    "    \"Twenty victims have been listed in the crash report. ref:2028\",\n",
    "    \"Medical examiners identified 20 casualties. ref:2029\",\n",
    "    \"A total of 20 people are believed to have perished. ref:2030\"\n",
    "]\n",
    "\n",
    "\n",
    "str_claims = \"\\n\".join(claims)\n",
    "\n",
    "test = f\"\"\"\n",
    "<claims>\n",
    "{str_claims}\n",
    "</claims>\n",
    "\"\"\"\n",
    "\n",
    "sum_gpt(test)"
   ]
  },
  {
   "cell_type": "markdown",
   "id": "28a23163",
   "metadata": {},
   "source": [
    "### Regex exclusion of reference chain (UX)\n",
    "\n",
    "To improve on user experience but still be able to show the different references in the case of many references being shown, we could try regex extraction of reference chain and include a simple hover over to show the different sources in this chain"
   ]
  },
  {
   "cell_type": "code",
   "execution_count": 16,
   "id": "b1cb53ca",
   "metadata": {},
   "outputs": [
    {
     "name": "stdout",
     "output_type": "stream",
     "text": [
      "These references indicate that 20 fatalities occurred in the incident, contradicting the claims of five deaths.\n"
     ]
    }
   ],
   "source": [
    "import re\n",
    "\n",
    "text = 'ref:2021, ref:2022, ref:2023, ref:2024, ref:2025, ref:2026, ref:2027, ref:2028, ref:2029, ref:2030 indicate that 20 fatalities occurred in the incident, contradicting the claims of five deaths.'\n",
    "\n",
    "# Pattern to find the full chain of refs\n",
    "pattern = r'ref:\\d{4}(?:,\\s*ref:\\d{4})*'\n",
    "\n",
    "# Substitute the matched pattern with an empty string\n",
    "cleaned_text = re.sub(pattern, '', text)\n",
    "\n",
    "# Optionally, remove extra spaces left behind\n",
    "cleaned_text = re.sub(r'\\s{2,}', ' ', cleaned_text).strip()\n",
    "\n",
    "print(\"These references \" + cleaned_text)\n",
    "# Output: \"code:g state that five fatalities were confirmed.\"\n",
    "\n"
   ]
  },
  {
   "cell_type": "code",
   "execution_count": null,
   "id": "ccdaa9d6",
   "metadata": {},
   "outputs": [],
   "source": []
  }
 ],
 "metadata": {
  "kernelspec": {
   "display_name": "env",
   "language": "python",
   "name": "python3"
  },
  "language_info": {
   "codemirror_mode": {
    "name": "ipython",
    "version": 3
   },
   "file_extension": ".py",
   "mimetype": "text/x-python",
   "name": "python",
   "nbconvert_exporter": "python",
   "pygments_lexer": "ipython3",
   "version": "3.11.0"
  }
 },
 "nbformat": 4,
 "nbformat_minor": 5
}
